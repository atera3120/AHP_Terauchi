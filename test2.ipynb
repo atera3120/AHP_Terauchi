{
 "cells": [
  {
   "cell_type": "code",
   "execution_count": 44,
   "metadata": {},
   "outputs": [],
   "source": [
    "# import Pkg\n",
    "# Pkg.add(\"DataFrames\")\n",
    "# Pkg.add(\"CSV\")\n",
    "# Pkg.add(\"IntervalSets\")"
   ]
  },
  {
   "cell_type": "code",
   "execution_count": 45,
   "metadata": {},
   "outputs": [
    {
     "data": {
      "text/plain": [
       "solveIntervalAHP (generic function with 1 method)"
      ]
     },
     "metadata": {},
     "output_type": "display_data"
    }
   ],
   "source": [
    "using DataFrames, CSV\n",
    "using IntervalArithmetic\n",
    "using LaTeXStrings\n",
    "include(\"./src/interval-weight-estimation.jl\")\n",
    "include(\"./src/display/display-crisp-matrix.jl\")\n",
    "include(\"./src/display/display-interval-vector.jl\")\n",
    "include(\"./src/display/display-vector.jl\")\n",
    "include(\"./src/crisp-pcm.jl\")\n",
    "include(\"./src/importance-estimation.jl\")\n",
    "include(\"./src/solve-interval-ahp.jl\")"
   ]
  },
  {
   "cell_type": "code",
   "execution_count": 46,
   "metadata": {},
   "outputs": [],
   "source": [
    "df1 = CSV.File(\"./src/data/N5_a3_A_PCM_int.csv\", header=false) |> DataFrame\n",
    "\n",
    "# データフレームを5×5のサブデータフレームに分割\n",
    "subdfs = split_dataframe(df1, 5)\n",
    "\n",
    "# 分割されたサブデータフレームの表示\n",
    "for (i, subdf) in enumerate(subdfs)\n",
    "    println(\"SubDataFrame $i:\")\n",
    "    println(subdf)\n",
    "    println()\n",
    "end"
   ]
  },
  {
   "cell_type": "code",
   "execution_count": 47,
   "metadata": {},
   "outputs": [
    {
     "ename": "MethodError",
     "evalue": "MethodError: no method matching intervalVectorLaTeXString(::Vector{Interval})\n\nClosest candidates are:\n  intervalVectorLaTeXString(!Matched::Array{Interval{T}, 1}) where T<:Real\n   @ Main /workspaces/AHP_Terauchi/src/display/display-interval-vector.jl:7\n",
     "output_type": "error",
     "traceback": [
      "MethodError: no method matching intervalVectorLaTeXString(::Vector{Interval})\n",
      "\n",
      "Closest candidates are:\n",
      "  intervalVectorLaTeXString(!Matched::Array{Interval{T}, 1}) where T<:Real\n",
      "   @ Main /workspaces/AHP_Terauchi/src/display/display-interval-vector.jl:7\n",
      "\n",
      "\n",
      "Stacktrace:\n",
      " [1] top-level scope\n",
      "   @ /workspaces/AHP_Terauchi/test2.ipynb:9"
     ]
    }
   ],
   "source": [
    "df = CSV.File(\"./src/data/N5_Given_interval_weight.csv\", header=false) |> DataFrame\n",
    "# rename!(df, [\"Column1\", \"Column2\", \"Column3\", \"Column4\", \"Column5\", \"Column6\", \"Column7\", \"Column8\", \"Column9\", \"Column10\"])\n",
    "\n",
    "W = Interval[]\n",
    "for i in 1:5\n",
    "    push!(W, interval(df[1, 2*i-1], df[1, 2*i]))\n",
    "end\n",
    "\n",
    "display(L\"W = %$(intervalVectorLaTeXString(W))\")"
   ]
  },
  {
   "cell_type": "code",
   "execution_count": 48,
   "metadata": {},
   "outputs": [
    {
     "ename": "MethodError",
     "evalue": "MethodError: Cannot `convert` an object of type \n  DataFrame to an object of type \n  Matrix\n\nClosest candidates are:\n  convert(::Type{T}, !Matched::Factorization) where T<:AbstractArray\n   @ LinearAlgebra /opt/julia/share/julia/stdlib/v1.9/LinearAlgebra/src/factorization.jl:59\n  convert(::Type{Matrix}, !Matched::PooledArrays.PooledMatrix{T, R}) where {T, R}\n   @ PooledArrays ~/.julia/packages/PooledArrays/Vy2X0/src/PooledArrays.jl:511\n  convert(::Type{T}, !Matched::AbstractArray) where T<:Array\n   @ Base array.jl:613\n  ...\n",
     "output_type": "error",
     "traceback": [
      "MethodError: Cannot `convert` an object of type \n",
      "  DataFrame to an object of type \n",
      "  Matrix\n",
      "\n",
      "Closest candidates are:\n",
      "  convert(::Type{T}, !Matched::Factorization) where T<:AbstractArray\n",
      "   @ LinearAlgebra /opt/julia/share/julia/stdlib/v1.9/LinearAlgebra/src/factorization.jl:59\n",
      "  convert(::Type{Matrix}, !Matched::PooledArrays.PooledMatrix{T, R}) where {T, R}\n",
      "   @ PooledArrays ~/.julia/packages/PooledArrays/Vy2X0/src/PooledArrays.jl:511\n",
      "  convert(::Type{T}, !Matched::AbstractArray) where T<:Array\n",
      "   @ Base array.jl:613\n",
      "  ...\n",
      "\n",
      "\n",
      "Stacktrace:\n",
      " [1] top-level scope\n",
      "   @ /workspaces/AHP_Terauchi/test2.ipynb:3"
     ]
    }
   ],
   "source": [
    "for (i, subdf) in enumerate(subdfs)\n",
    "    # 一対比較行列を取り出す\n",
    "    A = convert(Matrix, subdf)\n",
    "\n",
    "    # 提案手法によって重みを推定\n",
    "    solution = solveIntervalAHP(A, EV)\n",
    "    W̅̅ = solution.W\n",
    "    \n",
    "end"
   ]
  }
 ],
 "metadata": {
  "kernelspec": {
   "display_name": "Julia 1.9.3",
   "language": "julia",
   "name": "julia-1.9"
  },
  "language_info": {
   "file_extension": ".jl",
   "mimetype": "application/julia",
   "name": "julia",
   "version": "1.9.3"
  }
 },
 "nbformat": 4,
 "nbformat_minor": 2
}
