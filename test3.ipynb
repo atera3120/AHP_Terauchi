{
 "cells": [
  {
   "cell_type": "markdown",
   "metadata": {},
   "source": [
    "# 11/17 ゼミ\n",
    "\n",
    "*シミュレーション*  \n",
    "* 真の区間重要度に対してA, B, C, D, E 各手法で1000ずつ一対比較行列を取る  \n",
    "* 1000個の区間AHPを解き、それぞれの指標を算出した  "
   ]
  },
  {
   "cell_type": "markdown",
   "metadata": {},
   "source": [
    "|N=5|EV|A|B|C|D|E|\n",
    "|:----|:----|:----|:----|:----|:----|:----|\n",
    "| |P_ave| |0.44319|0.39936|0.42855|0.44626|\n",
    "| |Q_ave| |0.86888|0.91659|0.89502|0.87318|\n",
    "| |R_ave| |0.48545|0.41916|0.45947|0.48897|\n",
    "| |S_ave| |0.59332|0.54614|0.57781|0.59569|\n"
   ]
  },
  {
   "cell_type": "markdown",
   "metadata": {},
   "source": [
    "|N=5|EV|A|B|C|D|E|\n",
    "|:----|:----|:----|:----|:----|:----|:----|\n",
    "| |P_var| |0.03131|0.03542|0.0328|0.03205|\n",
    "| |Q_var| |0.03847|0.0319|0.03468|0.03881|\n",
    "| |R_var| |0.04308|0.04262|0.04323|0.04427|\n",
    "| |S_var| |0.02986|0.03456|0.03155|0.03096|"
   ]
  },
  {
   "cell_type": "markdown",
   "metadata": {},
   "source": [
    "実験に用いたコードは以下の通り  "
   ]
  },
  {
   "cell_type": "code",
   "execution_count": 50,
   "metadata": {},
   "outputs": [],
   "source": [
    "# import Pkg\n",
    "# Pkg.add(\"DataFrames\")\n",
    "# Pkg.add(\"CSV\")\n",
    "# Pkg.add(\"IntervalSets\")\n",
    "# Pkg.add(\"LatexStrings\")"
   ]
  },
  {
   "cell_type": "code",
   "execution_count": 51,
   "metadata": {},
   "outputs": [
    {
     "data": {
      "text/plain": [
       "solveIntervalAHP (generic function with 1 method)"
      ]
     },
     "metadata": {},
     "output_type": "display_data"
    }
   ],
   "source": [
    "using DataFrames, CSV\n",
    "using IntervalArithmetic\n",
    "using LaTeXStrings\n",
    "using Statistics\n",
    "# using Base\n",
    "include(\"./src/interval-weight-estimation.jl\")\n",
    "include(\"./src/display/display-crisp-matrix.jl\")\n",
    "include(\"./src/display/display-interval-vector.jl\")\n",
    "include(\"./src/display/display-vector.jl\")\n",
    "include(\"./src/crisp-pcm.jl\")\n",
    "include(\"./src/importance-estimation.jl\")\n",
    "include(\"./src/solve-interval-ahp.jl\")"
   ]
  },
  {
   "cell_type": "code",
   "execution_count": 52,
   "metadata": {},
   "outputs": [],
   "source": [
    "# 評価基準数\n",
    "N = 5;"
   ]
  },
  {
   "cell_type": "code",
   "execution_count": 53,
   "metadata": {},
   "outputs": [
    {
     "data": {
      "text/latex": [
       "$T = \\begin{pmatrix} \\left[ 0.27, 0.33 \\right] \\\\ \\left[ 0.21, 0.29 \\right] \\\\ \\left[ 0.15, 0.25 \\right] \\\\ \\left[ 0.09, 0.21 \\right] \\\\ \\left[ 0.03, 0.17 \\right] \\end{pmatrix}$"
      ],
      "text/plain": [
       "L\"$T = \\begin{pmatrix} \\left[ 0.27, 0.33 \\right] \\\\ \\left[ 0.21, 0.29 \\right] \\\\ \\left[ 0.15, 0.25 \\right] \\\\ \\left[ 0.09, 0.21 \\right] \\\\ \\left[ 0.03, 0.17 \\right] \\end{pmatrix}$\""
      ]
     },
     "metadata": {},
     "output_type": "display_data"
    }
   ],
   "source": [
    "# 真の区間重要度を読み込み\n",
    "df = CSV.File(\"./src/data/N5_Given_interval_weight.csv\", header=false) |> DataFrame\n",
    "T = Vector{Interval{Float64}}() # Float64のところにTを使うとおかしくなるのはなぜか？\n",
    "for i in 1:N\n",
    "    push!(T, interval(df[1, 2*i-1], df[1, 2*i]))\n",
    "end\n",
    "\n",
    "display(L\"T = %$(intervalVectorLaTeXString(T))\")"
   ]
  },
  {
   "cell_type": "code",
   "execution_count": 54,
   "metadata": {},
   "outputs": [
    {
     "data": {
      "text/plain": [
       "1000-element Vector{Any}:\n",
       " \u001b[1m5×5 DataFrame\u001b[0m\n",
       "\u001b[1m Row \u001b[0m│\u001b[1m Column1 \u001b[0m\u001b[1m Column2  \u001b[0m\u001b[1m Column3  \u001b[0m\u001b[1m Column4 \u001b[0m\u001b[1m Column5 \u001b[0m\n",
       "     │\u001b[90m Float64 \u001b[0m\u001b[90m Float64  \u001b[0m\u001b[90m Float64  \u001b[0m\u001b[90m Float64 \u001b[0m\u001b[90m Float64 \u001b[0m\n",
       "─────┼───────────────────────────────────────────────\n",
       "   1 │   1.0    1.0       2.0          2.0       8.0\n",
       "   2 │   1.0    1.0       1.0          2.0       3.0\n",
       "   3 │   0.5    1.0       1.0          2.0       6.0\n",
       "   4 │   0.5    0.5       0.5          1.0       4.0\n",
       "   5 │   0.125  0.333333  0.166667     0.25      1.0\n",
       " \u001b[1m5×5 DataFrame\u001b[0m\n",
       "\u001b[1m Row \u001b[0m│\u001b[1m Column1  \u001b[0m\u001b[1m Column2 \u001b[0m\u001b[1m Column3 \u001b[0m\u001b[1m Column4 \u001b[0m\u001b[1m Column5 \u001b[0m\n",
       "     │\u001b[90m Float64  \u001b[0m\u001b[90m Float64 \u001b[0m\u001b[90m Float64 \u001b[0m\u001b[90m Float64 \u001b[0m\u001b[90m Float64 \u001b[0m\n",
       "─────┼──────────────────────────────────────────────\n",
       "   1 │ 1.0           1.0      2.0      3.0      4.0\n",
       "   2 │ 1.0           1.0      1.0      1.0      2.0\n",
       "   3 │ 0.5           1.0      1.0      1.0      1.0\n",
       "   4 │ 0.333333      1.0      1.0      1.0      1.0\n",
       "   5 │ 0.25          0.5      1.0      1.0      1.0\n",
       " \u001b[1m5×5 DataFrame\u001b[0m\n",
       "\u001b[1m Row \u001b[0m│\u001b[1m Column1 \u001b[0m\u001b[1m Column2 \u001b[0m\u001b[1m Column3  \u001b[0m\u001b[1m Column4  \u001b[0m\u001b[1m Column5 \u001b[0m\n",
       "     │\u001b[90m Float64 \u001b[0m\u001b[90m Float64 \u001b[0m\u001b[90m Float64  \u001b[0m\u001b[90m Float64  \u001b[0m\u001b[90m Float64 \u001b[0m\n",
       "─────┼───────────────────────────────────────────────\n",
       "   1 │     1.0     2.0   2.0       2.0           2.0\n",
       "   2 │     0.5     1.0   1.0       2.0           4.0\n",
       "   3 │     0.5     1.0   1.0       2.0           3.0\n",
       "   4 │     0.5     0.5   0.5       1.0           3.0\n",
       "   5 │     0.5     0.25  0.333333  0.333333      1.0\n",
       " \u001b[1m5×5 DataFrame\u001b[0m\n",
       "\u001b[1m Row \u001b[0m│\u001b[1m Column1  \u001b[0m\u001b[1m Column2  \u001b[0m\u001b[1m Column3  \u001b[0m\u001b[1m Column4 \u001b[0m\u001b[1m Column5 \u001b[0m\n",
       "     │\u001b[90m Float64  \u001b[0m\u001b[90m Float64  \u001b[0m\u001b[90m Float64  \u001b[0m\u001b[90m Float64 \u001b[0m\u001b[90m Float64 \u001b[0m\n",
       "─────┼────────────────────────────────────────────────\n",
       "   1 │ 1.0       1.0       2.0           2.0      3.0\n",
       "   2 │ 1.0       1.0       1.0           2.0      6.0\n",
       "   3 │ 0.5       1.0       1.0           2.0      3.0\n",
       "   4 │ 0.5       0.5       0.5           1.0      1.0\n",
       "   5 │ 0.333333  0.166667  0.333333      1.0      1.0\n",
       " \u001b[1m5×5 DataFrame\u001b[0m\n",
       "\u001b[1m Row \u001b[0m│\u001b[1m Column1  \u001b[0m\u001b[1m Column2  \u001b[0m\u001b[1m Column3  \u001b[0m\u001b[1m Column4 \u001b[0m\u001b[1m Column5 \u001b[0m\n",
       "     │\u001b[90m Float64  \u001b[0m\u001b[90m Float64  \u001b[0m\u001b[90m Float64  \u001b[0m\u001b[90m Float64 \u001b[0m\u001b[90m Float64 \u001b[0m\n",
       "─────┼────────────────────────────────────────────────\n",
       "   1 │ 1.0       2.0       2.0           4.0      9.0\n",
       "   2 │ 0.5       1.0       1.0           1.0      3.0\n",
       "   3 │ 0.5       1.0       1.0           1.0      6.0\n",
       "   4 │ 0.25      1.0       1.0           1.0      1.0\n",
       "   5 │ 0.111111  0.333333  0.166667      1.0      1.0\n",
       " \u001b[1m5×5 DataFrame\u001b[0m\n",
       "\u001b[1m Row \u001b[0m│\u001b[1m Column1  \u001b[0m\u001b[1m Column2 \u001b[0m\u001b[1m Column3  \u001b[0m\u001b[1m Column4 \u001b[0m\u001b[1m Column5 \u001b[0m\n",
       "     │\u001b[90m Float64  \u001b[0m\u001b[90m Float64 \u001b[0m\u001b[90m Float64  \u001b[0m\u001b[90m Float64 \u001b[0m\u001b[90m Float64 \u001b[0m\n",
       "─────┼───────────────────────────────────────────────\n",
       "   1 │ 1.0           1.0  2.0           4.0      9.0\n",
       "   2 │ 1.0           1.0  1.0           2.0      2.0\n",
       "   3 │ 0.5           1.0  1.0           1.0      6.0\n",
       "   4 │ 0.25          0.5  1.0           1.0      0.5\n",
       "   5 │ 0.111111      0.5  0.166667      2.0      1.0\n",
       " \u001b[1m5×5 DataFrame\u001b[0m\n",
       "\u001b[1m Row \u001b[0m│\u001b[1m Column1  \u001b[0m\u001b[1m Column2  \u001b[0m\u001b[1m Column3  \u001b[0m\u001b[1m Column4  \u001b[0m\u001b[1m Column5 \u001b[0m\n",
       "     │\u001b[90m Float64  \u001b[0m\u001b[90m Float64  \u001b[0m\u001b[90m Float64  \u001b[0m\u001b[90m Float64  \u001b[0m\u001b[90m Float64 \u001b[0m\n",
       "─────┼─────────────────────────────────────────────────\n",
       "   1 │ 1.0       1.0       1.0       3.0           2.0\n",
       "   2 │ 1.0       1.0       1.0       3.0           2.0\n",
       "   3 │ 1.0       1.0       1.0       1.0           3.0\n",
       "   4 │ 0.333333  0.333333  1.0       1.0           3.0\n",
       "   5 │ 0.5       0.5       0.333333  0.333333      1.0\n",
       " \u001b[1m5×5 DataFrame\u001b[0m\n",
       "\u001b[1m Row \u001b[0m│\u001b[1m Column1 \u001b[0m\u001b[1m Column2  \u001b[0m\u001b[1m Column3  \u001b[0m\u001b[1m Column4 \u001b[0m\u001b[1m Column5 \u001b[0m\n",
       "     │\u001b[90m Float64 \u001b[0m\u001b[90m Float64  \u001b[0m\u001b[90m Float64  \u001b[0m\u001b[90m Float64 \u001b[0m\u001b[90m Float64 \u001b[0m\n",
       "─────┼───────────────────────────────────────────────\n",
       "   1 │     1.0  2.0       2.0           2.0      2.0\n",
       "   2 │     0.5  1.0       2.0           2.0      3.0\n",
       "   3 │     0.5  0.5       1.0           3.0      5.0\n",
       "   4 │     0.5  0.5       0.333333      1.0      0.5\n",
       "   5 │     0.5  0.333333  0.2           2.0      1.0\n",
       " \u001b[1m5×5 DataFrame\u001b[0m\n",
       "\u001b[1m Row \u001b[0m│\u001b[1m Column1  \u001b[0m\u001b[1m Column2 \u001b[0m\u001b[1m Column3 \u001b[0m\u001b[1m Column4 \u001b[0m\u001b[1m Column5 \u001b[0m\n",
       "     │\u001b[90m Float64  \u001b[0m\u001b[90m Float64 \u001b[0m\u001b[90m Float64 \u001b[0m\u001b[90m Float64 \u001b[0m\u001b[90m Float64 \u001b[0m\n",
       "─────┼──────────────────────────────────────────────\n",
       "   1 │ 1.0           1.0      2.0     3.0       5.0\n",
       "   2 │ 1.0           1.0      1.0     2.0       2.0\n",
       "   3 │ 0.5           1.0      1.0     1.0       2.0\n",
       "   4 │ 0.333333      0.5      1.0     1.0       4.0\n",
       "   5 │ 0.2           0.5      0.5     0.25      1.0\n",
       " \u001b[1m5×5 DataFrame\u001b[0m\n",
       "\u001b[1m Row \u001b[0m│\u001b[1m Column1  \u001b[0m\u001b[1m Column2  \u001b[0m\u001b[1m Column3 \u001b[0m\u001b[1m Column4 \u001b[0m\u001b[1m Column5 \u001b[0m\n",
       "     │\u001b[90m Float64  \u001b[0m\u001b[90m Float64  \u001b[0m\u001b[90m Float64 \u001b[0m\u001b[90m Float64 \u001b[0m\u001b[90m Float64 \u001b[0m\n",
       "─────┼───────────────────────────────────────────────\n",
       "   1 │ 1.0       1.0          2.0       3.0      3.0\n",
       "   2 │ 1.0       1.0          1.0       2.0      3.0\n",
       "   3 │ 0.5       1.0          1.0       1.0      4.0\n",
       "   4 │ 0.333333  0.5          1.0       1.0      2.0\n",
       "   5 │ 0.333333  0.333333     0.25      0.5      1.0\n",
       " ⋮\n",
       " \u001b[1m5×5 DataFrame\u001b[0m\n",
       "\u001b[1m Row \u001b[0m│\u001b[1m Column1 \u001b[0m\u001b[1m Column2 \u001b[0m\u001b[1m Column3 \u001b[0m\u001b[1m Column4 \u001b[0m\u001b[1m Column5 \u001b[0m\n",
       "     │\u001b[90m Float64 \u001b[0m\u001b[90m Float64 \u001b[0m\u001b[90m Float64 \u001b[0m\u001b[90m Float64 \u001b[0m\u001b[90m Float64 \u001b[0m\n",
       "─────┼─────────────────────────────────────────────\n",
       "   1 │     1.0      2.0      2.0      2.0      2.0\n",
       "   2 │     0.5      1.0      2.0      2.0      2.0\n",
       "   3 │     0.5      0.5      1.0      1.0      5.0\n",
       "   4 │     0.5      0.5      1.0      1.0      0.5\n",
       "   5 │     0.5      0.5      0.2      2.0      1.0\n",
       " \u001b[1m5×5 DataFrame\u001b[0m\n",
       "\u001b[1m Row \u001b[0m│\u001b[1m Column1  \u001b[0m\u001b[1m Column2  \u001b[0m\u001b[1m Column3 \u001b[0m\u001b[1m Column4  \u001b[0m\u001b[1m Column5 \u001b[0m\n",
       "     │\u001b[90m Float64  \u001b[0m\u001b[90m Float64  \u001b[0m\u001b[90m Float64 \u001b[0m\u001b[90m Float64  \u001b[0m\u001b[90m Float64 \u001b[0m\n",
       "─────┼────────────────────────────────────────────────\n",
       "   1 │ 1.0       1.0           2.0  2.0           6.0\n",
       "   2 │ 1.0       1.0           2.0  3.0           5.0\n",
       "   3 │ 0.5       0.5           1.0  2.0           2.0\n",
       "   4 │ 0.5       0.333333      0.5  1.0           3.0\n",
       "   5 │ 0.166667  0.2           0.5  0.333333      1.0\n",
       " \u001b[1m5×5 DataFrame\u001b[0m\n",
       "\u001b[1m Row \u001b[0m│\u001b[1m Column1  \u001b[0m\u001b[1m Column2  \u001b[0m\u001b[1m Column3  \u001b[0m\u001b[1m Column4 \u001b[0m\u001b[1m Column5 \u001b[0m\n",
       "     │\u001b[90m Float64  \u001b[0m\u001b[90m Float64  \u001b[0m\u001b[90m Float64  \u001b[0m\u001b[90m Float64 \u001b[0m\u001b[90m Float64 \u001b[0m\n",
       "─────┼────────────────────────────────────────────────\n",
       "   1 │ 1.0       1.0       2.0          3.0       9.0\n",
       "   2 │ 1.0       1.0       1.0          3.0       2.0\n",
       "   3 │ 0.5       1.0       1.0          2.0       3.0\n",
       "   4 │ 0.333333  0.333333  0.5          1.0       4.0\n",
       "   5 │ 0.111111  0.5       0.333333     0.25      1.0\n",
       " \u001b[1m5×5 DataFrame\u001b[0m\n",
       "\u001b[1m Row \u001b[0m│\u001b[1m Column1  \u001b[0m\u001b[1m Column2 \u001b[0m\u001b[1m Column3  \u001b[0m\u001b[1m Column4  \u001b[0m\u001b[1m Column5 \u001b[0m\n",
       "     │\u001b[90m Float64  \u001b[0m\u001b[90m Float64 \u001b[0m\u001b[90m Float64  \u001b[0m\u001b[90m Float64  \u001b[0m\u001b[90m Float64 \u001b[0m\n",
       "─────┼────────────────────────────────────────────────\n",
       "   1 │ 1.0           1.0  2.0       3.0           5.0\n",
       "   2 │ 1.0           1.0  1.0       2.0           2.0\n",
       "   3 │ 0.5           1.0  1.0       1.0           3.0\n",
       "   4 │ 0.333333      0.5  1.0       1.0           3.0\n",
       "   5 │ 0.2           0.5  0.333333  0.333333      1.0\n",
       " \u001b[1m5×5 DataFrame\u001b[0m\n",
       "\u001b[1m Row \u001b[0m│\u001b[1m Column1 \u001b[0m\u001b[1m Column2 \u001b[0m\u001b[1m Column3  \u001b[0m\u001b[1m Column4 \u001b[0m\u001b[1m Column5 \u001b[0m\n",
       "     │\u001b[90m Float64 \u001b[0m\u001b[90m Float64 \u001b[0m\u001b[90m Float64  \u001b[0m\u001b[90m Float64 \u001b[0m\u001b[90m Float64 \u001b[0m\n",
       "─────┼──────────────────────────────────────────────\n",
       "   1 │     1.0     2.0   2.0           2.0      2.0\n",
       "   2 │     0.5     1.0   1.0           2.0      4.0\n",
       "   3 │     0.5     1.0   1.0           1.0      6.0\n",
       "   4 │     0.5     0.5   1.0           1.0      1.0\n",
       "   5 │     0.5     0.25  0.166667      1.0      1.0\n",
       " \u001b[1m5×5 DataFrame\u001b[0m\n",
       "\u001b[1m Row \u001b[0m│\u001b[1m Column1  \u001b[0m\u001b[1m Column2 \u001b[0m\u001b[1m Column3 \u001b[0m\u001b[1m Column4 \u001b[0m\u001b[1m Column5 \u001b[0m\n",
       "     │\u001b[90m Float64  \u001b[0m\u001b[90m Float64 \u001b[0m\u001b[90m Float64 \u001b[0m\u001b[90m Float64 \u001b[0m\u001b[90m Float64 \u001b[0m\n",
       "─────┼──────────────────────────────────────────────\n",
       "   1 │ 1.0           1.0     2.0       2.0      3.0\n",
       "   2 │ 1.0           1.0     1.0       1.0      1.0\n",
       "   3 │ 0.5           1.0     1.0       2.0      4.0\n",
       "   4 │ 0.5           1.0     0.5       1.0      0.5\n",
       "   5 │ 0.333333      1.0     0.25      2.0      1.0\n",
       " \u001b[1m5×5 DataFrame\u001b[0m\n",
       "\u001b[1m Row \u001b[0m│\u001b[1m Column1  \u001b[0m\u001b[1m Column2 \u001b[0m\u001b[1m Column3  \u001b[0m\u001b[1m Column4  \u001b[0m\u001b[1m Column5 \u001b[0m\n",
       "     │\u001b[90m Float64  \u001b[0m\u001b[90m Float64 \u001b[0m\u001b[90m Float64  \u001b[0m\u001b[90m Float64  \u001b[0m\u001b[90m Float64 \u001b[0m\n",
       "─────┼────────────────────────────────────────────────\n",
       "   1 │ 1.0           1.0  2.0       1.0           3.0\n",
       "   2 │ 1.0           1.0  1.0       2.0           2.0\n",
       "   3 │ 0.5           1.0  1.0       3.0           1.0\n",
       "   4 │ 1.0           0.5  0.333333  1.0           3.0\n",
       "   5 │ 0.333333      0.5  1.0       0.333333      1.0\n",
       " \u001b[1m5×5 DataFrame\u001b[0m\n",
       "\u001b[1m Row \u001b[0m│\u001b[1m Column1  \u001b[0m\u001b[1m Column2  \u001b[0m\u001b[1m Column3 \u001b[0m\u001b[1m Column4 \u001b[0m\u001b[1m Column5 \u001b[0m\n",
       "     │\u001b[90m Float64  \u001b[0m\u001b[90m Float64  \u001b[0m\u001b[90m Float64 \u001b[0m\u001b[90m Float64 \u001b[0m\u001b[90m Float64 \u001b[0m\n",
       "─────┼───────────────────────────────────────────────\n",
       "   1 │ 1.0       1.0           1.0     1.0       3.0\n",
       "   2 │ 1.0       1.0           1.0     2.0       6.0\n",
       "   3 │ 1.0       1.0           1.0     1.0       1.0\n",
       "   4 │ 1.0       0.5           1.0     1.0       4.0\n",
       "   5 │ 0.333333  0.166667      1.0     0.25      1.0\n",
       " \u001b[1m5×5 DataFrame\u001b[0m\n",
       "\u001b[1m Row \u001b[0m│\u001b[1m Column1 \u001b[0m\u001b[1m Column2  \u001b[0m\u001b[1m Column3 \u001b[0m\u001b[1m Column4 \u001b[0m\u001b[1m Column5 \u001b[0m\n",
       "     │\u001b[90m Float64 \u001b[0m\u001b[90m Float64  \u001b[0m\u001b[90m Float64 \u001b[0m\u001b[90m Float64 \u001b[0m\u001b[90m Float64 \u001b[0m\n",
       "─────┼──────────────────────────────────────────────\n",
       "   1 │     1.0  1.0         1.0        1.0      2.0\n",
       "   2 │     1.0  1.0         2.0        3.0      5.0\n",
       "   3 │     1.0  0.5         1.0        1.0      8.0\n",
       "   4 │     1.0  0.333333    1.0        1.0      2.0\n",
       "   5 │     0.5  0.2         0.125      0.5      1.0"
      ]
     },
     "metadata": {},
     "output_type": "display_data"
    }
   ],
   "source": [
    "# 一対比較行列を1000個読み込み\n",
    "df1 = CSV.File(\"./src/data/N5_a3_A_PCM_int.csv\", header=false) |> DataFrame\n",
    "\n",
    "# データフレームをN×Nのサブデータフレームに分割\n",
    "subdfs = split_dataframe(df1, N);"
   ]
  },
  {
   "cell_type": "code",
   "execution_count": 55,
   "metadata": {},
   "outputs": [],
   "source": [
    "# 結果格納用\n",
    "P = Matrix{Float64}(undef, N, 1000)\n",
    "Q = Matrix{Float64}(undef, N, 1000)\n",
    "R = Matrix{Float64}(undef, N, 1000)\n",
    "F = Matrix{Float64}(undef, N, 1000)\n",
    "\n",
    "# 1000個のデータで推定\n",
    "for (i, subdf) in enumerate(subdfs)\n",
    "\n",
    "    # 一対比較行列を取り出す\n",
    "    A = Matrix(subdf)\n",
    "    # println(\"i = $i\")\n",
    "    # if i == 543\n",
    "    #     display(L\"A = %$(matrixLaTeXString(A))\")\n",
    "    #     display(A)\n",
    "    # end\n",
    "    # display(L\"A = %$(matrixLaTeXString(A))\")\n",
    "\n",
    "    # 提案手法で区間重要度推定\n",
    "    solution = solveIntervalAHP(A, AD)\n",
    "    E = solution.W # 区間重要度の推定値\n",
    "    # display(L\"E = %$(intervalVectorLaTeXString(E))\")\n",
    "    # display(L\"T = %$(intervalVectorLaTeXString(T))\")\n",
    "\n",
    "    TcapE = T .∩ E # 真の区間重要度と推定値の積集合\n",
    "    TcupE = T .∪ E # 真の区間重要度と推定値の和集合\n",
    "    # display(L\"T ∩ E = %$(intervalVectorLaTeXString(TcapE))\")\n",
    "    # display(L\"T ∪ E = %$(intervalVectorLaTeXString(TcupE))\")\n",
    "    \n",
    "    # P, Q, R, F の計算\n",
    "    P[:, i] = calculate_P(T, E) # 真の区間重要度と推定値の積集合の割合\n",
    "    Q[:, i] = calculate_Q(T, E) # 真の区間重要度と推定値の積集合の割合\n",
    "    R[:, i] = calculate_R(T, E) # 真の区間重要度と推定値の積集合の割合\n",
    "    F[:, i] = calculate_F(T, E) # F値\n",
    "    display(L\"P = %$(VectorLaTeXString(P[:,i]))\")\n",
    "    display(L\"Q = %$(VectorLaTeXString(Q[:,i]))\")\n",
    "    display(L\"R = %$(VectorLaTeXString(R[:,i]))\")\n",
    "    display(L\"F = %$(VectorLaTeXString(F[:,i]))\")\n",
    "end"
   ]
  },
  {
   "cell_type": "code",
   "execution_count": 56,
   "metadata": {},
   "outputs": [
    {
     "data": {
      "text/latex": [
       "$Pₐᵥₑ = 0.33681$"
      ],
      "text/plain": [
       "L\"$Pₐᵥₑ = 0.33681$\""
      ]
     },
     "metadata": {},
     "output_type": "display_data"
    },
    {
     "data": {
      "text/latex": [
       "$Qₐᵥₑ = 0.93967$"
      ],
      "text/plain": [
       "L\"$Qₐᵥₑ = 0.93967$\""
      ]
     },
     "metadata": {},
     "output_type": "display_data"
    },
    {
     "data": {
      "text/latex": [
       "$Rₐᵥₑ = 0.34803$"
      ],
      "text/plain": [
       "L\"$Rₐᵥₑ = 0.34803$\""
      ]
     },
     "metadata": {},
     "output_type": "display_data"
    },
    {
     "data": {
      "text/latex": [
       "$Fₐᵥₑ = 0.48343$"
      ],
      "text/plain": [
       "L\"$Fₐᵥₑ = 0.48343$\""
      ]
     },
     "metadata": {},
     "output_type": "display_data"
    }
   ],
   "source": [
    "P_ave = mean(P)\n",
    "Q_ave = mean(Q)\n",
    "R_ave = mean(R)\n",
    "F_ave = mean(F)\n",
    "display(L\"Pₐᵥₑ = %$(round(P_ave, digits=5))\")\n",
    "display(L\"Qₐᵥₑ = %$(round(Q_ave, digits=5))\")\n",
    "display(L\"Rₐᵥₑ = %$(round(R_ave, digits=5))\")\n",
    "display(L\"Fₐᵥₑ = %$(round(F_ave, digits=5))\")"
   ]
  },
  {
   "cell_type": "code",
   "execution_count": 57,
   "metadata": {},
   "outputs": [
    {
     "data": {
      "text/latex": [
       "$Pᵥₐᵣ = 0.02606$"
      ],
      "text/plain": [
       "L\"$Pᵥₐᵣ = 0.02606$\""
      ]
     },
     "metadata": {},
     "output_type": "display_data"
    },
    {
     "data": {
      "text/latex": [
       "$Qᵥₐᵣ = 0.0272$"
      ],
      "text/plain": [
       "L\"$Qᵥₐᵣ = 0.0272$\""
      ]
     },
     "metadata": {},
     "output_type": "display_data"
    },
    {
     "data": {
      "text/latex": [
       "$Rᵥₐᵣ = 0.03129$"
      ],
      "text/plain": [
       "L\"$Rᵥₐᵣ = 0.03129$\""
      ]
     },
     "metadata": {},
     "output_type": "display_data"
    },
    {
     "data": {
      "text/latex": [
       "$Fᵥₐᵣ = 0.02953$"
      ],
      "text/plain": [
       "L\"$Fᵥₐᵣ = 0.02953$\""
      ]
     },
     "metadata": {},
     "output_type": "display_data"
    }
   ],
   "source": [
    "P_var = var(P)\n",
    "Q_var = var(Q)\n",
    "R_var = var(R)\n",
    "F_var = var(F)\n",
    "display(L\"Pᵥₐᵣ = %$(round(P_var, digits=5))\")\n",
    "display(L\"Qᵥₐᵣ = %$(round(Q_var, digits=5))\")\n",
    "display(L\"Rᵥₐᵣ = %$(round(R_var, digits=5))\")\n",
    "display(L\"Fᵥₐᵣ = %$(round(F_var, digits=5))\")"
   ]
  }
 ],
 "metadata": {
  "kernelspec": {
   "display_name": "Julia 1.9.3",
   "language": "julia",
   "name": "julia-1.9"
  },
  "language_info": {
   "file_extension": ".jl",
   "mimetype": "application/julia",
   "name": "julia",
   "version": "1.9.3"
  }
 },
 "nbformat": 4,
 "nbformat_minor": 2
}
