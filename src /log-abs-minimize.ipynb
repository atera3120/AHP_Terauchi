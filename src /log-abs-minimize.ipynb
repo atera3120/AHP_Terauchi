{
 "cells": [
  {
   "cell_type": "markdown",
   "metadata": {},
   "source": [
    "# 10 / 20 ゼミ"
   ]
  },
  {
   "cell_type": "markdown",
   "metadata": {},
   "source": [
    "中心推定はAMRWが最も精度よく推定できることが分かっている。\n",
    "MMR法の推定について、従来法と異なるアプローチを検討する。\n",
    "\n",
    "【内容】\n",
    "対数空間で絶対偏差を最小化し、重み推定を行うプログラムを作成した。"
   ]
  },
  {
   "cell_type": "markdown",
   "metadata": {},
   "source": [
    "$$\n",
    "\\begin{align*}\n",
    "\\operatorname{minimize} ~~ & ~~\n",
    "\\sum_{i \\in N} \\sum_{j < i} U_{ij}, \\\\\n",
    "\\text{subject to} ~~ & ~~\n",
    "\\ln \\left( a_{ij} \\right) - u_i + u_j \\leq U_{ij}, &&\n",
    "i \\in N, ~~ & j<i \\\\ & ~~\n",
    "u_i - u_j -\\ln \\left( a_{ij} \\right) \\leq U_{ij}, &&\n",
    "i \\in N, ~~ & j<i \\\\ & ~~\n",
    "u_i \\in \\mathbb{R}.\n",
    "\\end{align*}\n",
    "$$"
   ]
  },
  {
   "cell_type": "markdown",
   "metadata": {},
   "source": [
    "\n",
    "where $u_i = \\ln \\left( w_i \\right), ~ U_{ij} = \\left| \\ln \\left( a_{ij} \\right) - u_i + u_j \\right|, ~ i \\in N$"
   ]
  },
  {
   "cell_type": "markdown",
   "metadata": {},
   "source": [
    "最適解から、\n",
    "$$w_i = \\lambda \\exp \\left( u_i \\right)$$\n",
    "として求められるが、総和が１になるように定める。"
   ]
  },
  {
   "cell_type": "code",
   "execution_count": 1,
   "metadata": {},
   "outputs": [],
   "source": [
    "using LaTeXStrings"
   ]
  },
  {
   "cell_type": "code",
   "execution_count": 2,
   "metadata": {},
   "outputs": [
    {
     "data": {
      "text/plain": [
       "LogAbsErrMin (generic function with 1 method)"
      ]
     },
     "metadata": {},
     "output_type": "display_data"
    }
   ],
   "source": [
    "include(\"./display/display-crisp-matrix.jl\")\n",
    "include(\"./display/display-interval-vector.jl\")\n",
    "include(\"./display/display-vector.jl\")\n",
    "include(\"./log-abs-minimize.jl\")"
   ]
  },
  {
   "cell_type": "code",
   "execution_count": 7,
   "metadata": {},
   "outputs": [
    {
     "data": {
      "text/plain": [
       "4×4 Matrix{Float64}:\n",
       " 1.0  1.0  1.0  1.0\n",
       " 1.0  1.0  1.0  1.0\n",
       " 1.0  1.0  1.0  1.0\n",
       " 1.0  1.0  1.0  1.0"
      ]
     },
     "metadata": {},
     "output_type": "display_data"
    }
   ],
   "source": [
    "A = [\n",
    "    1 1 1 1.0\n",
    "    1 1 1 1\n",
    "    1 1 1 1\n",
    "    1 1 1 1\n",
    "]"
   ]
  },
  {
   "cell_type": "code",
   "execution_count": 8,
   "metadata": {},
   "outputs": [
    {
     "data": {
      "text/latex": [
       "$A = \\begin{pmatrix} 1.0 & 1.0 & 1.0 & 1.0 \\\\1.0 & 1.0 & 1.0 & 1.0 \\\\1.0 & 1.0 & 1.0 & 1.0 \\\\1.0 & 1.0 & 1.0 & 1.0 \\\\ \\end{pmatrix}$"
      ],
      "text/plain": [
       "L\"$A = \\begin{pmatrix} 1.0 & 1.0 & 1.0 & 1.0 \\\\1.0 & 1.0 & 1.0 & 1.0 \\\\1.0 & 1.0 & 1.0 & 1.0 \\\\1.0 & 1.0 & 1.0 & 1.0 \\\\ \\end{pmatrix}$\""
      ]
     },
     "metadata": {},
     "output_type": "display_data"
    }
   ],
   "source": [
    "display(L\"A = %$(matrixLaTeXString(A))\")"
   ]
  },
  {
   "cell_type": "code",
   "execution_count": 9,
   "metadata": {},
   "outputs": [
    {
     "data": {
      "text/plain": [
       "4-element Vector{Float64}:\n",
       " 0.25\n",
       " 0.25\n",
       " 0.25\n",
       " 0.25"
      ]
     },
     "metadata": {},
     "output_type": "display_data"
    }
   ],
   "source": [
    "solution = LogAbsErrMin(A)\n",
    "W = solution"
   ]
  },
  {
   "cell_type": "code",
   "execution_count": 10,
   "metadata": {},
   "outputs": [
    {
     "data": {
      "text/latex": [
       "$W = \\begin{pmatrix} 0.25 \\\\ 0.25 \\\\ 0.25 \\\\ 0.25 \\end{pmatrix}$"
      ],
      "text/plain": [
       "L\"$W = \\begin{pmatrix} 0.25 \\\\ 0.25 \\\\ 0.25 \\\\ 0.25 \\end{pmatrix}$\""
      ]
     },
     "metadata": {},
     "output_type": "display_data"
    }
   ],
   "source": [
    "display(L\"W = %$(VectorLaTeXString(W))\")"
   ]
  }
 ],
 "metadata": {
  "kernelspec": {
   "display_name": "Julia 1.9.3",
   "language": "julia",
   "name": "julia-1.9"
  },
  "language_info": {
   "file_extension": ".jl",
   "mimetype": "application/julia",
   "name": "julia",
   "version": "1.9.3"
  }
 },
 "nbformat": 4,
 "nbformat_minor": 2
}
