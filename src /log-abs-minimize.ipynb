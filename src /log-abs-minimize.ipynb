{
 "cells": [
  {
   "cell_type": "markdown",
   "metadata": {},
   "source": [
    "# 10 / 20 ゼミ"
   ]
  },
  {
   "cell_type": "markdown",
   "metadata": {},
   "source": [
    "中心推定はAMRWが最も精度よく推定できることが分かっている。\n",
    "MMR法の推定について、従来法と異なるアプローチを検討する。\n",
    "\n",
    "【内容】\n",
    "対数空間で絶対偏差を最小化し、重み推定を行うプログラムを作成した。"
   ]
  },
  {
   "cell_type": "markdown",
   "metadata": {},
   "source": [
    "$$\n",
    "\\begin{align*}\n",
    "\\operatorname{minimize} ~~ & ~~\n",
    "\\sum_{i \\in N} \\sum_{j < i} U_{ij}, \\\\\n",
    "\\text{subject to} ~~ & ~~\n",
    "\\ln \\left( a_{ij} \\right) - u_i + u_j \\leq U_{ij}, &&\n",
    "i \\in N, ~~ & j<i \\\\ & ~~\n",
    "u_i - u_j -\\ln \\left( a_{ij} \\right) \\leq U_{ij}, &&\n",
    "i \\in N, ~~ & j<i \\\\ & ~~\n",
    "u_i \\in \\mathbb{R}.\n",
    "\\end{align*}\n",
    "$$"
   ]
  },
  {
   "cell_type": "markdown",
   "metadata": {},
   "source": [
    "\n",
    "where $u_i = \\ln \\left( w_i \\right), ~ U_{ij} = \\left| \\ln \\left( a_{ij} \\right) - u_i + u_j \\right|, ~ i \\in N$"
   ]
  },
  {
   "cell_type": "markdown",
   "metadata": {},
   "source": [
    "最適解から、\n",
    "$$w_i = \\lambda \\exp \\left( u_i \\right)$$\n",
    "として求められるが、総和が１になるように定める。"
   ]
  },
  {
   "cell_type": "code",
   "execution_count": 13,
   "metadata": {},
   "outputs": [],
   "source": [
    "using LaTeXStrings"
   ]
  },
  {
   "cell_type": "code",
   "execution_count": 22,
   "metadata": {},
   "outputs": [
    {
     "ename": "LoadError",
     "evalue": "LoadError: syntax: expected \"end\" in definition of function \"eigen\"\nin expression starting at /workspaces/AHP_Terauchi/src / importance-estimation.jl:53",
     "output_type": "error",
     "traceback": [
      "LoadError: syntax: expected \"end\" in definition of function \"eigen\"\n",
      "in expression starting at /workspaces/AHP_Terauchi/src / importance-estimation.jl:53\n",
      "\n",
      "Stacktrace:\n",
      " [1] top-level scope\n",
      "   @ /workspaces/AHP_Terauchi/src / importance-estimation.jl:53"
     ]
    }
   ],
   "source": [
    "include(\"./display/display-crisp-matrix.jl\")\n",
    "include(\"./display/display-interval-vector.jl\")\n",
    "include(\"./display/display-vector.jl\")\n",
    "include(\"./importance-estimation.jl\")"
   ]
  },
  {
   "cell_type": "code",
   "execution_count": 15,
   "metadata": {},
   "outputs": [
    {
     "data": {
      "text/plain": [
       "4×4 Matrix{Float64}:\n",
       " 1.0       3.0       5.0       7.0\n",
       " 0.333333  1.0       1.66667   2.33333\n",
       " 0.2       0.6       1.0       1.4\n",
       " 0.142857  0.428571  0.714286  1.0"
      ]
     },
     "metadata": {},
     "output_type": "display_data"
    }
   ],
   "source": [
    "A = [\n",
    "    1   3   5   7\n",
    "    1/3 1   5/3 7/3\n",
    "    1/5 3/5 1   7/5\n",
    "    1/7 3/7 5/7 1\n",
    "]"
   ]
  },
  {
   "cell_type": "code",
   "execution_count": 16,
   "metadata": {},
   "outputs": [
    {
     "data": {
      "text/latex": [
       "$A = \\begin{pmatrix} 1.0 & 3.0 & 5.0 & 7.0 \\\\0.333 & 1.0 & 1.667 & 2.333 \\\\0.2 & 0.6 & 1.0 & 1.4 \\\\0.143 & 0.429 & 0.714 & 1.0 \\\\ \\end{pmatrix}$"
      ],
      "text/plain": [
       "L\"$A = \\begin{pmatrix} 1.0 & 3.0 & 5.0 & 7.0 \\\\0.333 & 1.0 & 1.667 & 2.333 \\\\0.2 & 0.6 & 1.0 & 1.4 \\\\0.143 & 0.429 & 0.714 & 1.0 \\\\ \\end{pmatrix}$\""
      ]
     },
     "metadata": {},
     "output_type": "display_data"
    }
   ],
   "source": [
    "display(L\"A = %$(matrixLaTeXString(A))\")"
   ]
  },
  {
   "cell_type": "code",
   "execution_count": 17,
   "metadata": {},
   "outputs": [
    {
     "ename": "UndefVarError",
     "evalue": "UndefVarError: `GM` not defined",
     "output_type": "error",
     "traceback": [
      "UndefVarError: `GM` not defined\n",
      "\n",
      "Stacktrace:\n",
      " [1] top-level scope\n",
      "   @ /workspaces/AHP_Terauchi/src /log-abs-minimize.ipynb:1"
     ]
    }
   ],
   "source": [
    "solution = GM(A)\n",
    "W = solution"
   ]
  },
  {
   "cell_type": "code",
   "execution_count": 18,
   "metadata": {},
   "outputs": [
    {
     "data": {
      "text/latex": [
       "$W = \\begin{pmatrix} 0.597 \\\\ 0.199 \\\\ 0.119 \\\\ 0.085 \\end{pmatrix}$"
      ],
      "text/plain": [
       "L\"$W = \\begin{pmatrix} 0.597 \\\\ 0.199 \\\\ 0.119 \\\\ 0.085 \\end{pmatrix}$\""
      ]
     },
     "metadata": {},
     "output_type": "display_data"
    }
   ],
   "source": [
    "display(L\"W = %$(VectorLaTeXString(W))\")"
   ]
  }
 ],
 "metadata": {
  "kernelspec": {
   "display_name": "Julia 1.9.3",
   "language": "julia",
   "name": "julia-1.9"
  },
  "language_info": {
   "file_extension": ".jl",
   "mimetype": "application/julia",
   "name": "julia",
   "version": "1.9.3"
  }
 },
 "nbformat": 4,
 "nbformat_minor": 2
}
