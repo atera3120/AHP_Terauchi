{
 "cells": [
  {
   "cell_type": "code",
   "execution_count": 1,
   "metadata": {},
   "outputs": [],
   "source": [
    "using LaTeXStrings"
   ]
  },
  {
   "cell_type": "code",
   "execution_count": 2,
   "metadata": {},
   "outputs": [
    {
     "ename": "LoadError",
     "evalue": "LoadError: syntax: incomplete: \"function\" at /workspaces/AHP_Terauchi/src/solve-interval-ahp.jl:50 requires end\nin expression starting at /workspaces/AHP_Terauchi/src/solve-interval-ahp.jl:50",
     "output_type": "error",
     "traceback": [
      "LoadError: syntax: incomplete: \"function\" at /workspaces/AHP_Terauchi/src/solve-interval-ahp.jl:50 requires end\n",
      "in expression starting at /workspaces/AHP_Terauchi/src/solve-interval-ahp.jl:50\n",
      "\n",
      "Stacktrace:\n",
      " [1] top-level scope\n",
      "   @ /workspaces/AHP_Terauchi/src/solve-interval-ahp.jl:50"
     ]
    }
   ],
   "source": [
    "include(\"./display/display-crisp-matrix.jl\")\n",
    "include(\"./display/display-interval-vector.jl\")\n",
    "include(\"./display/display-vector.jl\")\n",
    "include(\"./importance-estimation.jl\")\n",
    "include(\"./solve-interval-ahp.jl\")"
   ]
  },
  {
   "cell_type": "code",
   "execution_count": 3,
   "metadata": {},
   "outputs": [
    {
     "data": {
      "text/latex": [
       "$A = \\begin{pmatrix} 1.0 & 1.0 & 2.0 & 2.0 \\\\1.0 & 1.0 & 3.0 & 1.0 \\\\0.5 & 0.333 & 1.0 & 3.0 \\\\0.5 & 1.0 & 0.333 & 1.0 \\\\ \\end{pmatrix}$"
      ],
      "text/plain": [
       "L\"$A = \\begin{pmatrix} 1.0 & 1.0 & 2.0 & 2.0 \\\\1.0 & 1.0 & 3.0 & 1.0 \\\\0.5 & 0.333 & 1.0 & 3.0 \\\\0.5 & 1.0 & 0.333 & 1.0 \\\\ \\end{pmatrix}$\""
      ]
     },
     "metadata": {},
     "output_type": "display_data"
    }
   ],
   "source": [
    "A = [\n",
    "    1   3   5   7\n",
    "    1/3 1   5/3 7/3\n",
    "    1/5 3/5 1   7/5\n",
    "    1/7 3/7 5/7 1\n",
    "]\n",
    "# A = [\n",
    "#     1 1 1 1\n",
    "#     1 1 1 1\n",
    "#     1 1 1 1\n",
    "#     1 1 1 1.0\n",
    "# ]\n",
    "# A = [\n",
    "#     1   2   4   5\n",
    "#     1/2 1   2   5/2\n",
    "#     1/4 1/2 1   5/4\n",
    "#     1/5 2/5 4/5 1\n",
    "# ]\n",
    "\n",
    "A = [\n",
    "    1 1 2 2\n",
    "    1 1 3 1\n",
    "    1/2 1/3 1 3\n",
    "    1/2 1 1/3 1\n",
    "]\n",
    "\n",
    "display(L\"A = %$(matrixLaTeXString(A))\")"
   ]
  },
  {
   "cell_type": "code",
   "execution_count": 4,
   "metadata": {},
   "outputs": [
    {
     "data": {
      "text/latex": [
       "$C = \\begin{pmatrix} 1.0 & 0.333 & 0.333 & 0.333 \\\\0.2 & 1.0 & 0.333 & 0.5 \\\\0.6 & 0.5 & 1.0 & 0.167 \\\\0.2 & 0.167 & 0.333 & 1.0 \\\\ \\end{pmatrix}$"
      ],
      "text/plain": [
       "L\"$C = \\begin{pmatrix} 1.0 & 0.333 & 0.333 & 0.333 \\\\0.2 & 1.0 & 0.333 & 0.5 \\\\0.6 & 0.5 & 1.0 & 0.167 \\\\0.2 & 0.167 & 0.333 & 1.0 \\\\ \\end{pmatrix}$\""
      ]
     },
     "metadata": {},
     "output_type": "display_data"
    }
   ],
   "source": [
    "C = phase1_test(A, AD)\n",
    "display(L\"C = %$(matrixLaTeXString(C))\")"
   ]
  },
  {
   "cell_type": "code",
   "execution_count": 5,
   "metadata": {},
   "outputs": [
    {
     "data": {
      "text/latex": [
       "$C = \\begin{pmatrix} 1.0 & 0.484 & 0.413 & 0.387 \\\\0.46 & 1.0 & 0.327 & 0.443 \\\\0.319 & 0.349 & 1.0 & 0.169 \\\\0.221 & 0.168 & 0.26 & 1.0 \\\\ \\end{pmatrix}$"
      ],
      "text/plain": [
       "L\"$C = \\begin{pmatrix} 1.0 & 0.484 & 0.413 & 0.387 \\\\0.46 & 1.0 & 0.327 & 0.443 \\\\0.319 & 0.349 & 1.0 & 0.169 \\\\0.221 & 0.168 & 0.26 & 1.0 \\\\ \\end{pmatrix}$\""
      ]
     },
     "metadata": {},
     "output_type": "display_data"
    }
   ],
   "source": [
    "C = phase1_test(A, EV)\n",
    "display(L\"C = %$(matrixLaTeXString(C))\")"
   ]
  },
  {
   "cell_type": "code",
   "execution_count": 6,
   "metadata": {},
   "outputs": [
    {
     "data": {
      "text/latex": [
       "$C = \\begin{pmatrix} 1.0 & 0.484 & 0.413 & 0.387 \\\\0.46 & 1.0 & 0.327 & 0.443 \\\\0.319 & 0.349 & 1.0 & 0.169 \\\\0.221 & 0.168 & 0.26 & 1.0 \\\\ \\end{pmatrix}$"
      ],
      "text/plain": [
       "L\"$C = \\begin{pmatrix} 1.0 & 0.484 & 0.413 & 0.387 \\\\0.46 & 1.0 & 0.327 & 0.443 \\\\0.319 & 0.349 & 1.0 & 0.169 \\\\0.221 & 0.168 & 0.26 & 1.0 \\\\ \\end{pmatrix}$\""
      ]
     },
     "metadata": {},
     "output_type": "display_data"
    }
   ],
   "source": [
    "C = phase1_test(A, GM)\n",
    "display(L\"C = %$(matrixLaTeXString(C))\")"
   ]
  },
  {
   "cell_type": "code",
   "execution_count": 7,
   "metadata": {},
   "outputs": [
    {
     "ename": "UndefVarError",
     "evalue": "UndefVarError: `phase2_test` not defined",
     "output_type": "error",
     "traceback": [
      "UndefVarError: `phase2_test` not defined\n",
      "\n",
      "Stacktrace:\n",
      " [1] top-level scope\n",
      "   @ /workspaces/AHP_Terauchi/src/solve-interval-ahp-test2.ipynb:1"
     ]
    }
   ],
   "source": [
    "D = phase2_test(A, AD)\n",
    "display(L\"D = %$(VectorLaTeXString(D))\")"
   ]
  },
  {
   "cell_type": "code",
   "execution_count": 8,
   "metadata": {},
   "outputs": [
    {
     "ename": "UndefVarError",
     "evalue": "UndefVarError: `phase2_test` not defined",
     "output_type": "error",
     "traceback": [
      "UndefVarError: `phase2_test` not defined\n",
      "\n",
      "Stacktrace:\n",
      " [1] top-level scope\n",
      "   @ /workspaces/AHP_Terauchi/src/solve-interval-ahp-test2.ipynb:1"
     ]
    }
   ],
   "source": [
    "D = phase2_test(A, EV)\n",
    "display(L\"D = %$(VectorLaTeXString(D))\")"
   ]
  },
  {
   "cell_type": "code",
   "execution_count": 9,
   "metadata": {},
   "outputs": [
    {
     "ename": "UndefVarError",
     "evalue": "UndefVarError: `phase2_test` not defined",
     "output_type": "error",
     "traceback": [
      "UndefVarError: `phase2_test` not defined\n",
      "\n",
      "Stacktrace:\n",
      " [1] top-level scope\n",
      "   @ /workspaces/AHP_Terauchi/src/solve-interval-ahp-test2.ipynb:1"
     ]
    }
   ],
   "source": [
    "D = phase2_test(A, GM)\n",
    "display(L\"D = %$(VectorLaTeXString(D))\")"
   ]
  },
  {
   "cell_type": "code",
   "execution_count": 10,
   "metadata": {},
   "outputs": [
    {
     "ename": "UndefVarError",
     "evalue": "UndefVarError: `solveIntervalAHP` not defined",
     "output_type": "error",
     "traceback": [
      "UndefVarError: `solveIntervalAHP` not defined\n",
      "\n",
      "Stacktrace:\n",
      " [1] top-level scope\n",
      "   @ /workspaces/AHP_Terauchi/src/solve-interval-ahp-test2.ipynb:1"
     ]
    }
   ],
   "source": [
    "solution = solveIntervalAHP(A, AD)\n",
    "W = solution.W\n",
    "# w̅̅ᴸ = solution.w̅̅ᴸ\n",
    "# w̅̅ᵁ = solution.w̅̅ᵁ\n",
    "display(L\"W = %$(intervalVectorLaTeXString(W))\")"
   ]
  },
  {
   "cell_type": "code",
   "execution_count": 11,
   "metadata": {},
   "outputs": [
    {
     "ename": "UndefVarError",
     "evalue": "UndefVarError: `solveIntervalAHP` not defined",
     "output_type": "error",
     "traceback": [
      "UndefVarError: `solveIntervalAHP` not defined\n",
      "\n",
      "Stacktrace:\n",
      " [1] top-level scope\n",
      "   @ /workspaces/AHP_Terauchi/src/solve-interval-ahp-test2.ipynb:1"
     ]
    }
   ],
   "source": [
    "solution = solveIntervalAHP(A, EV)\n",
    "W = solution.W\n",
    "# w̅̅ᴸ = solution.w̅̅ᴸ\n",
    "# w̅̅ᵁ = solution.w̅̅ᵁ\n",
    "display(L\"W = %$(intervalVectorLaTeXString(W))\")"
   ]
  },
  {
   "cell_type": "code",
   "execution_count": 12,
   "metadata": {},
   "outputs": [
    {
     "ename": "UndefVarError",
     "evalue": "UndefVarError: `solveIntervalAHP` not defined",
     "output_type": "error",
     "traceback": [
      "UndefVarError: `solveIntervalAHP` not defined\n",
      "\n",
      "Stacktrace:\n",
      " [1] top-level scope\n",
      "   @ /workspaces/AHP_Terauchi/src/solve-interval-ahp-test2.ipynb:1"
     ]
    }
   ],
   "source": [
    "solution = solveIntervalAHP(A, GM)\n",
    "W = solution.W\n",
    "# w̅̅ᴸ = solution.w̅̅ᴸ\n",
    "# w̅̅ᵁ = solution.w̅̅ᵁ\n",
    "display(L\"W = %$(intervalVectorLaTeXString(W))\")"
   ]
  }
 ],
 "metadata": {
  "kernelspec": {
   "display_name": "Julia 1.9.3",
   "language": "julia",
   "name": "julia-1.9"
  },
  "language_info": {
   "file_extension": ".jl",
   "mimetype": "application/julia",
   "name": "julia",
   "version": "1.9.3"
  }
 },
 "nbformat": 4,
 "nbformat_minor": 2
}
