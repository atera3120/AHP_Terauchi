{
 "cells": [
  {
   "cell_type": "code",
   "execution_count": 91,
   "metadata": {},
   "outputs": [],
   "source": [
    "using LaTeXStrings"
   ]
  },
  {
   "cell_type": "code",
   "execution_count": 92,
   "metadata": {},
   "outputs": [
    {
     "data": {
      "text/plain": [
       "solveIntervalAHP (generic function with 1 method)"
      ]
     },
     "metadata": {},
     "output_type": "display_data"
    }
   ],
   "source": [
    "include(\"./display/display-crisp-matrix.jl\")\n",
    "include(\"./display/display-interval-vector.jl\")\n",
    "include(\"./display/display-vector.jl\")\n",
    "include(\"./importance-estimation.jl\")\n",
    "include(\"./solve-interval-ahp.jl\")"
   ]
  },
  {
   "cell_type": "code",
   "execution_count": 93,
   "metadata": {},
   "outputs": [
    {
     "data": {
      "text/latex": [
       "$A = \\begin{pmatrix} 1.0 & 3.0 & 5.0 & 7.0 \\\\0.333 & 1.0 & 1.667 & 2.333 \\\\0.2 & 0.6 & 1.0 & 1.4 \\\\0.143 & 0.429 & 0.714 & 1.0 \\\\ \\end{pmatrix}$"
      ],
      "text/plain": [
       "L\"$A = \\begin{pmatrix} 1.0 & 3.0 & 5.0 & 7.0 \\\\0.333 & 1.0 & 1.667 & 2.333 \\\\0.2 & 0.6 & 1.0 & 1.4 \\\\0.143 & 0.429 & 0.714 & 1.0 \\\\ \\end{pmatrix}$\""
      ]
     },
     "metadata": {},
     "output_type": "display_data"
    }
   ],
   "source": [
    "A = [\n",
    "    1   3   5   7\n",
    "    1/3 1   5/3 7/3\n",
    "    1/5 3/5 1   7/5\n",
    "    1/7 3/7 5/7 1\n",
    "]\n",
    "display(L\"A = %$(matrixLaTeXString(A))\")"
   ]
  },
  {
   "cell_type": "code",
   "execution_count": 94,
   "metadata": {},
   "outputs": [
    {
     "data": {
      "text/latex": [
       "$B = \\begin{pmatrix} 1.0 & 3.0 & 7.0 \\\\0.2 & 0.6 & 1.4 \\\\0.143 & 0.429 & 1.0 \\\\ \\end{pmatrix}$"
      ],
      "text/plain": [
       "L\"$B = \\begin{pmatrix} 1.0 & 3.0 & 7.0 \\\\0.2 & 0.6 & 1.4 \\\\0.143 & 0.429 & 1.0 \\\\ \\end{pmatrix}$\""
      ]
     },
     "metadata": {},
     "output_type": "display_data"
    }
   ],
   "source": [
    "B = remove_row_col(A, 2, 3)\n",
    "display(L\"B = %$(matrixLaTeXString(B))\")"
   ]
  },
  {
   "cell_type": "code",
   "execution_count": 95,
   "metadata": {},
   "outputs": [
    {
     "data": {
      "text/latex": [
       "$C = \\begin{pmatrix} 1.0 & 0.745 & 0.677 & 0.652 \\\\0.493 & 1.0 & 0.226 & 0.217 \\\\0.296 & 0.149 & 1.0 & 0.13 \\\\0.211 & 0.106 & 0.097 & 1.0 \\\\ \\end{pmatrix}$"
      ],
      "text/plain": [
       "L\"$C = \\begin{pmatrix} 1.0 & 0.745 & 0.677 & 0.652 \\\\0.493 & 1.0 & 0.226 & 0.217 \\\\0.296 & 0.149 & 1.0 & 0.13 \\\\0.211 & 0.106 & 0.097 & 1.0 \\\\ \\end{pmatrix}$\""
      ]
     },
     "metadata": {},
     "output_type": "display_data"
    }
   ],
   "source": [
    "C = phase1_test(A, AD)\n",
    "display(L\"C = %$(matrixLaTeXString(C))\")"
   ]
  },
  {
   "cell_type": "code",
   "execution_count": 96,
   "metadata": {},
   "outputs": [
    {
     "name": "stdout",
     "output_type": "stream",
     "text": [
      "phase1phase2-1VariableRefVector{VariableRef}A"
     ]
    },
    {
     "ename": "MethodError",
     "evalue": "MethodError: Cannot `convert` an object of type AffExpr to an object of type VariableRef\n\nClosest candidates are:\n  convert(::Type{T}, !Matched::T) where T\n   @ Base Base.jl:64\n  (::Type{GenericVariableRef{T}} where T)(::Any, !Matched::Any)\n   @ JuMP ~/.julia/packages/JuMP/ToPd2/src/variables.jl:243\n",
     "output_type": "error",
     "traceback": [
      "MethodError: Cannot `convert` an object of type AffExpr to an object of type VariableRef\n",
      "\n",
      "Closest candidates are:\n",
      "  convert(::Type{T}, !Matched::T) where T\n",
      "   @ Base Base.jl:64\n",
      "  (::Type{GenericVariableRef{T}} where T)(::Any, !Matched::Any)\n",
      "   @ JuMP ~/.julia/packages/JuMP/ToPd2/src/variables.jl:243\n",
      "\n",
      "\n",
      "Stacktrace:\n",
      " [1] setindex!(A::Vector{VariableRef}, x::AffExpr, i1::Int64)\n",
      "   @ Base ./array.jl:969\n",
      " [2] solveIntervalAHP(A::Matrix{Float64}, method::typeof(AD))\n",
      "   @ Main /workspaces/AHP_Terauchi/src/solve-interval-ahp.jl:93\n",
      " [3] top-level scope\n",
      "   @ /workspaces/AHP_Terauchi/src/solve-interval-ahp-test.ipynb:1"
     ]
    }
   ],
   "source": [
    "solution = solveIntervalAHP(A, AD)\n",
    "W = solution.W\n",
    "display(L\"W = %$(intervalVectorLaTeXString(W))\")"
   ]
  }
 ],
 "metadata": {
  "kernelspec": {
   "display_name": "Julia 1.9.3",
   "language": "julia",
   "name": "julia-1.9"
  },
  "language_info": {
   "file_extension": ".jl",
   "mimetype": "application/julia",
   "name": "julia",
   "version": "1.9.3"
  }
 },
 "nbformat": 4,
 "nbformat_minor": 2
}
