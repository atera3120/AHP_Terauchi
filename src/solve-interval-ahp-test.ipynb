{
 "cells": [
  {
   "cell_type": "code",
   "execution_count": 506,
   "metadata": {},
   "outputs": [],
   "source": [
    "using LaTeXStrings"
   ]
  },
  {
   "cell_type": "code",
   "execution_count": 507,
   "metadata": {},
   "outputs": [
    {
     "data": {
      "text/plain": [
       "solveIntervalAHP (generic function with 1 method)"
      ]
     },
     "metadata": {},
     "output_type": "display_data"
    }
   ],
   "source": [
    "include(\"./display/display-crisp-matrix.jl\")\n",
    "include(\"./display/display-interval-vector.jl\")\n",
    "include(\"./display/display-vector.jl\")\n",
    "include(\"./importance-estimation.jl\")\n",
    "include(\"./solve-interval-ahp2.jl\")"
   ]
  },
  {
   "cell_type": "code",
   "execution_count": 508,
   "metadata": {},
   "outputs": [
    {
     "data": {
      "text/latex": [
       "$A = \\begin{pmatrix} 1.0 & 1.0 & 2.0 & 2.0 \\\\1.0 & 1.0 & 3.0 & 1.0 \\\\0.5 & 0.333 & 1.0 & 3.0 \\\\0.5 & 1.0 & 0.333 & 1.0 \\\\ \\end{pmatrix}$"
      ],
      "text/plain": [
       "L\"$A = \\begin{pmatrix} 1.0 & 1.0 & 2.0 & 2.0 \\\\1.0 & 1.0 & 3.0 & 1.0 \\\\0.5 & 0.333 & 1.0 & 3.0 \\\\0.5 & 1.0 & 0.333 & 1.0 \\\\ \\end{pmatrix}$\""
      ]
     },
     "metadata": {},
     "output_type": "display_data"
    }
   ],
   "source": [
    "# A = [\n",
    "#     1   3   5   7\n",
    "#     1/3 1   5/3 7/3\n",
    "#     1/5 3/5 1   7/5\n",
    "#     1/7 3/7 5/7 1\n",
    "# ]\n",
    "# A = [\n",
    "#     1 1 1 1\n",
    "#     1 1 1 1\n",
    "#     1 1 1 1\n",
    "#     1 1 1 1.0\n",
    "# ]\n",
    "# A = [\n",
    "#     1   2   4   5\n",
    "#     1/2 1   2   5/2\n",
    "#     1/4 1/2 1   5/4\n",
    "#     1/5 2/5 4/5 1\n",
    "# ]\n",
    "\n",
    "A = [\n",
    "    1 1 2 2\n",
    "    1 1 3 1\n",
    "    1/2 1/3 1 3\n",
    "    1/2 1 1/3 1\n",
    "]\n",
    "\n",
    "display(L\"A = %$(matrixLaTeXString(A))\")"
   ]
  },
  {
   "cell_type": "code",
   "execution_count": 509,
   "metadata": {},
   "outputs": [
    {
     "data": {
      "text/latex": [
       "$B = \\begin{pmatrix} 1.0 & 1.0 & 2.0 \\\\0.5 & 0.333 & 3.0 \\\\0.5 & 1.0 & 1.0 \\\\ \\end{pmatrix}$"
      ],
      "text/plain": [
       "L\"$B = \\begin{pmatrix} 1.0 & 1.0 & 2.0 \\\\0.5 & 0.333 & 3.0 \\\\0.5 & 1.0 & 1.0 \\\\ \\end{pmatrix}$\""
      ]
     },
     "metadata": {},
     "output_type": "display_data"
    }
   ],
   "source": [
    "B = remove_row_col(A, 2, 3)\n",
    "display(L\"B = %$(matrixLaTeXString(B))\")"
   ]
  },
  {
   "cell_type": "code",
   "execution_count": 510,
   "metadata": {},
   "outputs": [
    {
     "data": {
      "text/latex": [
       "$C = \\begin{pmatrix} 1.0 & 0.333 & 0.333 & 0.333 \\\\0.2 & 1.0 & 0.333 & 0.5 \\\\0.6 & 0.5 & 1.0 & 0.167 \\\\0.2 & 0.167 & 0.333 & 1.0 \\\\ \\end{pmatrix}$"
      ],
      "text/plain": [
       "L\"$C = \\begin{pmatrix} 1.0 & 0.333 & 0.333 & 0.333 \\\\0.2 & 1.0 & 0.333 & 0.5 \\\\0.6 & 0.5 & 1.0 & 0.167 \\\\0.2 & 0.167 & 0.333 & 1.0 \\\\ \\end{pmatrix}$\""
      ]
     },
     "metadata": {},
     "output_type": "display_data"
    }
   ],
   "source": [
    "C = phase1_test(A, AD)\n",
    "display(L\"C = %$(matrixLaTeXString(C))\")"
   ]
  },
  {
   "cell_type": "code",
   "execution_count": 511,
   "metadata": {},
   "outputs": [
    {
     "data": {
      "text/latex": [
       "$D = \\begin{pmatrix} 0.528 \\\\ 0.34 \\\\ 0.19 \\\\ 0.151 \\end{pmatrix}$"
      ],
      "text/plain": [
       "L\"$D = \\begin{pmatrix} 0.528 \\\\ 0.34 \\\\ 0.19 \\\\ 0.151 \\end{pmatrix}$\""
      ]
     },
     "metadata": {},
     "output_type": "display_data"
    }
   ],
   "source": [
    "D = phase2_test(A, AD)\n",
    "display(L\"D = %$(VectorLaTeXString(D))\")"
   ]
  },
  {
   "cell_type": "code",
   "execution_count": 512,
   "metadata": {},
   "outputs": [
    {
     "data": {
      "text/latex": [
       "$W = \\begin{pmatrix} \\left[ 0.0, 0.528 \\right] \\\\ \\left[ 0.0, 0.532 \\right] \\\\ \\left[ 0.0, 0.785 \\right] \\\\ \\left[ 0.04, 0.413 \\right] \\end{pmatrix}$"
      ],
      "text/plain": [
       "L\"$W = \\begin{pmatrix} \\left[ 0.0, 0.528 \\right] \\\\ \\left[ 0.0, 0.532 \\right] \\\\ \\left[ 0.0, 0.785 \\right] \\\\ \\left[ 0.04, 0.413 \\right] \\end{pmatrix}$\""
      ]
     },
     "metadata": {},
     "output_type": "display_data"
    }
   ],
   "source": [
    "solution = solveIntervalAHP(A, AD)\n",
    "W = solution.W\n",
    "# w̅̅ᴸ = solution.w̅̅ᴸ\n",
    "# w̅̅ᵁ = solution.w̅̅ᵁ\n",
    "display(L\"W = %$(intervalVectorLaTeXString(W))\")"
   ]
  }
 ],
 "metadata": {
  "kernelspec": {
   "display_name": "Julia 1.9.3",
   "language": "julia",
   "name": "julia-1.9"
  },
  "language_info": {
   "file_extension": ".jl",
   "mimetype": "application/julia",
   "name": "julia",
   "version": "1.9.3"
  }
 },
 "nbformat": 4,
 "nbformat_minor": 2
}
