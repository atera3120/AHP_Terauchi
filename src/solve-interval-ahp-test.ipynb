{
 "cells": [
  {
   "cell_type": "code",
   "execution_count": 87,
   "metadata": {},
   "outputs": [],
   "source": [
    "using LaTeXStrings"
   ]
  },
  {
   "cell_type": "code",
   "execution_count": 88,
   "metadata": {},
   "outputs": [
    {
     "ename": "LoadError",
     "evalue": "LoadError: At /workspaces/AHP_Terauchi/src/solve-interval-ahp.jl:140: `@constraint(model, d_kbar = d_star[k])`: No constraint expression detected. If you are trying to construct an equality constraint, use `==` instead of `=`.\nin expression starting at /workspaces/AHP_Terauchi/src/solve-interval-ahp.jl:140\nin expression starting at /workspaces/AHP_Terauchi/src/solve-interval-ahp.jl:54",
     "output_type": "error",
     "traceback": [
      "LoadError: At /workspaces/AHP_Terauchi/src/solve-interval-ahp.jl:140: `@constraint(model, d_kbar = d_star[k])`: No constraint expression detected. If you are trying to construct an equality constraint, use `==` instead of `=`.\n",
      "in expression starting at /workspaces/AHP_Terauchi/src/solve-interval-ahp.jl:140\n",
      "in expression starting at /workspaces/AHP_Terauchi/src/solve-interval-ahp.jl:54\n",
      "\n",
      "Stacktrace:\n",
      " [1] error(::String, ::String)\n",
      "   @ Base ./error.jl:44\n",
      " [2] _macro_error(macroname::Symbol, args::Tuple{Symbol, Expr}, source::LineNumberNode, str::String)\n",
      "   @ JuMP ~/.julia/packages/JuMP/ToPd2/src/macros.jl:2225\n",
      " [3] (::JuMP.var\"#_error#90\"{Tuple{Symbol, Expr}, Symbol, LineNumberNode})(str::String)\n",
      "   @ JuMP ~/.julia/packages/JuMP/ToPd2/src/macros.jl:1250\n",
      " [4] _constraint_macro(args::Tuple{Symbol, Expr}, macro_name::Symbol, parsefun::typeof(parse_constraint), source::LineNumberNode)\n",
      "   @ JuMP ~/.julia/packages/JuMP/ToPd2/src/macros.jl:1258\n",
      " [5] var\"@constraint\"(__source__::LineNumberNode, __module__::Module, args::Vararg{Any})\n",
      "   @ JuMP ~/.julia/packages/JuMP/ToPd2/src/macros.jl:1440\n",
      " [6] include(fname::String)\n",
      "   @ Base.MainInclude ./client.jl:478\n",
      " [7] top-level scope\n",
      "   @ /workspaces/AHP_Terauchi/src/solve-interval-ahp-test.ipynb:5"
     ]
    }
   ],
   "source": [
    "include(\"./display/display-crisp-matrix.jl\")\n",
    "include(\"./display/display-interval-vector.jl\")\n",
    "include(\"./display/display-vector.jl\")\n",
    "include(\"./importance-estimation.jl\")\n",
    "include(\"./solve-interval-ahp.jl\")"
   ]
  },
  {
   "cell_type": "code",
   "execution_count": 89,
   "metadata": {},
   "outputs": [
    {
     "data": {
      "text/latex": [
       "$A = \\begin{pmatrix} 1.0 & 3.0 & 5.0 & 7.0 \\\\0.333 & 1.0 & 1.667 & 2.333 \\\\0.2 & 0.6 & 1.0 & 1.4 \\\\0.143 & 0.429 & 0.714 & 1.0 \\\\ \\end{pmatrix}$"
      ],
      "text/plain": [
       "L\"$A = \\begin{pmatrix} 1.0 & 3.0 & 5.0 & 7.0 \\\\0.333 & 1.0 & 1.667 & 2.333 \\\\0.2 & 0.6 & 1.0 & 1.4 \\\\0.143 & 0.429 & 0.714 & 1.0 \\\\ \\end{pmatrix}$\""
      ]
     },
     "metadata": {},
     "output_type": "display_data"
    }
   ],
   "source": [
    "A = [\n",
    "    1   3   5   7\n",
    "    1/3 1   5/3 7/3\n",
    "    1/5 3/5 1   7/5\n",
    "    1/7 3/7 5/7 1\n",
    "]\n",
    "display(L\"A = %$(matrixLaTeXString(A))\")"
   ]
  },
  {
   "cell_type": "code",
   "execution_count": 90,
   "metadata": {},
   "outputs": [
    {
     "data": {
      "text/latex": [
       "$B = \\begin{pmatrix} 1.0 & 3.0 & 7.0 \\\\0.2 & 0.6 & 1.4 \\\\0.143 & 0.429 & 1.0 \\\\ \\end{pmatrix}$"
      ],
      "text/plain": [
       "L\"$B = \\begin{pmatrix} 1.0 & 3.0 & 7.0 \\\\0.2 & 0.6 & 1.4 \\\\0.143 & 0.429 & 1.0 \\\\ \\end{pmatrix}$\""
      ]
     },
     "metadata": {},
     "output_type": "display_data"
    }
   ],
   "source": [
    "B = remove_row_col(A, 2, 3)\n",
    "display(L\"B = %$(matrixLaTeXString(B))\")"
   ]
  },
  {
   "cell_type": "code",
   "execution_count": 91,
   "metadata": {},
   "outputs": [
    {
     "data": {
      "text/latex": [
       "$C = \\begin{pmatrix} 1.0 & 0.745 & 0.677 & 0.652 \\\\0.493 & 1.0 & 0.226 & 0.217 \\\\0.296 & 0.149 & 1.0 & 0.13 \\\\0.211 & 0.106 & 0.097 & 1.0 \\\\ \\end{pmatrix}$"
      ],
      "text/plain": [
       "L\"$C = \\begin{pmatrix} 1.0 & 0.745 & 0.677 & 0.652 \\\\0.493 & 1.0 & 0.226 & 0.217 \\\\0.296 & 0.149 & 1.0 & 0.13 \\\\0.211 & 0.106 & 0.097 & 1.0 \\\\ \\end{pmatrix}$\""
      ]
     },
     "metadata": {},
     "output_type": "display_data"
    }
   ],
   "source": [
    "C = phase1_test(A, AD)\n",
    "display(L\"C = %$(matrixLaTeXString(C))\")"
   ]
  },
  {
   "cell_type": "code",
   "execution_count": 92,
   "metadata": {},
   "outputs": [
    {
     "ename": "MethodError",
     "evalue": "MethodError: no method matching solveIntervalAHP(::Matrix{Float64}, ::typeof(AD))\n\nClosest candidates are:\n  solveIntervalAHP(::Matrix{T}) where T<:Real\n   @ Main /workspaces/AHP_Terauchi/src/solve-interval-ahp.jl:30\n",
     "output_type": "error",
     "traceback": [
      "MethodError: no method matching solveIntervalAHP(::Matrix{Float64}, ::typeof(AD))\n",
      "\n",
      "Closest candidates are:\n",
      "  solveIntervalAHP(::Matrix{T}) where T<:Real\n",
      "   @ Main /workspaces/AHP_Terauchi/src/solve-interval-ahp.jl:30\n",
      "\n",
      "\n",
      "Stacktrace:\n",
      " [1] top-level scope\n",
      "   @ /workspaces/AHP_Terauchi/src/solve-interval-ahp-test.ipynb:1"
     ]
    }
   ],
   "source": [
    "solution = solveIntervalAHP(A, AD)\n",
    "W = solution.W\n",
    "display(L\"W = %$(intervalVectorLaTeXString(W))\")"
   ]
  }
 ],
 "metadata": {
  "kernelspec": {
   "display_name": "Julia 1.9.3",
   "language": "julia",
   "name": "julia-1.9"
  },
  "language_info": {
   "file_extension": ".jl",
   "mimetype": "application/julia",
   "name": "julia",
   "version": "1.9.3"
  }
 },
 "nbformat": 4,
 "nbformat_minor": 2
}
