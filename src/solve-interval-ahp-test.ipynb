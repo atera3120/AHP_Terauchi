{
 "cells": [
  {
   "cell_type": "code",
   "execution_count": 314,
   "metadata": {},
   "outputs": [],
   "source": [
    "using LaTeXStrings"
   ]
  },
  {
   "cell_type": "code",
   "execution_count": 315,
   "metadata": {},
   "outputs": [
    {
     "ename": "LoadError",
     "evalue": "LoadError: At /workspaces/AHP_Terauchi/src/solve-interval-ahp2.jl:251: `@constraint(model, Σl = d⃰[k])`: No constraint expression detected. If you are trying to construct an equality constraint, use `==` instead of `=`.\nin expression starting at /workspaces/AHP_Terauchi/src/solve-interval-ahp2.jl:251\nin expression starting at /workspaces/AHP_Terauchi/src/solve-interval-ahp2.jl:123",
     "output_type": "error",
     "traceback": [
      "LoadError: At /workspaces/AHP_Terauchi/src/solve-interval-ahp2.jl:251: `@constraint(model, Σl = d⃰[k])`: No constraint expression detected. If you are trying to construct an equality constraint, use `==` instead of `=`.\n",
      "in expression starting at /workspaces/AHP_Terauchi/src/solve-interval-ahp2.jl:251\n",
      "in expression starting at /workspaces/AHP_Terauchi/src/solve-interval-ahp2.jl:123\n",
      "\n",
      "Stacktrace:\n",
      " [1] error(::String, ::String)\n",
      "   @ Base ./error.jl:44\n",
      " [2] _macro_error(macroname::Symbol, args::Tuple{Symbol, Expr}, source::LineNumberNode, str::String)\n",
      "   @ JuMP ~/.julia/packages/JuMP/ToPd2/src/macros.jl:2225\n",
      " [3] (::JuMP.var\"#_error#90\"{Tuple{Symbol, Expr}, Symbol, LineNumberNode})(str::String)\n",
      "   @ JuMP ~/.julia/packages/JuMP/ToPd2/src/macros.jl:1250\n",
      " [4] _constraint_macro(args::Tuple{Symbol, Expr}, macro_name::Symbol, parsefun::typeof(parse_constraint), source::LineNumberNode)\n",
      "   @ JuMP ~/.julia/packages/JuMP/ToPd2/src/macros.jl:1258\n",
      " [5] var\"@constraint\"(__source__::LineNumberNode, __module__::Module, args::Vararg{Any})\n",
      "   @ JuMP ~/.julia/packages/JuMP/ToPd2/src/macros.jl:1440\n",
      " [6] include(fname::String)\n",
      "   @ Base.MainInclude ./client.jl:478\n",
      " [7] top-level scope\n",
      "   @ /workspaces/AHP_Terauchi/src/solve-interval-ahp-test.ipynb:5"
     ]
    }
   ],
   "source": [
    "include(\"./display/display-crisp-matrix.jl\")\n",
    "include(\"./display/display-interval-vector.jl\")\n",
    "include(\"./display/display-vector.jl\")\n",
    "include(\"./importance-estimation.jl\")\n",
    "include(\"./solve-interval-ahp2.jl\")"
   ]
  },
  {
   "cell_type": "code",
   "execution_count": 316,
   "metadata": {},
   "outputs": [
    {
     "data": {
      "text/latex": [
       "$A = \\begin{pmatrix} 1.0 & 1.0 & 2.0 & 2.0 \\\\1.0 & 1.0 & 3.0 & 1.0 \\\\0.5 & 0.333 & 1.0 & 3.0 \\\\0.5 & 1.0 & 0.333 & 1.0 \\\\ \\end{pmatrix}$"
      ],
      "text/plain": [
       "L\"$A = \\begin{pmatrix} 1.0 & 1.0 & 2.0 & 2.0 \\\\1.0 & 1.0 & 3.0 & 1.0 \\\\0.5 & 0.333 & 1.0 & 3.0 \\\\0.5 & 1.0 & 0.333 & 1.0 \\\\ \\end{pmatrix}$\""
      ]
     },
     "metadata": {},
     "output_type": "display_data"
    }
   ],
   "source": [
    "# A = [\n",
    "#     1   3   5   7\n",
    "#     1/3 1   5/3 7/3\n",
    "#     1/5 3/5 1   7/5\n",
    "#     1/7 3/7 5/7 1\n",
    "# ]\n",
    "# A = [\n",
    "#     1 1 1 1\n",
    "#     1 1 1 1\n",
    "#     1 1 1 1\n",
    "#     1 1 1 1.0\n",
    "# ]\n",
    "# A = [\n",
    "#     1   2   4   5\n",
    "#     1/2 1   2   5/2\n",
    "#     1/4 1/2 1   5/4\n",
    "#     1/5 2/5 4/5 1\n",
    "# ]\n",
    "\n",
    "A = [\n",
    "    1 1 2 2\n",
    "    1 1 3 1\n",
    "    1/2 1/3 1 3\n",
    "    1/2 1 1/3 1\n",
    "]\n",
    "\n",
    "display(L\"A = %$(matrixLaTeXString(A))\")"
   ]
  },
  {
   "cell_type": "code",
   "execution_count": 317,
   "metadata": {},
   "outputs": [
    {
     "data": {
      "text/latex": [
       "$B = \\begin{pmatrix} 1.0 & 1.0 & 2.0 \\\\0.5 & 0.333 & 3.0 \\\\0.5 & 1.0 & 1.0 \\\\ \\end{pmatrix}$"
      ],
      "text/plain": [
       "L\"$B = \\begin{pmatrix} 1.0 & 1.0 & 2.0 \\\\0.5 & 0.333 & 3.0 \\\\0.5 & 1.0 & 1.0 \\\\ \\end{pmatrix}$\""
      ]
     },
     "metadata": {},
     "output_type": "display_data"
    }
   ],
   "source": [
    "B = remove_row_col(A, 2, 3)\n",
    "display(L\"B = %$(matrixLaTeXString(B))\")"
   ]
  },
  {
   "cell_type": "code",
   "execution_count": 318,
   "metadata": {},
   "outputs": [
    {
     "data": {
      "text/latex": [
       "$C = \\begin{pmatrix} 1.0 & 0.333 & 0.333 & 0.333 \\\\0.2 & 1.0 & 0.333 & 0.5 \\\\0.6 & 0.5 & 1.0 & 0.167 \\\\0.2 & 0.167 & 0.333 & 1.0 \\\\ \\end{pmatrix}$"
      ],
      "text/plain": [
       "L\"$C = \\begin{pmatrix} 1.0 & 0.333 & 0.333 & 0.333 \\\\0.2 & 1.0 & 0.333 & 0.5 \\\\0.6 & 0.5 & 1.0 & 0.167 \\\\0.2 & 0.167 & 0.333 & 1.0 \\\\ \\end{pmatrix}$\""
      ]
     },
     "metadata": {},
     "output_type": "display_data"
    }
   ],
   "source": [
    "C = phase1_test(A, AD)\n",
    "display(L\"C = %$(matrixLaTeXString(C))\")"
   ]
  },
  {
   "cell_type": "code",
   "execution_count": 319,
   "metadata": {},
   "outputs": [
    {
     "data": {
      "text/latex": [
       "$D = \\begin{pmatrix} 0.528 \\\\ 0.34 \\\\ 0.19 \\\\ 0.151 \\end{pmatrix}$"
      ],
      "text/plain": [
       "L\"$D = \\begin{pmatrix} 0.528 \\\\ 0.34 \\\\ 0.19 \\\\ 0.151 \\end{pmatrix}$\""
      ]
     },
     "metadata": {},
     "output_type": "display_data"
    },
    {
     "name": "stdout",
     "output_type": "stream",
     "text": [
      "[0.2641509409433962, 0.14716979981132078, 0.3433962262264152, 0.03773586584905675][0.12765957021276608, 0.1702127636170213, 0.21276595702127662, 1.0e-8][0.07936507650793637, 1.0e-8, 0.09523809380952375, 0.11111111111111117][0.07142857000000011, 0.07936507888888891, 1.0e-8, 0.05555555222222225]"
     ]
    }
   ],
   "source": [
    "D = phase2_test(A, AD)\n",
    "display(L\"D = %$(VectorLaTeXString(D))\")"
   ]
  },
  {
   "cell_type": "code",
   "execution_count": 320,
   "metadata": {},
   "outputs": [
    {
     "ename": "UndefVarError",
     "evalue": "UndefVarError: `solveIntervalAHP` not defined",
     "output_type": "error",
     "traceback": [
      "UndefVarError: `solveIntervalAHP` not defined\n",
      "\n",
      "Stacktrace:\n",
      " [1] top-level scope\n",
      "   @ /workspaces/AHP_Terauchi/src/solve-interval-ahp-test.ipynb:1"
     ]
    }
   ],
   "source": [
    "solution = solveIntervalAHP(A, AD)\n",
    "W = solution.W\n",
    "display(L\"W = %$(intervalVectorLaTeXString(W))\")"
   ]
  }
 ],
 "metadata": {
  "kernelspec": {
   "display_name": "Julia 1.9.3",
   "language": "julia",
   "name": "julia-1.9"
  },
  "language_info": {
   "file_extension": ".jl",
   "mimetype": "application/julia",
   "name": "julia",
   "version": "1.9.3"
  }
 },
 "nbformat": 4,
 "nbformat_minor": 2
}
