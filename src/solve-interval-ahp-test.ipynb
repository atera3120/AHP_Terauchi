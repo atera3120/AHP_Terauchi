{
 "cells": [
  {
   "cell_type": "markdown",
   "metadata": {},
   "source": [
    "# 11/10ゼミ\n",
    "\n",
    "**提案手法**  \n",
    "**Phase 1**  \n",
    "区間重要度の中心を各手法で推定  \n",
    "* $k$ 番目を除いた $n-1$ 個の $w_i$ に対して EV, GM, AD で $w_{i}^{C}$ を求める（この時点でそれらの総和は１となる）\n",
    "* 上記で求めた $w_{i}^{C}$ の和を $\\mu$ 倍することで、 $k$ 番目の区間重要度中心は $1-\\mu$ となる\n",
    "\n",
    "**Phase 2**  \n",
    "各 $k$ に対して、以下の線形最適化問題を解き、最適値を $d_{\\overline{k}}^{*}$ とする：  \n",
    "$$\n",
    "\\begin{align*}\n",
    "\\operatorname{minimize} ~~ & ~~\n",
    "d_{\\overline{k}} = \\sum_{j \\neq k} l_j, \\\\\n",
    "\\text{subject to} ~~ & ~~\n",
    "a_{ij} \\left( \\mu w_{j}^{C} - l_j \\right) \\leq \\mu w_{i}^{C} + l_i, &&\n",
    "i \\neq j, k, ~~ & j \\neq k \\\\ & ~~\n",
    "a_{kj} \\left( \\mu w_{j}^{C} - l_j \\right) \\leq 1-\\mu + l_k, &&\n",
    "j \\neq k \\\\ & ~~\n",
    "a_{ik} \\{ \\left(1- \\mu \\right) - l_k \\} \\leq \\mu w_{i}^{C} + l_i, &&\n",
    "i \\neq k \\\\ & ~~\n",
    "\\left( 1 - \\mu \\right) + l_k + \\sum_{i \\neq j, k} \\left( \\mu w_{i}^{C} + l_i \\right) + \\mu w_{j}^{C} - l_j \\geq 1, &&\n",
    "i \\in N \\backslash k \\\\ & ~~\n",
    "\\left( 1 - \\mu \\right) - l_k + \\sum_{i \\neq j, k} \\left( \\mu w_{i}^{C} - l_i \\right) + \\mu w_{j}^{C} + l_j \\leq 1, &&\n",
    "i \\in N \\backslash k \\\\ & ~~\n",
    "\\mu w_{i}^{C} - l_i \\geq \\epsilon, &&\n",
    "i \\in N, ~~ & i \\neq k \\\\ & ~~\n",
    "\n",
    "\\left( 1 - \\mu \\right) - l_k \\geq \\epsilon \\\\ & ~~\n",
    "\\sum_{i \\neq k} \\left( \\mu w_{i}^{C} + l_i \\right) + \\left( 1 - \\mu \\right) - l_k \\geq 1 \\\\ & ~~\n",
    "\\sum_{i \\neq k} \\left( \\mu w_{i}^{C} - l_i \\right) + \\left( 1 - \\mu \\right) + l_k \\leq 1 \\\\ & ~~\n",
    "\n",
    "\n",
    "\\end{align*}\n",
    "$$\n",
    "\n"
   ]
  },
  {
   "cell_type": "markdown",
   "metadata": {},
   "source": [
    "**Phase 3**  \n",
    "各 $k$ に対して、以下の線形最適化問題を解き、最適値を $l_{k}^{*}$ とする：  \n",
    "$$\n",
    "\\begin{align*}\n",
    "\\operatorname{minimize} ~~ & ~~\n",
    "l_k, \\\\\n",
    "\\text{subject to} ~~ & ~~\n",
    "a_{ij} \\left( \\mu w_{j}^{C} - l_j \\right) \\leq \\mu w_{i}^{C} + l_i, &&\n",
    "i \\neq j, ~~ & j \\neq k \\\\ & ~~\n",
    "a_{ik} \\{ \\left(1- \\mu \\right) - l_k \\} \\leq \\mu w_{i}^{C} + l_i, &&\n",
    "i \\neq k \\\\ & ~~\n",
    "\\left( 1 - \\mu \\right) + l_k + \\sum_{i \\neq j, k} \\left( \\mu w_{i}^{C} + l_i \\right) + \\mu w_{j}^{C} - l_j \\geq 1, &&\n",
    "i \\in N \\backslash k \\\\ & ~~\n",
    "\\left( 1 - \\mu \\right) - l_k + \\sum_{i \\neq j, k} \\left( \\mu w_{i}^{C} - l_i \\right) + \\mu w_{j}^{C} + l_j \\leq 1, &&\n",
    "i \\in N \\backslash k \\\\ & ~~\n",
    "\\mu w_{i}^{C} - l_i \\geq \\epsilon, &&\n",
    "i \\in N, ~~ & i \\neq k \\\\ & ~~\n",
    "\n",
    "\\left( 1 - \\mu \\right) - l_k \\geq \\epsilon \\\\ & ~~\n",
    "\\sum_{i \\neq k} \\left( \\mu w_{i}^{C} + l_i \\right) + \\left( 1 - \\mu \\right) - l_k \\geq 1 \\\\ & ~~\n",
    "\\sum_{i \\neq k} \\left( \\mu w_{i}^{C} - l_i \\right) + \\left( 1 - \\mu \\right) + l_k \\leq 1 \\\\ & ~~\n",
    "\\sum_{i \\neq j, k} l_k = d_{\\overline{k}}^{*}\\\\ & ~~\n",
    "\n",
    "\n",
    "\\end{align*}\n",
    "$$"
   ]
  },
  {
   "cell_type": "code",
   "execution_count": 524,
   "metadata": {},
   "outputs": [],
   "source": [
    "using LaTeXStrings"
   ]
  },
  {
   "cell_type": "code",
   "execution_count": 525,
   "metadata": {},
   "outputs": [
    {
     "data": {
      "text/plain": [
       "solveIntervalAHP (generic function with 1 method)"
      ]
     },
     "metadata": {},
     "output_type": "display_data"
    }
   ],
   "source": [
    "include(\"./display/display-crisp-matrix.jl\")\n",
    "include(\"./display/display-interval-vector.jl\")\n",
    "include(\"./display/display-vector.jl\")\n",
    "include(\"./crisp-pcm.jl\")\n",
    "include(\"./importance-estimation.jl\")\n",
    "include(\"./solve-interval-ahp.jl\")"
   ]
  },
  {
   "cell_type": "code",
   "execution_count": 526,
   "metadata": {},
   "outputs": [
    {
     "data": {
      "text/latex": [
       "$A = \\begin{pmatrix} 1.0 & 3.0 & 5.0 & 7.0 \\\\0.333 & 1.0 & 1.667 & 2.333 \\\\0.2 & 0.6 & 1.0 & 1.4 \\\\0.143 & 0.429 & 0.714 & 1.0 \\\\ \\end{pmatrix}$"
      ],
      "text/plain": [
       "L\"$A = \\begin{pmatrix} 1.0 & 3.0 & 5.0 & 7.0 \\\\0.333 & 1.0 & 1.667 & 2.333 \\\\0.2 & 0.6 & 1.0 & 1.4 \\\\0.143 & 0.429 & 0.714 & 1.0 \\\\ \\end{pmatrix}$\""
      ]
     },
     "metadata": {},
     "output_type": "display_data"
    }
   ],
   "source": [
    "# 完全整合\n",
    "# A = [\n",
    "#     1 1 1 1\n",
    "#     1 1 1 1\n",
    "#     1 1 1 1\n",
    "#     1 1 1 1.0\n",
    "# ]\n",
    "A = [\n",
    "    1   3   5   7\n",
    "    1/3 1   5/3 7/3\n",
    "    1/5 3/5 1   7/5\n",
    "    1/7 3/7 5/7 1\n",
    "]\n",
    "# A = [\n",
    "#     1 1 1/3\n",
    "#     1 1 1/3\n",
    "#     3 3 1\n",
    "# ]\n",
    "\n",
    "# CI = 0.01\n",
    "# A = [\n",
    "#     1 2 4/3 4/3\n",
    "#     1/2 1 1 1\n",
    "#     3/4 1 1 3/2\n",
    "#     3/4 1 2/3 1.0\n",
    "# ]\n",
    "# A = [\n",
    "#     1 1 2/3 1\n",
    "#     1 1 4/9 2/3\n",
    "#     3/2 9/4 1 1\n",
    "#     1 3/2 1 1.0\n",
    "# ]\n",
    "\n",
    "# CI = 0.15\n",
    "# A = [\n",
    "#     1 1 2 2\n",
    "#     1 1 3 1\n",
    "#     1/2 1/3 1 3\n",
    "#     1/2 1 1/3 1\n",
    "# ]\n",
    "\n",
    "display(L\"A = %$(matrixLaTeXString(A))\")"
   ]
  },
  {
   "cell_type": "code",
   "execution_count": 527,
   "metadata": {},
   "outputs": [
    {
     "data": {
      "text/plain": [
       "-1.4802973661668753e-16"
      ]
     },
     "metadata": {},
     "output_type": "display_data"
    }
   ],
   "source": [
    "consistencyIndex(A)"
   ]
  },
  {
   "cell_type": "code",
   "execution_count": 528,
   "metadata": {},
   "outputs": [
    {
     "data": {
      "text/latex": [
       "$EV₁ = \\begin{pmatrix} 0.597 \\\\ 0.199 \\\\ 0.119 \\\\ 0.085 \\end{pmatrix}$"
      ],
      "text/plain": [
       "L\"$EV₁ = \\begin{pmatrix} 0.597 \\\\ 0.199 \\\\ 0.119 \\\\ 0.085 \\end{pmatrix}$\""
      ]
     },
     "metadata": {},
     "output_type": "display_data"
    },
    {
     "data": {
      "text/latex": [
       "$GM₁ = \\begin{pmatrix} 0.597 \\\\ 0.199 \\\\ 0.119 \\\\ 0.085 \\end{pmatrix}$"
      ],
      "text/plain": [
       "L\"$GM₁ = \\begin{pmatrix} 0.597 \\\\ 0.199 \\\\ 0.119 \\\\ 0.085 \\end{pmatrix}$\""
      ]
     },
     "metadata": {},
     "output_type": "display_data"
    },
    {
     "data": {
      "text/latex": [
       "$AD₁ = \\begin{pmatrix} 0.597 \\\\ 0.199 \\\\ 0.119 \\\\ 0.085 \\end{pmatrix}$"
      ],
      "text/plain": [
       "L\"$AD₁ = \\begin{pmatrix} 0.597 \\\\ 0.199 \\\\ 0.119 \\\\ 0.085 \\end{pmatrix}$\""
      ]
     },
     "metadata": {},
     "output_type": "display_data"
    }
   ],
   "source": [
    "EV₁ = EV(A)\n",
    "GM₁ = GM(A)\n",
    "AD₁ = AD(A)\n",
    "display(L\"EV₁ = %$(VectorLaTeXString(EV₁))\")\n",
    "display(L\"GM₁ = %$(VectorLaTeXString(GM₁))\")\n",
    "display(L\"AD₁ = %$(VectorLaTeXString(AD₁))\")"
   ]
  },
  {
   "cell_type": "code",
   "execution_count": 529,
   "metadata": {},
   "outputs": [],
   "source": [
    "# D = phase2(A, EV)\n",
    "# display(L\"D = %$(VectorLaTeXString(D))\")"
   ]
  },
  {
   "cell_type": "code",
   "execution_count": 530,
   "metadata": {},
   "outputs": [],
   "source": [
    "# D = phase2(A, AD)\n",
    "# display(L\"D = %$(VectorLaTeXString(D))\")"
   ]
  },
  {
   "cell_type": "code",
   "execution_count": 531,
   "metadata": {},
   "outputs": [],
   "source": [
    "# D = phase2(A, GM)\n",
    "# display(L\"D = %$(VectorLaTeXString(D))\")"
   ]
  },
  {
   "cell_type": "code",
   "execution_count": 532,
   "metadata": {},
   "outputs": [
    {
     "data": {
      "text/latex": [
       "$EV = \\begin{pmatrix} \\left[ 0.597, 0.597 \\right] \\\\ \\left[ 0.199, 0.199 \\right] \\\\ \\left[ 0.119, 0.119 \\right] \\\\ \\left[ 0.085, 0.085 \\right] \\end{pmatrix}$"
      ],
      "text/plain": [
       "L\"$EV = \\begin{pmatrix} \\left[ 0.597, 0.597 \\right] \\\\ \\left[ 0.199, 0.199 \\right] \\\\ \\left[ 0.119, 0.119 \\right] \\\\ \\left[ 0.085, 0.085 \\right] \\end{pmatrix}$\""
      ]
     },
     "metadata": {},
     "output_type": "display_data"
    }
   ],
   "source": [
    "solution = solveIntervalAHP(A, EV)\n",
    "W = solution.W\n",
    "# w̅̅ᴸ = solution.w̅̅ᴸ\n",
    "# w̅̅ᵁ = solution.w̅̅ᵁ\n",
    "display(L\"EV = %$(intervalVectorLaTeXString(W))\")"
   ]
  },
  {
   "cell_type": "code",
   "execution_count": 533,
   "metadata": {},
   "outputs": [
    {
     "data": {
      "text/latex": [
       "$AD = \\begin{pmatrix} \\left[ 0.597, 0.597 \\right] \\\\ \\left[ 0.199, 0.199 \\right] \\\\ \\left[ 0.119, 0.119 \\right] \\\\ \\left[ 0.085, 0.085 \\right] \\end{pmatrix}$"
      ],
      "text/plain": [
       "L\"$AD = \\begin{pmatrix} \\left[ 0.597, 0.597 \\right] \\\\ \\left[ 0.199, 0.199 \\right] \\\\ \\left[ 0.119, 0.119 \\right] \\\\ \\left[ 0.085, 0.085 \\right] \\end{pmatrix}$\""
      ]
     },
     "metadata": {},
     "output_type": "display_data"
    }
   ],
   "source": [
    "solution = solveIntervalAHP(A, AD)\n",
    "W = solution.W\n",
    "# w̅̅ᴸ = solution.w̅̅ᴸ\n",
    "# w̅̅ᵁ = solution.w̅̅ᵁ\n",
    "display(L\"AD = %$(intervalVectorLaTeXString(W))\")"
   ]
  },
  {
   "cell_type": "code",
   "execution_count": 534,
   "metadata": {},
   "outputs": [
    {
     "data": {
      "text/latex": [
       "$GM = \\begin{pmatrix} \\left[ 0.597, 0.597 \\right] \\\\ \\left[ 0.199, 0.199 \\right] \\\\ \\left[ 0.119, 0.119 \\right] \\\\ \\left[ 0.085, 0.085 \\right] \\end{pmatrix}$"
      ],
      "text/plain": [
       "L\"$GM = \\begin{pmatrix} \\left[ 0.597, 0.597 \\right] \\\\ \\left[ 0.199, 0.199 \\right] \\\\ \\left[ 0.119, 0.119 \\right] \\\\ \\left[ 0.085, 0.085 \\right] \\end{pmatrix}$\""
      ]
     },
     "metadata": {},
     "output_type": "display_data"
    }
   ],
   "source": [
    "solution = solveIntervalAHP(A, GM)\n",
    "W = solution.W\n",
    "# w̅̅ᴸ = solution.w̅̅ᴸ\n",
    "# w̅̅ᵁ = solution.w̅̅ᵁ\n",
    "display(L\"GM = %$(intervalVectorLaTeXString(W))\")"
   ]
  }
 ],
 "metadata": {
  "kernelspec": {
   "display_name": "Julia 1.9.3",
   "language": "julia",
   "name": "julia-1.9"
  },
  "language_info": {
   "file_extension": ".jl",
   "mimetype": "application/julia",
   "name": "julia",
   "version": "1.9.3"
  }
 },
 "nbformat": 4,
 "nbformat_minor": 2
}
