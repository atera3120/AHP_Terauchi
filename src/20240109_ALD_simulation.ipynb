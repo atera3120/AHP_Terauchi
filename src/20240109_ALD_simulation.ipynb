{
 "cells": [
  {
   "cell_type": "code",
   "execution_count": 34,
   "metadata": {},
   "outputs": [],
   "source": [
    "# import Pkg\n",
    "# Pkg.add(\"DataFrames\")\n",
    "# Pkg.add(\"CSV\")\n",
    "# Pkg.add(\"IntervalSets\")\n",
    "# Pkg.add(\"LatexStrings\")"
   ]
  },
  {
   "cell_type": "code",
   "execution_count": 35,
   "metadata": {},
   "outputs": [
    {
     "data": {
      "text/plain": [
       "est_in_range (generic function with 1 method)"
      ]
     },
     "metadata": {},
     "output_type": "display_data"
    }
   ],
   "source": [
    "using DataFrames, CSV\n",
    "using IntervalArithmetic\n",
    "using LaTeXStrings\n",
    "using Statistics\n",
    "# using Base\n",
    "include(\"./libs/display-latex.jl\")\n",
    "include(\"./libs/crisp-pcm.jl\")\n",
    "include(\"./libs/solve-deterministic-ahp.jl\")\n",
    "include(\"./libs/analysis-indicators.jl\")"
   ]
  },
  {
   "cell_type": "code",
   "execution_count": 36,
   "metadata": {},
   "outputs": [],
   "source": [
    "# 評価基準数\n",
    "num_criteria = [6];\n",
    "# 真の区間重要度のセッティング\n",
    "true_importance = [\"A\", \"B\", \"C\", \"D\", \"E\"]; # [\"A\", \"B\", \"C\", \"D\", \"E\"]"
   ]
  },
  {
   "cell_type": "code",
   "execution_count": 37,
   "metadata": {},
   "outputs": [
    {
     "data": {
      "text/latex": [
       "$EV_{rate} = 0.8275$"
      ],
      "text/plain": [
       "L\"$EV_{rate} = 0.8275$\""
      ]
     },
     "metadata": {},
     "output_type": "display_data"
    },
    {
     "data": {
      "text/latex": [
       "$GM_{rate} = 0.82383$"
      ],
      "text/plain": [
       "L\"$GM_{rate} = 0.82383$\""
      ]
     },
     "metadata": {},
     "output_type": "display_data"
    },
    {
     "data": {
      "text/latex": [
       "$ALD_{rate} = 0.7095$"
      ],
      "text/plain": [
       "L\"$ALD_{rate} = 0.7095$\""
      ]
     },
     "metadata": {},
     "output_type": "display_data"
    },
    {
     "data": {
      "text/latex": [
       "$EV_{diff} = 0.02289$"
      ],
      "text/plain": [
       "L\"$EV_{diff} = 0.02289$\""
      ]
     },
     "metadata": {},
     "output_type": "display_data"
    },
    {
     "data": {
      "text/latex": [
       "$GM_{diff} = 0.02338$"
      ],
      "text/plain": [
       "L\"$GM_{diff} = 0.02338$\""
      ]
     },
     "metadata": {},
     "output_type": "display_data"
    },
    {
     "data": {
      "text/latex": [
       "$ALD_{diff} = 0.03145$"
      ],
      "text/plain": [
       "L\"$ALD_{diff} = 0.03145$\""
      ]
     },
     "metadata": {},
     "output_type": "display_data"
    },
    {
     "name": "stdout",
     "output_type": "stream",
     "text": [
      "N = 6\n",
      "setting = A\n"
     ]
    },
    {
     "data": {
      "text/latex": [
       "$EV_{rate} = 0.92067$"
      ],
      "text/plain": [
       "L\"$EV_{rate} = 0.92067$\""
      ]
     },
     "metadata": {},
     "output_type": "display_data"
    },
    {
     "data": {
      "text/latex": [
       "$GM_{rate} = 0.92733$"
      ],
      "text/plain": [
       "L\"$GM_{rate} = 0.92733$\""
      ]
     },
     "metadata": {},
     "output_type": "display_data"
    },
    {
     "data": {
      "text/latex": [
       "$ALD_{rate} = 0.79$"
      ],
      "text/plain": [
       "L\"$ALD_{rate} = 0.79$\""
      ]
     },
     "metadata": {},
     "output_type": "display_data"
    },
    {
     "data": {
      "text/latex": [
       "$EV_{diff} = 0.01871$"
      ],
      "text/plain": [
       "L\"$EV_{diff} = 0.01871$\""
      ]
     },
     "metadata": {},
     "output_type": "display_data"
    },
    {
     "data": {
      "text/latex": [
       "$GM_{diff} = 0.01874$"
      ],
      "text/plain": [
       "L\"$GM_{diff} = 0.01874$\""
      ]
     },
     "metadata": {},
     "output_type": "display_data"
    },
    {
     "data": {
      "text/latex": [
       "$ALD_{diff} = 0.02949$"
      ],
      "text/plain": [
       "L\"$ALD_{diff} = 0.02949$\""
      ]
     },
     "metadata": {},
     "output_type": "display_data"
    },
    {
     "name": "stdout",
     "output_type": "stream",
     "text": [
      "N = 6\n",
      "setting = B\n"
     ]
    },
    {
     "data": {
      "text/latex": [
       "$EV_{rate} = 0.89283$"
      ],
      "text/plain": [
       "L\"$EV_{rate} = 0.89283$\""
      ]
     },
     "metadata": {},
     "output_type": "display_data"
    },
    {
     "data": {
      "text/latex": [
       "$GM_{rate} = 0.8965$"
      ],
      "text/plain": [
       "L\"$GM_{rate} = 0.8965$\""
      ]
     },
     "metadata": {},
     "output_type": "display_data"
    },
    {
     "data": {
      "text/latex": [
       "$ALD_{rate} = 0.73667$"
      ],
      "text/plain": [
       "L\"$ALD_{rate} = 0.73667$\""
      ]
     },
     "metadata": {},
     "output_type": "display_data"
    },
    {
     "data": {
      "text/latex": [
       "$EV_{diff} = 0.02308$"
      ],
      "text/plain": [
       "L\"$EV_{diff} = 0.02308$\""
      ]
     },
     "metadata": {},
     "output_type": "display_data"
    },
    {
     "data": {
      "text/latex": [
       "$GM_{diff} = 0.02345$"
      ],
      "text/plain": [
       "L\"$GM_{diff} = 0.02345$\""
      ]
     },
     "metadata": {},
     "output_type": "display_data"
    },
    {
     "data": {
      "text/latex": [
       "$ALD_{diff} = 0.03248$"
      ],
      "text/plain": [
       "L\"$ALD_{diff} = 0.03248$\""
      ]
     },
     "metadata": {},
     "output_type": "display_data"
    },
    {
     "name": "stdout",
     "output_type": "stream",
     "text": [
      "N = 6\n",
      "setting = C\n"
     ]
    },
    {
     "data": {
      "text/latex": [
       "$EV_{rate} = 0.94417$"
      ],
      "text/plain": [
       "L\"$EV_{rate} = 0.94417$\""
      ]
     },
     "metadata": {},
     "output_type": "display_data"
    },
    {
     "data": {
      "text/latex": [
       "$GM_{rate} = 0.94067$"
      ],
      "text/plain": [
       "L\"$GM_{rate} = 0.94067$\""
      ]
     },
     "metadata": {},
     "output_type": "display_data"
    },
    {
     "data": {
      "text/latex": [
       "$ALD_{rate} = 0.82267$"
      ],
      "text/plain": [
       "L\"$ALD_{rate} = 0.82267$\""
      ]
     },
     "metadata": {},
     "output_type": "display_data"
    },
    {
     "data": {
      "text/latex": [
       "$EV_{diff} = 0.02139$"
      ],
      "text/plain": [
       "L\"$EV_{diff} = 0.02139$\""
      ]
     },
     "metadata": {},
     "output_type": "display_data"
    },
    {
     "data": {
      "text/latex": [
       "$GM_{diff} = 0.0217$"
      ],
      "text/plain": [
       "L\"$GM_{diff} = 0.0217$\""
      ]
     },
     "metadata": {},
     "output_type": "display_data"
    },
    {
     "data": {
      "text/latex": [
       "$ALD_{diff} = 0.03145$"
      ],
      "text/plain": [
       "L\"$ALD_{diff} = 0.03145$\""
      ]
     },
     "metadata": {},
     "output_type": "display_data"
    },
    {
     "name": "stdout",
     "output_type": "stream",
     "text": [
      "N = 6\n",
      "setting = D\n"
     ]
    },
    {
     "data": {
      "text/latex": [
       "$EV_{rate} = 0.904$"
      ],
      "text/plain": [
       "L\"$EV_{rate} = 0.904$\""
      ]
     },
     "metadata": {},
     "output_type": "display_data"
    },
    {
     "data": {
      "text/latex": [
       "$GM_{rate} = 0.90233$"
      ],
      "text/plain": [
       "L\"$GM_{rate} = 0.90233$\""
      ]
     },
     "metadata": {},
     "output_type": "display_data"
    },
    {
     "data": {
      "text/latex": [
       "$ALD_{rate} = 0.80583$"
      ],
      "text/plain": [
       "L\"$ALD_{rate} = 0.80583$\""
      ]
     },
     "metadata": {},
     "output_type": "display_data"
    },
    {
     "data": {
      "text/latex": [
       "$EV_{diff} = 0.02181$"
      ],
      "text/plain": [
       "L\"$EV_{diff} = 0.02181$\""
      ]
     },
     "metadata": {},
     "output_type": "display_data"
    },
    {
     "data": {
      "text/latex": [
       "$GM_{diff} = 0.0222$"
      ],
      "text/plain": [
       "L\"$GM_{diff} = 0.0222$\""
      ]
     },
     "metadata": {},
     "output_type": "display_data"
    },
    {
     "data": {
      "text/latex": [
       "$ALD_{diff} = 0.03109$"
      ],
      "text/plain": [
       "L\"$ALD_{diff} = 0.03109$\""
      ]
     },
     "metadata": {},
     "output_type": "display_data"
    },
    {
     "name": "stdout",
     "output_type": "stream",
     "text": [
      "N = 6\n",
      "setting = E\n"
     ]
    }
   ],
   "source": [
    "# 真の区間重要度を読み込み\n",
    "for N in num_criteria\n",
    "        \n",
    "    for setting in true_importance\n",
    "        println(\"N = \", N)\n",
    "        println(\"setting = \", setting)\n",
    "\n",
    "        df = CSV.File(\"./data/N\"*string(N)*\"_\"*setting*\"_Given_interval_weight.csv\", header=false) |> DataFrame\n",
    "        T = Vector{Interval{Float64}}() # Float64のところにTを使うとおかしくなるのはなぜか？\n",
    "        for i in 1:N\n",
    "            push!(T, interval(df[1, 2*i-1], df[1, 2*i]))\n",
    "        end\n",
    "\n",
    "        # display(L\"T = %$(intervalVectorLaTeXString(T))\")\n",
    "        # 一対比較行列を1000個読み込み\n",
    "        df1 = CSV.File(\"./data/N\"*string(N)*\"_a3_\"*setting*\"_PCM_int.csv\", header=false) |> DataFrame\n",
    "\n",
    "        # データフレームをN×Nのサブデータフレームに分割\n",
    "        subdfs = split_dataframe(df1, N);\n",
    "        # 結果格納用\n",
    "        EV_in_range = Vector{Float64}(undef, 1000)\n",
    "        GM_in_range = Vector{Float64}(undef, 1000)\n",
    "        ALD_in_range = Vector{Float64}(undef, 1000)\n",
    "\n",
    "        EV_diff = Vector{Float64}(undef, 1000)\n",
    "        GM_diff = Vector{Float64}(undef, 1000)\n",
    "        ALD_diff = Vector{Float64}(undef, 1000)\n",
    "\n",
    "        # 1000個のデータで推定\n",
    "        for (i, subdf) in enumerate(subdfs)\n",
    "\n",
    "            # 一対比較行列を取り出す\n",
    "            A = Matrix(subdf)\n",
    "\n",
    "            # 重要度推定\n",
    "            est_EV = EV(A)\n",
    "            est_GM = GM(A)\n",
    "            est_ALD = ALD(A)\n",
    "\n",
    "            EV_in_range[i], EV_diff[i] = est_in_range(T, est_EV) # 真の区間重要度と推定値の積集合の割合\n",
    "            GM_in_range[i], GM_diff[i] = est_in_range(T, est_GM) # 真の区間重要度と推定値の積集合の割合\n",
    "            ALD_in_range[i], ALD_diff[i] = est_in_range(T, est_ALD) # 真の区間重要度と推定値の積集合の割合\n",
    "        end\n",
    "\n",
    "\n",
    "        display(L\"EV_{rate} = %$(round(mean(EV_in_range), digits=5))\")\n",
    "        display(L\"GM_{rate} = %$(round(mean(GM_in_range), digits=5))\")\n",
    "        display(L\"ALD_{rate} = %$(round(mean(ALD_in_range), digits=5))\")\n",
    "\n",
    "        display(L\"EV_{diff} = %$(round(mean(EV_diff), digits=5))\")\n",
    "        display(L\"GM_{diff} = %$(round(mean(GM_diff), digits=5))\")\n",
    "        display(L\"ALD_{diff} = %$(round(mean(ALD_diff), digits=5))\")\n",
    "    end\n",
    "end\n"
   ]
  }
 ],
 "metadata": {
  "kernelspec": {
   "display_name": "Julia 1.9.4",
   "language": "julia",
   "name": "julia-1.9"
  },
  "language_info": {
   "file_extension": ".jl",
   "mimetype": "application/julia",
   "name": "julia",
   "version": "1.9.4"
  }
 },
 "nbformat": 4,
 "nbformat_minor": 2
}
