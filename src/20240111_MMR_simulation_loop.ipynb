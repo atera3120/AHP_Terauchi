{
 "cells": [
  {
   "cell_type": "code",
   "execution_count": 9,
   "metadata": {},
   "outputs": [],
   "source": [
    "# import Pkg\n",
    "# Pkg.add(\"DataFrames\")\n",
    "# Pkg.add(\"CSV\")\n",
    "# Pkg.add(\"IntervalSets\")\n",
    "# Pkg.add(\"LatexStrings\")"
   ]
  },
  {
   "cell_type": "code",
   "execution_count": 10,
   "metadata": {},
   "outputs": [
    {
     "data": {
      "text/plain": [
       "MMR (generic function with 1 method)"
      ]
     },
     "metadata": {},
     "output_type": "display_data"
    }
   ],
   "source": [
    "using DataFrames, CSV\n",
    "using IntervalArithmetic\n",
    "using LaTeXStrings\n",
    "using Statistics\n",
    "# using Base\n",
    "include(\"./libs/display-latex.jl\")\n",
    "include(\"./libs/crisp-pcm.jl\")\n",
    "include(\"./libs/analysis-indicators.jl\")\n",
    "include(\"./libs/solve-deterministic-ahp.jl\")\n",
    "include(\"./libs/MMR.jl\")"
   ]
  },
  {
   "cell_type": "code",
   "execution_count": 11,
   "metadata": {},
   "outputs": [],
   "source": [
    "# 評価基準数\n",
    "num_criteria = [4,5,6,7,8];\n",
    "# 真の区間重要度のセッティング\n",
    "true_importance = [\"A\", \"B\", \"C\", \"D\", \"E\"]; # [\"A\", \"B\", \"C\", \"D\", \"E\"]"
   ]
  },
  {
   "cell_type": "code",
   "execution_count": 12,
   "metadata": {},
   "outputs": [
    {
     "data": {
      "text/latex": [
       "$Pₐᵥₑ = 0.46181$"
      ],
      "text/plain": [
       "L\"$Pₐᵥₑ = 0.46181$\""
      ]
     },
     "metadata": {},
     "output_type": "display_data"
    },
    {
     "data": {
      "text/latex": [
       "$Qₐᵥₑ = 0.79239$"
      ],
      "text/plain": [
       "L\"$Qₐᵥₑ = 0.79239$\""
      ]
     },
     "metadata": {},
     "output_type": "display_data"
    },
    {
     "data": {
      "text/latex": [
       "$Rₐᵥₑ = 0.5498$"
      ],
      "text/plain": [
       "L\"$Rₐᵥₑ = 0.5498$\""
      ]
     },
     "metadata": {},
     "output_type": "display_data"
    },
    {
     "data": {
      "text/latex": [
       "$Fₐᵥₑ = 0.5972$"
      ],
      "text/plain": [
       "L\"$Fₐᵥₑ = 0.5972$\""
      ]
     },
     "metadata": {},
     "output_type": "display_data"
    },
    {
     "name": "stdout",
     "output_type": "stream",
     "text": [
      "N = 4\n",
      "setting = A\n"
     ]
    },
    {
     "data": {
      "text/latex": [
       "$Pₐᵥₑ = 0.46097$"
      ],
      "text/plain": [
       "L\"$Pₐᵥₑ = 0.46097$\""
      ]
     },
     "metadata": {},
     "output_type": "display_data"
    },
    {
     "data": {
      "text/latex": [
       "$Qₐᵥₑ = 0.76429$"
      ],
      "text/plain": [
       "L\"$Qₐᵥₑ = 0.76429$\""
      ]
     },
     "metadata": {},
     "output_type": "display_data"
    },
    {
     "data": {
      "text/latex": [
       "$Rₐᵥₑ = 0.57471$"
      ],
      "text/plain": [
       "L\"$Rₐᵥₑ = 0.57471$\""
      ]
     },
     "metadata": {},
     "output_type": "display_data"
    },
    {
     "data": {
      "text/latex": [
       "$Fₐᵥₑ = 0.59709$"
      ],
      "text/plain": [
       "L\"$Fₐᵥₑ = 0.59709$\""
      ]
     },
     "metadata": {},
     "output_type": "display_data"
    },
    {
     "name": "stdout",
     "output_type": "stream",
     "text": [
      "N = 4\n",
      "setting = B\n"
     ]
    },
    {
     "data": {
      "text/latex": [
       "$Pₐᵥₑ = 0.44285$"
      ],
      "text/plain": [
       "L\"$Pₐᵥₑ = 0.44285$\""
      ]
     },
     "metadata": {},
     "output_type": "display_data"
    },
    {
     "data": {
      "text/latex": [
       "$Qₐᵥₑ = 0.79943$"
      ],
      "text/plain": [
       "L\"$Qₐᵥₑ = 0.79943$\""
      ]
     },
     "metadata": {},
     "output_type": "display_data"
    },
    {
     "data": {
      "text/latex": [
       "$Rₐᵥₑ = 0.53051$"
      ],
      "text/plain": [
       "L\"$Rₐᵥₑ = 0.53051$\""
      ]
     },
     "metadata": {},
     "output_type": "display_data"
    },
    {
     "data": {
      "text/latex": [
       "$Fₐᵥₑ = 0.58047$"
      ],
      "text/plain": [
       "L\"$Fₐᵥₑ = 0.58047$\""
      ]
     },
     "metadata": {},
     "output_type": "display_data"
    },
    {
     "name": "stdout",
     "output_type": "stream",
     "text": [
      "N = 4\n",
      "setting = C\n"
     ]
    },
    {
     "data": {
      "text/latex": [
       "$Pₐᵥₑ = 0.47922$"
      ],
      "text/plain": [
       "L\"$Pₐᵥₑ = 0.47922$\""
      ]
     },
     "metadata": {},
     "output_type": "display_data"
    },
    {
     "data": {
      "text/latex": [
       "$Qₐᵥₑ = 0.7791$"
      ],
      "text/plain": [
       "L\"$Qₐᵥₑ = 0.7791$\""
      ]
     },
     "metadata": {},
     "output_type": "display_data"
    },
    {
     "data": {
      "text/latex": [
       "$Rₐᵥₑ = 0.56407$"
      ],
      "text/plain": [
       "L\"$Rₐᵥₑ = 0.56407$\""
      ]
     },
     "metadata": {},
     "output_type": "display_data"
    },
    {
     "data": {
      "text/latex": [
       "$Fₐᵥₑ = 0.61955$"
      ],
      "text/plain": [
       "L\"$Fₐᵥₑ = 0.61955$\""
      ]
     },
     "metadata": {},
     "output_type": "display_data"
    },
    {
     "name": "stdout",
     "output_type": "stream",
     "text": [
      "N = 4\n",
      "setting = D\n"
     ]
    },
    {
     "data": {
      "text/latex": [
       "$Pₐᵥₑ = 0.45748$"
      ],
      "text/plain": [
       "L\"$Pₐᵥₑ = 0.45748$\""
      ]
     },
     "metadata": {},
     "output_type": "display_data"
    },
    {
     "data": {
      "text/latex": [
       "$Qₐᵥₑ = 0.77515$"
      ],
      "text/plain": [
       "L\"$Qₐᵥₑ = 0.77515$\""
      ]
     },
     "metadata": {},
     "output_type": "display_data"
    },
    {
     "data": {
      "text/latex": [
       "$Rₐᵥₑ = 0.56979$"
      ],
      "text/plain": [
       "L\"$Rₐᵥₑ = 0.56979$\""
      ]
     },
     "metadata": {},
     "output_type": "display_data"
    },
    {
     "data": {
      "text/latex": [
       "$Fₐᵥₑ = 0.59101$"
      ],
      "text/plain": [
       "L\"$Fₐᵥₑ = 0.59101$\""
      ]
     },
     "metadata": {},
     "output_type": "display_data"
    },
    {
     "name": "stdout",
     "output_type": "stream",
     "text": [
      "N = 4\n",
      "setting = E\n"
     ]
    },
    {
     "data": {
      "text/latex": [
       "$Pₐᵥₑ = 0.4871$"
      ],
      "text/plain": [
       "L\"$Pₐᵥₑ = 0.4871$\""
      ]
     },
     "metadata": {},
     "output_type": "display_data"
    },
    {
     "data": {
      "text/latex": [
       "$Qₐᵥₑ = 0.93004$"
      ],
      "text/plain": [
       "L\"$Qₐᵥₑ = 0.93004$\""
      ]
     },
     "metadata": {},
     "output_type": "display_data"
    },
    {
     "data": {
      "text/latex": [
       "$Rₐᵥₑ = 0.51485$"
      ],
      "text/plain": [
       "L\"$Rₐᵥₑ = 0.51485$\""
      ]
     },
     "metadata": {},
     "output_type": "display_data"
    },
    {
     "data": {
      "text/latex": [
       "$Fₐᵥₑ = 0.63308$"
      ],
      "text/plain": [
       "L\"$Fₐᵥₑ = 0.63308$\""
      ]
     },
     "metadata": {},
     "output_type": "display_data"
    },
    {
     "name": "stdout",
     "output_type": "stream",
     "text": [
      "N = 5\n",
      "setting = A\n"
     ]
    },
    {
     "data": {
      "text/latex": [
       "$Pₐᵥₑ = 0.51191$"
      ],
      "text/plain": [
       "L\"$Pₐᵥₑ = 0.51191$\""
      ]
     },
     "metadata": {},
     "output_type": "display_data"
    },
    {
     "data": {
      "text/latex": [
       "$Qₐᵥₑ = 0.87959$"
      ],
      "text/plain": [
       "L\"$Qₐᵥₑ = 0.87959$\""
      ]
     },
     "metadata": {},
     "output_type": "display_data"
    },
    {
     "data": {
      "text/latex": [
       "$Rₐᵥₑ = 0.56241$"
      ],
      "text/plain": [
       "L\"$Rₐᵥₑ = 0.56241$\""
      ]
     },
     "metadata": {},
     "output_type": "display_data"
    },
    {
     "data": {
      "text/latex": [
       "$Fₐᵥₑ = 0.66064$"
      ],
      "text/plain": [
       "L\"$Fₐᵥₑ = 0.66064$\""
      ]
     },
     "metadata": {},
     "output_type": "display_data"
    },
    {
     "name": "stdout",
     "output_type": "stream",
     "text": [
      "N = 5\n",
      "setting = B\n"
     ]
    },
    {
     "data": {
      "text/latex": [
       "$Pₐᵥₑ = 0.50176$"
      ],
      "text/plain": [
       "L\"$Pₐᵥₑ = 0.50176$\""
      ]
     },
     "metadata": {},
     "output_type": "display_data"
    },
    {
     "data": {
      "text/latex": [
       "$Qₐᵥₑ = 0.91431$"
      ],
      "text/plain": [
       "L\"$Qₐᵥₑ = 0.91431$\""
      ]
     },
     "metadata": {},
     "output_type": "display_data"
    },
    {
     "data": {
      "text/latex": [
       "$Rₐᵥₑ = 0.53678$"
      ],
      "text/plain": [
       "L\"$Rₐᵥₑ = 0.53678$\""
      ]
     },
     "metadata": {},
     "output_type": "display_data"
    },
    {
     "data": {
      "text/latex": [
       "$Fₐᵥₑ = 0.64784$"
      ],
      "text/plain": [
       "L\"$Fₐᵥₑ = 0.64784$\""
      ]
     },
     "metadata": {},
     "output_type": "display_data"
    },
    {
     "name": "stdout",
     "output_type": "stream",
     "text": [
      "N = 5\n",
      "setting = C\n"
     ]
    },
    {
     "data": {
      "text/latex": [
       "$Pₐᵥₑ = 0.52034$"
      ],
      "text/plain": [
       "L\"$Pₐᵥₑ = 0.52034$\""
      ]
     },
     "metadata": {},
     "output_type": "display_data"
    },
    {
     "data": {
      "text/latex": [
       "$Qₐᵥₑ = 0.90888$"
      ],
      "text/plain": [
       "L\"$Qₐᵥₑ = 0.90888$\""
      ]
     },
     "metadata": {},
     "output_type": "display_data"
    },
    {
     "data": {
      "text/latex": [
       "$Rₐᵥₑ = 0.55083$"
      ],
      "text/plain": [
       "L\"$Rₐᵥₑ = 0.55083$\""
      ]
     },
     "metadata": {},
     "output_type": "display_data"
    },
    {
     "data": {
      "text/latex": [
       "$Fₐᵥₑ = 0.67177$"
      ],
      "text/plain": [
       "L\"$Fₐᵥₑ = 0.67177$\""
      ]
     },
     "metadata": {},
     "output_type": "display_data"
    },
    {
     "name": "stdout",
     "output_type": "stream",
     "text": [
      "N = 5\n",
      "setting = D\n"
     ]
    },
    {
     "data": {
      "text/latex": [
       "$Pₐᵥₑ = 0.48951$"
      ],
      "text/plain": [
       "L\"$Pₐᵥₑ = 0.48951$\""
      ]
     },
     "metadata": {},
     "output_type": "display_data"
    },
    {
     "data": {
      "text/latex": [
       "$Qₐᵥₑ = 0.89395$"
      ],
      "text/plain": [
       "L\"$Qₐᵥₑ = 0.89395$\""
      ]
     },
     "metadata": {},
     "output_type": "display_data"
    },
    {
     "data": {
      "text/latex": [
       "$Rₐᵥₑ = 0.53416$"
      ],
      "text/plain": [
       "L\"$Rₐᵥₑ = 0.53416$\""
      ]
     },
     "metadata": {},
     "output_type": "display_data"
    },
    {
     "data": {
      "text/latex": [
       "$Fₐᵥₑ = 0.63663$"
      ],
      "text/plain": [
       "L\"$Fₐᵥₑ = 0.63663$\""
      ]
     },
     "metadata": {},
     "output_type": "display_data"
    },
    {
     "name": "stdout",
     "output_type": "stream",
     "text": [
      "N = 5\n",
      "setting = E\n"
     ]
    },
    {
     "data": {
      "text/latex": [
       "$Pₐᵥₑ = 0.4541$"
      ],
      "text/plain": [
       "L\"$Pₐᵥₑ = 0.4541$\""
      ]
     },
     "metadata": {},
     "output_type": "display_data"
    },
    {
     "data": {
      "text/latex": [
       "$Qₐᵥₑ = 0.97146$"
      ],
      "text/plain": [
       "L\"$Qₐᵥₑ = 0.97146$\""
      ]
     },
     "metadata": {},
     "output_type": "display_data"
    },
    {
     "data": {
      "text/latex": [
       "$Rₐᵥₑ = 0.46561$"
      ],
      "text/plain": [
       "L\"$Rₐᵥₑ = 0.46561$\""
      ]
     },
     "metadata": {},
     "output_type": "display_data"
    },
    {
     "data": {
      "text/latex": [
       "$Fₐᵥₑ = 0.59928$"
      ],
      "text/plain": [
       "L\"$Fₐᵥₑ = 0.59928$\""
      ]
     },
     "metadata": {},
     "output_type": "display_data"
    },
    {
     "name": "stdout",
     "output_type": "stream",
     "text": [
      "N = 6\n",
      "setting = A\n"
     ]
    },
    {
     "data": {
      "text/latex": [
       "$Pₐᵥₑ = 0.44845$"
      ],
      "text/plain": [
       "L\"$Pₐᵥₑ = 0.44845$\""
      ]
     },
     "metadata": {},
     "output_type": "display_data"
    },
    {
     "data": {
      "text/latex": [
       "$Qₐᵥₑ = 0.93344$"
      ],
      "text/plain": [
       "L\"$Qₐᵥₑ = 0.93344$\""
      ]
     },
     "metadata": {},
     "output_type": "display_data"
    },
    {
     "data": {
      "text/latex": [
       "$Rₐᵥₑ = 0.47498$"
      ],
      "text/plain": [
       "L\"$Rₐᵥₑ = 0.47498$\""
      ]
     },
     "metadata": {},
     "output_type": "display_data"
    },
    {
     "data": {
      "text/latex": [
       "$Fₐᵥₑ = 0.6001$"
      ],
      "text/plain": [
       "L\"$Fₐᵥₑ = 0.6001$\""
      ]
     },
     "metadata": {},
     "output_type": "display_data"
    },
    {
     "name": "stdout",
     "output_type": "stream",
     "text": [
      "N = 6\n",
      "setting = B\n"
     ]
    },
    {
     "data": {
      "text/latex": [
       "$Pₐᵥₑ = 0.4763$"
      ],
      "text/plain": [
       "L\"$Pₐᵥₑ = 0.4763$\""
      ]
     },
     "metadata": {},
     "output_type": "display_data"
    },
    {
     "data": {
      "text/latex": [
       "$Qₐᵥₑ = 0.95565$"
      ],
      "text/plain": [
       "L\"$Qₐᵥₑ = 0.95565$\""
      ]
     },
     "metadata": {},
     "output_type": "display_data"
    },
    {
     "data": {
      "text/latex": [
       "$Rₐᵥₑ = 0.49479$"
      ],
      "text/plain": [
       "L\"$Rₐᵥₑ = 0.49479$\""
      ]
     },
     "metadata": {},
     "output_type": "display_data"
    },
    {
     "data": {
      "text/latex": [
       "$Fₐᵥₑ = 0.62674$"
      ],
      "text/plain": [
       "L\"$Fₐᵥₑ = 0.62674$\""
      ]
     },
     "metadata": {},
     "output_type": "display_data"
    },
    {
     "name": "stdout",
     "output_type": "stream",
     "text": [
      "N = 6\n",
      "setting = C\n"
     ]
    },
    {
     "data": {
      "text/latex": [
       "$Pₐᵥₑ = 0.50223$"
      ],
      "text/plain": [
       "L\"$Pₐᵥₑ = 0.50223$\""
      ]
     },
     "metadata": {},
     "output_type": "display_data"
    },
    {
     "data": {
      "text/latex": [
       "$Qₐᵥₑ = 0.96601$"
      ],
      "text/plain": [
       "L\"$Qₐᵥₑ = 0.96601$\""
      ]
     },
     "metadata": {},
     "output_type": "display_data"
    },
    {
     "data": {
      "text/latex": [
       "$Rₐᵥₑ = 0.51269$"
      ],
      "text/plain": [
       "L\"$Rₐᵥₑ = 0.51269$\""
      ]
     },
     "metadata": {},
     "output_type": "display_data"
    },
    {
     "data": {
      "text/latex": [
       "$Fₐᵥₑ = 0.66316$"
      ],
      "text/plain": [
       "L\"$Fₐᵥₑ = 0.66316$\""
      ]
     },
     "metadata": {},
     "output_type": "display_data"
    },
    {
     "name": "stdout",
     "output_type": "stream",
     "text": [
      "N = 6\n",
      "setting = D\n"
     ]
    },
    {
     "data": {
      "text/latex": [
       "$Pₐᵥₑ = 0.48693$"
      ],
      "text/plain": [
       "L\"$Pₐᵥₑ = 0.48693$\""
      ]
     },
     "metadata": {},
     "output_type": "display_data"
    },
    {
     "data": {
      "text/latex": [
       "$Qₐᵥₑ = 0.95805$"
      ],
      "text/plain": [
       "L\"$Qₐᵥₑ = 0.95805$\""
      ]
     },
     "metadata": {},
     "output_type": "display_data"
    },
    {
     "data": {
      "text/latex": [
       "$Rₐᵥₑ = 0.50499$"
      ],
      "text/plain": [
       "L\"$Rₐᵥₑ = 0.50499$\""
      ]
     },
     "metadata": {},
     "output_type": "display_data"
    },
    {
     "data": {
      "text/latex": [
       "$Fₐᵥₑ = 0.63632$"
      ],
      "text/plain": [
       "L\"$Fₐᵥₑ = 0.63632$\""
      ]
     },
     "metadata": {},
     "output_type": "display_data"
    },
    {
     "name": "stdout",
     "output_type": "stream",
     "text": [
      "N = 6\n",
      "setting = E\n"
     ]
    },
    {
     "data": {
      "text/latex": [
       "$Pₐᵥₑ = 0.49895$"
      ],
      "text/plain": [
       "L\"$Pₐᵥₑ = 0.49895$\""
      ]
     },
     "metadata": {},
     "output_type": "display_data"
    },
    {
     "data": {
      "text/latex": [
       "$Qₐᵥₑ = 0.99386$"
      ],
      "text/plain": [
       "L\"$Qₐᵥₑ = 0.99386$\""
      ]
     },
     "metadata": {},
     "output_type": "display_data"
    },
    {
     "data": {
      "text/latex": [
       "$Rₐᵥₑ = 0.50117$"
      ],
      "text/plain": [
       "L\"$Rₐᵥₑ = 0.50117$\""
      ]
     },
     "metadata": {},
     "output_type": "display_data"
    },
    {
     "data": {
      "text/latex": [
       "$Fₐᵥₑ = 0.65609$"
      ],
      "text/plain": [
       "L\"$Fₐᵥₑ = 0.65609$\""
      ]
     },
     "metadata": {},
     "output_type": "display_data"
    },
    {
     "name": "stdout",
     "output_type": "stream",
     "text": [
      "N = 7\n",
      "setting = A\n"
     ]
    },
    {
     "data": {
      "text/latex": [
       "$Pₐᵥₑ = 0.49193$"
      ],
      "text/plain": [
       "L\"$Pₐᵥₑ = 0.49193$\""
      ]
     },
     "metadata": {},
     "output_type": "display_data"
    },
    {
     "data": {
      "text/latex": [
       "$Qₐᵥₑ = 0.97904$"
      ],
      "text/plain": [
       "L\"$Qₐᵥₑ = 0.97904$\""
      ]
     },
     "metadata": {},
     "output_type": "display_data"
    },
    {
     "data": {
      "text/latex": [
       "$Rₐᵥₑ = 0.49983$"
      ],
      "text/plain": [
       "L\"$Rₐᵥₑ = 0.49983$\""
      ]
     },
     "metadata": {},
     "output_type": "display_data"
    },
    {
     "data": {
      "text/latex": [
       "$Fₐᵥₑ = 0.65209$"
      ],
      "text/plain": [
       "L\"$Fₐᵥₑ = 0.65209$\""
      ]
     },
     "metadata": {},
     "output_type": "display_data"
    },
    {
     "name": "stdout",
     "output_type": "stream",
     "text": [
      "N = 7\n",
      "setting = B\n"
     ]
    },
    {
     "data": {
      "text/latex": [
       "$Pₐᵥₑ = 0.48155$"
      ],
      "text/plain": [
       "L\"$Pₐᵥₑ = 0.48155$\""
      ]
     },
     "metadata": {},
     "output_type": "display_data"
    },
    {
     "data": {
      "text/latex": [
       "$Qₐᵥₑ = 0.98526$"
      ],
      "text/plain": [
       "L\"$Qₐᵥₑ = 0.98526$\""
      ]
     },
     "metadata": {},
     "output_type": "display_data"
    },
    {
     "data": {
      "text/latex": [
       "$Rₐᵥₑ = 0.48706$"
      ],
      "text/plain": [
       "L\"$Rₐᵥₑ = 0.48706$\""
      ]
     },
     "metadata": {},
     "output_type": "display_data"
    },
    {
     "data": {
      "text/latex": [
       "$Fₐᵥₑ = 0.64037$"
      ],
      "text/plain": [
       "L\"$Fₐᵥₑ = 0.64037$\""
      ]
     },
     "metadata": {},
     "output_type": "display_data"
    },
    {
     "name": "stdout",
     "output_type": "stream",
     "text": [
      "N = 7\n",
      "setting = C\n"
     ]
    },
    {
     "data": {
      "text/latex": [
       "$Pₐᵥₑ = 0.49788$"
      ],
      "text/plain": [
       "L\"$Pₐᵥₑ = 0.49788$\""
      ]
     },
     "metadata": {},
     "output_type": "display_data"
    },
    {
     "data": {
      "text/latex": [
       "$Qₐᵥₑ = 0.99151$"
      ],
      "text/plain": [
       "L\"$Qₐᵥₑ = 0.99151$\""
      ]
     },
     "metadata": {},
     "output_type": "display_data"
    },
    {
     "data": {
      "text/latex": [
       "$Rₐᵥₑ = 0.50043$"
      ],
      "text/plain": [
       "L\"$Rₐᵥₑ = 0.50043$\""
      ]
     },
     "metadata": {},
     "output_type": "display_data"
    },
    {
     "data": {
      "text/latex": [
       "$Fₐᵥₑ = 0.66259$"
      ],
      "text/plain": [
       "L\"$Fₐᵥₑ = 0.66259$\""
      ]
     },
     "metadata": {},
     "output_type": "display_data"
    },
    {
     "name": "stdout",
     "output_type": "stream",
     "text": [
      "N = 7\n",
      "setting = D\n"
     ]
    },
    {
     "data": {
      "text/latex": [
       "$Pₐᵥₑ = 0.51402$"
      ],
      "text/plain": [
       "L\"$Pₐᵥₑ = 0.51402$\""
      ]
     },
     "metadata": {},
     "output_type": "display_data"
    },
    {
     "data": {
      "text/latex": [
       "$Qₐᵥₑ = 0.98932$"
      ],
      "text/plain": [
       "L\"$Qₐᵥₑ = 0.98932$\""
      ]
     },
     "metadata": {},
     "output_type": "display_data"
    },
    {
     "data": {
      "text/latex": [
       "$Rₐᵥₑ = 0.51846$"
      ],
      "text/plain": [
       "L\"$Rₐᵥₑ = 0.51846$\""
      ]
     },
     "metadata": {},
     "output_type": "display_data"
    },
    {
     "data": {
      "text/latex": [
       "$Fₐᵥₑ = 0.67105$"
      ],
      "text/plain": [
       "L\"$Fₐᵥₑ = 0.67105$\""
      ]
     },
     "metadata": {},
     "output_type": "display_data"
    },
    {
     "name": "stdout",
     "output_type": "stream",
     "text": [
      "N = 7\n",
      "setting = E\n"
     ]
    },
    {
     "data": {
      "text/latex": [
       "$Pₐᵥₑ = 0.48905$"
      ],
      "text/plain": [
       "L\"$Pₐᵥₑ = 0.48905$\""
      ]
     },
     "metadata": {},
     "output_type": "display_data"
    },
    {
     "data": {
      "text/latex": [
       "$Qₐᵥₑ = 0.99918$"
      ],
      "text/plain": [
       "L\"$Qₐᵥₑ = 0.99918$\""
      ]
     },
     "metadata": {},
     "output_type": "display_data"
    },
    {
     "data": {
      "text/latex": [
       "$Rₐᵥₑ = 0.48938$"
      ],
      "text/plain": [
       "L\"$Rₐᵥₑ = 0.48938$\""
      ]
     },
     "metadata": {},
     "output_type": "display_data"
    },
    {
     "data": {
      "text/latex": [
       "$Fₐᵥₑ = 0.64577$"
      ],
      "text/plain": [
       "L\"$Fₐᵥₑ = 0.64577$\""
      ]
     },
     "metadata": {},
     "output_type": "display_data"
    },
    {
     "name": "stdout",
     "output_type": "stream",
     "text": [
      "N = 8\n",
      "setting = A\n"
     ]
    },
    {
     "data": {
      "text/latex": [
       "$Pₐᵥₑ = 0.48555$"
      ],
      "text/plain": [
       "L\"$Pₐᵥₑ = 0.48555$\""
      ]
     },
     "metadata": {},
     "output_type": "display_data"
    },
    {
     "data": {
      "text/latex": [
       "$Qₐᵥₑ = 0.98746$"
      ],
      "text/plain": [
       "L\"$Qₐᵥₑ = 0.98746$\""
      ]
     },
     "metadata": {},
     "output_type": "display_data"
    },
    {
     "data": {
      "text/latex": [
       "$Rₐᵥₑ = 0.49069$"
      ],
      "text/plain": [
       "L\"$Rₐᵥₑ = 0.49069$\""
      ]
     },
     "metadata": {},
     "output_type": "display_data"
    },
    {
     "data": {
      "text/latex": [
       "$Fₐᵥₑ = 0.6447$"
      ],
      "text/plain": [
       "L\"$Fₐᵥₑ = 0.6447$\""
      ]
     },
     "metadata": {},
     "output_type": "display_data"
    },
    {
     "name": "stdout",
     "output_type": "stream",
     "text": [
      "N = 8\n",
      "setting = B\n"
     ]
    },
    {
     "data": {
      "text/latex": [
       "$Pₐᵥₑ = 0.46798$"
      ],
      "text/plain": [
       "L\"$Pₐᵥₑ = 0.46798$\""
      ]
     },
     "metadata": {},
     "output_type": "display_data"
    },
    {
     "data": {
      "text/latex": [
       "$Qₐᵥₑ = 0.99332$"
      ],
      "text/plain": [
       "L\"$Qₐᵥₑ = 0.99332$\""
      ]
     },
     "metadata": {},
     "output_type": "display_data"
    },
    {
     "data": {
      "text/latex": [
       "$Rₐᵥₑ = 0.4704$"
      ],
      "text/plain": [
       "L\"$Rₐᵥₑ = 0.4704$\""
      ]
     },
     "metadata": {},
     "output_type": "display_data"
    },
    {
     "data": {
      "text/latex": [
       "$Fₐᵥₑ = 0.62726$"
      ],
      "text/plain": [
       "L\"$Fₐᵥₑ = 0.62726$\""
      ]
     },
     "metadata": {},
     "output_type": "display_data"
    },
    {
     "name": "stdout",
     "output_type": "stream",
     "text": [
      "N = 8\n",
      "setting = C\n"
     ]
    },
    {
     "data": {
      "text/latex": [
       "$Pₐᵥₑ = 0.50872$"
      ],
      "text/plain": [
       "L\"$Pₐᵥₑ = 0.50872$\""
      ]
     },
     "metadata": {},
     "output_type": "display_data"
    },
    {
     "data": {
      "text/latex": [
       "$Qₐᵥₑ = 0.99777$"
      ],
      "text/plain": [
       "L\"$Qₐᵥₑ = 0.99777$\""
      ]
     },
     "metadata": {},
     "output_type": "display_data"
    },
    {
     "data": {
      "text/latex": [
       "$Rₐᵥₑ = 0.50943$"
      ],
      "text/plain": [
       "L\"$Rₐᵥₑ = 0.50943$\""
      ]
     },
     "metadata": {},
     "output_type": "display_data"
    },
    {
     "data": {
      "text/latex": [
       "$Fₐᵥₑ = 0.67334$"
      ],
      "text/plain": [
       "L\"$Fₐᵥₑ = 0.67334$\""
      ]
     },
     "metadata": {},
     "output_type": "display_data"
    },
    {
     "name": "stdout",
     "output_type": "stream",
     "text": [
      "N = 8\n",
      "setting = D\n"
     ]
    },
    {
     "data": {
      "text/latex": [
       "$Pₐᵥₑ = 0.54356$"
      ],
      "text/plain": [
       "L\"$Pₐᵥₑ = 0.54356$\""
      ]
     },
     "metadata": {},
     "output_type": "display_data"
    },
    {
     "data": {
      "text/latex": [
       "$Qₐᵥₑ = 0.99649$"
      ],
      "text/plain": [
       "L\"$Qₐᵥₑ = 0.99649$\""
      ]
     },
     "metadata": {},
     "output_type": "display_data"
    },
    {
     "data": {
      "text/latex": [
       "$Rₐᵥₑ = 0.54523$"
      ],
      "text/plain": [
       "L\"$Rₐᵥₑ = 0.54523$\""
      ]
     },
     "metadata": {},
     "output_type": "display_data"
    },
    {
     "data": {
      "text/latex": [
       "$Fₐᵥₑ = 0.69608$"
      ],
      "text/plain": [
       "L\"$Fₐᵥₑ = 0.69608$\""
      ]
     },
     "metadata": {},
     "output_type": "display_data"
    },
    {
     "name": "stdout",
     "output_type": "stream",
     "text": [
      "N = 8\n",
      "setting = E\n"
     ]
    }
   ],
   "source": [
    "# 真の区間重要度を読み込み\n",
    "for N in num_criteria\n",
    "        \n",
    "    for setting in true_importance\n",
    "        df = CSV.File(\"./data/N\"*string(N)*\"_\"*setting*\"_Given_interval_weight.csv\", header=false) |> DataFrame\n",
    "        T = Vector{Interval{Float64}}() # Float64のところにTを使うとおかしくなるのはなぜか？\n",
    "        for i in 1:N\n",
    "            push!(T, interval(df[1, 2*i-1], df[1, 2*i]))\n",
    "        end\n",
    "\n",
    "        # display(L\"T = %$(intervalVectorLaTeXString(T))\")\n",
    "        # 一対比較行列を1000個読み込み\n",
    "        df1 = CSV.File(\"./data/N\"*string(N)*\"_a3_\"*setting*\"_PCM_int.csv\", header=false) |> DataFrame\n",
    "\n",
    "        # データフレームをN×Nのサブデータフレームに分割\n",
    "        subdfs = split_dataframe(df1, N);\n",
    "        # 結果格納用\n",
    "        P = Matrix{Float64}(undef, N, 1000)\n",
    "        Q = Matrix{Float64}(undef, N, 1000)\n",
    "        R = Matrix{Float64}(undef, N, 1000)\n",
    "        F = Matrix{Float64}(undef, N, 1000)\n",
    "\n",
    "        # 1000個のデータで推定\n",
    "        for (i, subdf) in enumerate(subdfs)\n",
    "\n",
    "            # 一対比較行列を取り出す\n",
    "            A = Matrix(subdf)\n",
    "            # display(L\"A = %$(matrixLaTeXString(A))\")\n",
    "            # if i == 779\n",
    "            #     println(\"i = \", i)\n",
    "            #     display(L\"A = %$(matrixLaTeXString(A))\")\n",
    "            # end\n",
    "\n",
    "            # 提案手法で区間重要度推定\n",
    "            solution = MMR(A, EV)\n",
    "            E = solution.W # 区間重要度の推定値\n",
    "            # display(L\"E = %$(intervalVectorLaTeXString(E))\")\n",
    "            # display(L\"T = %$(intervalVectorLaTeXString(T))\")\n",
    "\n",
    "            TcapE = T .∩ E # 真の区間重要度と推定値の積集合\n",
    "            TcupE = T .∪ E # 真の区間重要度と推定値の和集合\n",
    "            # display(L\"T ∩ E = %$(intervalVectorLaTeXString(TcapE))\")\n",
    "            # display(L\"T ∪ E = %$(intervalVectorLaTeXString(TcupE))\")\n",
    "            \n",
    "            # P, Q, R, F の計算\n",
    "            P[:, i] = calculate_P(T, E) # 真の区間重要度と推定値の積集合の割合\n",
    "            Q[:, i] = calculate_Q(T, E) # 真の区間重要度と推定値の積集合の割合\n",
    "            R[:, i] = calculate_R(T, E) # 真の区間重要度と推定値の積集合の割合\n",
    "            F[:, i] = calculate_F(T, E) # F値\n",
    "            # println(\"i = \", i)\n",
    "            # display(L\"P = %$(VectorLaTeXString(P[:,i]))\")\n",
    "            # display(L\"Q = %$(VectorLaTeXString(Q[:,i]))\")\n",
    "            # display(L\"R = %$(VectorLaTeXString(R[:,i]))\")\n",
    "            # display(L\"F = %$(VectorLaTeXString(F[:,i]))\")\n",
    "        end\n",
    "\n",
    "        println(\"N = \", N)\n",
    "        println(\"setting = \", setting)\n",
    "\n",
    "        P_ave = mean(P)\n",
    "        Q_ave = mean(Q)\n",
    "        R_ave = mean(R)\n",
    "        F_ave = mean(F)\n",
    "\n",
    "        display(L\"Pₐᵥₑ = %$(round(P_ave, digits=5))\")\n",
    "        display(L\"Qₐᵥₑ = %$(round(Q_ave, digits=5))\")\n",
    "        display(L\"Rₐᵥₑ = %$(round(R_ave, digits=5))\")\n",
    "        display(L\"Fₐᵥₑ = %$(round(F_ave, digits=5))\")\n",
    "        # P_var = var(P)\n",
    "        # Q_var = var(Q)\n",
    "        # R_var = var(R)\n",
    "        # F_var = var(F)\n",
    "        # display(L\"Pᵥₐᵣ = %$(round(P_var, digits=5))\")\n",
    "        # display(L\"Qᵥₐᵣ = %$(round(Q_var, digits=5))\")\n",
    "        # display(L\"Rᵥₐᵣ = %$(round(R_var, digits=5))\")\n",
    "        # display(L\"Fᵥₐᵣ = %$(round(F_var, digits=5))\")\n",
    "\n",
    "    end\n",
    "end\n"
   ]
  }
 ],
 "metadata": {
  "kernelspec": {
   "display_name": "Julia 1.9.4",
   "language": "julia",
   "name": "julia-1.9"
  },
  "language_info": {
   "file_extension": ".jl",
   "mimetype": "application/julia",
   "name": "julia",
   "version": "1.9.4"
  }
 },
 "nbformat": 4,
 "nbformat_minor": 2
}
