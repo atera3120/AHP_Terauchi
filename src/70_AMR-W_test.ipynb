{
 "cells": [
  {
   "cell_type": "code",
   "execution_count": 1,
   "metadata": {},
   "outputs": [],
   "source": [
    "using LaTeXStrings"
   ]
  },
  {
   "cell_type": "code",
   "execution_count": 2,
   "metadata": {},
   "outputs": [],
   "source": [
    "include(\"./libs/display-latex.jl\")\n",
    "include(\"./libs/crisp-pcm.jl\")\n",
    "include(\"./libs/solve-deterministic-ahp.jl\")\n",
    "include(\"./libs/AMR-W.jl\");"
   ]
  },
  {
   "cell_type": "code",
   "execution_count": 3,
   "metadata": {},
   "outputs": [
    {
     "data": {
      "text/latex": [
       "$A = \\begin{pmatrix} 1.0 & 1.0 & 2.0 & 3.0 & 6.0 \\\\1.0 & 1.0 & 2.0 & 2.0 & 6.0 \\\\0.5 & 0.5 & 1.0 & 1.0 & 5.0 \\\\0.333 & 0.5 & 1.0 & 1.0 & 1.0 \\\\0.167 & 0.167 & 0.2 & 1.0 & 1.0 \\\\ \\end{pmatrix}$"
      ],
      "text/plain": [
       "L\"$A = \\begin{pmatrix} 1.0 & 1.0 & 2.0 & 3.0 & 6.0 \\\\1.0 & 1.0 & 2.0 & 2.0 & 6.0 \\\\0.5 & 0.5 & 1.0 & 1.0 & 5.0 \\\\0.333 & 0.5 & 1.0 & 1.0 & 1.0 \\\\0.167 & 0.167 & 0.2 & 1.0 & 1.0 \\\\ \\end{pmatrix}$\""
      ]
     },
     "metadata": {},
     "output_type": "display_data"
    }
   ],
   "source": [
    "# 完全整合 のもの\n",
    "# A = [\n",
    "#     1   3   5   7\n",
    "#     1/3 1   5/3 7/3\n",
    "#     1/5 3/5 1   7/5\n",
    "#     1/7 3/7 5/7 1\n",
    "# ]\n",
    "\n",
    "# CI = 0.01 のもの\n",
    "# A = [\n",
    "#     1 2 4/3 4/3\n",
    "#     1/2 1 1 1\n",
    "#     3/4 1 1 3/2\n",
    "#     3/4 1 2/3 1.0\n",
    "# ]\n",
    "\n",
    "# A = [\n",
    "#     1 1 2/3 1\n",
    "#     1 1 4/9 2/3\n",
    "#     3/2 9/4 1 1\n",
    "#     1 3/2 1 1.0\n",
    "# ]\n",
    "\n",
    "# CI = 0.15 のもの\n",
    "# A = [\n",
    "#     1 1 2 2\n",
    "#     1 1 3 1\n",
    "#     1/2 1/3 1 3\n",
    "#     1/2 1 1/3 1\n",
    "# ]\n",
    "\n",
    "# その他テストケース\n",
    "# A = [\n",
    "#     1.0  1.0  2.0  3.0  3.0\n",
    "#     1.0  1.0  2.0  3.0  5.0\n",
    "#     1/2  1/2  1.0  1.0  3.0\n",
    "#     1/3  1/3  1.0  1.0  2.0\n",
    "#     1/3  1/5  1/3  1/2  1.0\n",
    "# ]\n",
    "\n",
    "A = [\n",
    "    1.000000 1.000000 2.000000 3.000000 6.000000\n",
    "    1.000000 1.000000 2.000000 2.000000 6.000000\n",
    "    0.500000 0.500000 1.000000 1.000000 5.000000\n",
    "    0.333333 0.500000 1.000000 1.000000 1.000000\n",
    "    0.166667 0.166667 0.200000 1.000000 1.000000\n",
    "]\n",
    "\n",
    "display(L\"A = %$(matrixLaTeXString(A))\")"
   ]
  },
  {
   "cell_type": "code",
   "execution_count": 4,
   "metadata": {},
   "outputs": [
    {
     "data": {
      "text/plain": [
       "0.053778261838655084"
      ]
     },
     "metadata": {},
     "output_type": "display_data"
    }
   ],
   "source": [
    "consistencyIndex(A)"
   ]
  },
  {
   "cell_type": "code",
   "execution_count": 5,
   "metadata": {},
   "outputs": [
    {
     "data": {
      "text/latex": [
       "$E-AMRw : \\begin{pmatrix} \\left[ 0.327, 0.336 \\right] \\\\ \\left[ 0.29, 0.327 \\right] \\\\ \\left[ 0.157, 0.199 \\right] \\\\ \\left[ 0.082, 0.157 \\right] \\\\ \\left[ 0.04, 0.085 \\right] \\end{pmatrix}$"
      ],
      "text/plain": [
       "L\"$E-AMRw : \\begin{pmatrix} \\left[ 0.327, 0.336 \\right] \\\\ \\left[ 0.29, 0.327 \\right] \\\\ \\left[ 0.157, 0.199 \\right] \\\\ \\left[ 0.082, 0.157 \\right] \\\\ \\left[ 0.04, 0.085 \\right] \\end{pmatrix}$\""
      ]
     },
     "metadata": {},
     "output_type": "display_data"
    }
   ],
   "source": [
    "solution = AMR_W(A, EV)\n",
    "W = solution.W\n",
    "display(L\"E-AMRw : %$(intervalVectorLaTeXString(W))\")"
   ]
  },
  {
   "cell_type": "code",
   "execution_count": 6,
   "metadata": {},
   "outputs": [
    {
     "data": {
      "text/latex": [
       "$G-AMRw : \\begin{pmatrix} \\left[ 0.334, 0.345 \\right] \\\\ \\left[ 0.292, 0.334 \\right] \\\\ \\left[ 0.157, 0.19 \\right] \\\\ \\left[ 0.075, 0.157 \\right] \\\\ \\left[ 0.038, 0.079 \\right] \\end{pmatrix}$"
      ],
      "text/plain": [
       "L\"$G-AMRw : \\begin{pmatrix} \\left[ 0.334, 0.345 \\right] \\\\ \\left[ 0.292, 0.334 \\right] \\\\ \\left[ 0.157, 0.19 \\right] \\\\ \\left[ 0.075, 0.157 \\right] \\\\ \\left[ 0.038, 0.079 \\right] \\end{pmatrix}$\""
      ]
     },
     "metadata": {},
     "output_type": "display_data"
    }
   ],
   "source": [
    "solution = AMR_W(A, GM)\n",
    "W = solution.W\n",
    "display(L\"G-AMRw : %$(intervalVectorLaTeXString(W))\")"
   ]
  },
  {
   "cell_type": "code",
   "execution_count": 7,
   "metadata": {},
   "outputs": [
    {
     "data": {
      "text/latex": [
       "$L-AMRw : \\begin{pmatrix} \\left[ 0.327, 0.34 \\right] \\\\ \\left[ 0.322, 0.344 \\right] \\\\ \\left[ 0.148, 0.185 \\right] \\\\ \\left[ 0.061, 0.161 \\right] \\\\ \\left[ 0.03, 0.081 \\right] \\end{pmatrix}$"
      ],
      "text/plain": [
       "L\"$L-AMRw : \\begin{pmatrix} \\left[ 0.327, 0.34 \\right] \\\\ \\left[ 0.322, 0.344 \\right] \\\\ \\left[ 0.148, 0.185 \\right] \\\\ \\left[ 0.061, 0.161 \\right] \\\\ \\left[ 0.03, 0.081 \\right] \\end{pmatrix}$\""
      ]
     },
     "metadata": {},
     "output_type": "display_data"
    }
   ],
   "source": [
    "solution = AMR_W(A, LM)\n",
    "W = solution.W\n",
    "display(L\"L-AMRw : %$(intervalVectorLaTeXString(W))\")"
   ]
  }
 ],
 "metadata": {
  "kernelspec": {
   "display_name": "Julia 1.9.4",
   "language": "julia",
   "name": "julia-1.9"
  },
  "language_info": {
   "file_extension": ".jl",
   "mimetype": "application/julia",
   "name": "julia",
   "version": "1.9.4"
  }
 },
 "nbformat": 4,
 "nbformat_minor": 2
}
