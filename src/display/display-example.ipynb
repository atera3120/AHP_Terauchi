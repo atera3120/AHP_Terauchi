{
 "cells": [
  {
   "cell_type": "code",
   "execution_count": 2,
   "metadata": {},
   "outputs": [],
   "source": [
    "# import Pkg; Pkg.add(\"IntervalArithmetic\"); Pkg.add(\"LaTeXStrings\")"
   ]
  },
  {
   "cell_type": "code",
   "execution_count": 3,
   "metadata": {},
   "outputs": [],
   "source": [
    "using IntervalArithmetic\n",
    "using LaTeXStrings"
   ]
  },
  {
   "cell_type": "code",
   "execution_count": 4,
   "metadata": {},
   "outputs": [
    {
     "data": {
      "text/plain": [
       "intervalVectorLaTeXString"
      ]
     },
     "metadata": {},
     "output_type": "display_data"
    }
   ],
   "source": [
    "include(\"./display-interval-vector.jl\")"
   ]
  },
  {
   "cell_type": "code",
   "execution_count": 5,
   "metadata": {},
   "outputs": [],
   "source": [
    "w = [\n",
    "    1..2\n",
    "    2..3\n",
    "    3..4\n",
    "    4..5\n",
    "];"
   ]
  },
  {
   "cell_type": "code",
   "execution_count": 6,
   "metadata": {},
   "outputs": [
    {
     "data": {
      "text/latex": [
       "$\\mathrm{W} = \\begin{pmatrix} \\left[ 1.0, 2.0 \\right] \\\\ \\left[ 2.0, 3.0 \\right] \\\\ \\left[ 3.0, 4.0 \\right] \\\\ \\left[ 4.0, 5.0 \\right] \\end{pmatrix}$"
      ],
      "text/plain": [
       "L\"$\\mathrm{W} = \\begin{pmatrix} \\left[ 1.0, 2.0 \\right] \\\\ \\left[ 2.0, 3.0 \\right] \\\\ \\left[ 3.0, 4.0 \\right] \\\\ \\left[ 4.0, 5.0 \\right] \\end{pmatrix}$\""
      ]
     },
     "metadata": {},
     "output_type": "display_data"
    }
   ],
   "source": [
    "Wₛₜᵣ = intervalVectorLaTeXString(w)\n",
    "display(L\"\\mathrm{W} = %$(Wₛₜᵣ)\")"
   ]
  }
 ],
 "metadata": {
  "kernelspec": {
   "display_name": "Julia 1.9.3",
   "language": "julia",
   "name": "julia-1.9"
  },
  "language_info": {
   "file_extension": ".jl",
   "mimetype": "application/julia",
   "name": "julia",
   "version": "1.9.3"
  }
 },
 "nbformat": 4,
 "nbformat_minor": 2
}
