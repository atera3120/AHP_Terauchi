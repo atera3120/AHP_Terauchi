{
 "cells": [
  {
   "cell_type": "markdown",
   "metadata": {},
   "source": [
    "※修正点\n",
    "u_iは避ける"
   ]
  },
  {
   "cell_type": "markdown",
   "metadata": {},
   "source": [
    "# 10 / 20 ゼミ"
   ]
  },
  {
   "cell_type": "markdown",
   "metadata": {},
   "source": [
    "中心推定はAMRWが最も精度よく推定できることが分かっている．\n",
    "MMR法の推定について，従来法と異なるアプローチを検討する．\n",
    "\n",
    "【内容】  \n",
    "人間の感覚は非線形で，おおむね対数関数で近似されることが知られている．そのため，AHPにおいてもこの非線形性を考慮する．一対比較行列から重要度のクリスプな値を推定するAHPにおいて，以下のような対数空間内での最適化を考える．対数空間内の最適化を用いることから，外れ値の影響を受けにくくなると予想される．"
   ]
  },
  {
   "cell_type": "markdown",
   "metadata": {},
   "source": [
    "$$\n",
    "\\begin{align*}\n",
    "\\operatorname{minimize} ~~ & ~~\n",
    "\\sum_{i \\in N} \\sum_{j < i} \\left| \\ln \\left( a_{ij} \\right) - \\ln \\left( \\frac{w_i}{w_j} \\right) \\right| \\\\\n",
    "\\end{align*}\n",
    "$$"
   ]
  },
  {
   "cell_type": "markdown",
   "metadata": {},
   "source": [
    "上式は非線形計画問題であるが，以下のように文字を置き換えることによって，線形計画問題に帰着する．"
   ]
  },
  {
   "cell_type": "markdown",
   "metadata": {},
   "source": [
    "$$\n",
    "\\begin{align*}\n",
    "\\operatorname{minimize} ~~ & ~~\n",
    "\\sum_{i \\in N} \\sum_{j < i} U_{ij}, \\\\\n",
    "\\text{subject to} ~~ & ~~\n",
    "\\ln \\left( a_{ij} \\right) - u_i + u_j \\leq U_{ij}, &&\n",
    "i \\in N, ~~ & j<i \\\\ & ~~\n",
    "u_i - u_j -\\ln \\left( a_{ij} \\right) \\leq U_{ij}, &&\n",
    "i \\in N, ~~ & j<i \\\\ & ~~\n",
    "u_i \\in \\mathbb{R}.\n",
    "\\end{align*}\n",
    "$$"
   ]
  },
  {
   "cell_type": "markdown",
   "metadata": {},
   "source": [
    "\n",
    "$$where ~~ u_i = \\ln \\left( w_i \\right), ~ U_{ij} = \\left| \\ln \\left( a_{ij} \\right) - u_i + u_j \\right|, ~ i \\in N$$"
   ]
  },
  {
   "cell_type": "markdown",
   "metadata": {},
   "source": [
    "ここで，求まった最適解から\n",
    "$$w_i = \\lambda \\exp \\left( u_i \\right)$$\n",
    "として重みを計算することができるが，この際，総和が１になるように定める．"
   ]
  },
  {
   "cell_type": "code",
   "execution_count": 6,
   "metadata": {},
   "outputs": [],
   "source": [
    "using LaTeXStrings"
   ]
  },
  {
   "cell_type": "code",
   "execution_count": 7,
   "metadata": {},
   "outputs": [
    {
     "data": {
      "text/plain": [
       "GM (generic function with 1 method)"
      ]
     },
     "metadata": {},
     "output_type": "display_data"
    }
   ],
   "source": [
    "include(\"./libs/display-latex.jl\")\n",
    "include(\"./libs/solve-deterministic-ahp.jl\")"
   ]
  },
  {
   "cell_type": "code",
   "execution_count": 8,
   "metadata": {},
   "outputs": [
    {
     "data": {
      "text/latex": [
       "$A = \\begin{pmatrix} 1.0 & 2.0 & 4.0 & 5.0 \\\\0.5 & 1.0 & 2.0 & 2.5 \\\\0.25 & 0.5 & 1.0 & 1.25 \\\\0.2 & 0.4 & 0.8 & 1.0 \\\\ \\end{pmatrix}$"
      ],
      "text/plain": [
       "L\"$A = \\begin{pmatrix} 1.0 & 2.0 & 4.0 & 5.0 \\\\0.5 & 1.0 & 2.0 & 2.5 \\\\0.25 & 0.5 & 1.0 & 1.25 \\\\0.2 & 0.4 & 0.8 & 1.0 \\\\ \\end{pmatrix}$\""
      ]
     },
     "metadata": {},
     "output_type": "display_data"
    },
    {
     "data": {
      "text/latex": [
       "$B = \\begin{pmatrix} 1.0 & 1.0 & 2.0 & 2.0 \\\\1.0 & 1.0 & 3.0 & 1.0 \\\\0.5 & 0.333 & 1.0 & 3.0 \\\\0.5 & 1.0 & 0.333 & 1.0 \\\\ \\end{pmatrix}$"
      ],
      "text/plain": [
       "L\"$B = \\begin{pmatrix} 1.0 & 1.0 & 2.0 & 2.0 \\\\1.0 & 1.0 & 3.0 & 1.0 \\\\0.5 & 0.333 & 1.0 & 3.0 \\\\0.5 & 1.0 & 0.333 & 1.0 \\\\ \\end{pmatrix}$\""
      ]
     },
     "metadata": {},
     "output_type": "display_data"
    }
   ],
   "source": [
    "# A = [\n",
    "#     1   3   5   7\n",
    "#     1/3 1   5/3 7/3\n",
    "#     1/5 3/5 1   7/5\n",
    "#     1/7 3/7 5/7 1\n",
    "# ]\n",
    "A = [\n",
    "    1   2   4   5\n",
    "    1/2 1   2   5/2\n",
    "    1/4 1/2 1   5/4\n",
    "    1/5 2/5 4/5 1\n",
    "]\n",
    "B = [\n",
    "    1 1 2 2\n",
    "    1 1 3 1\n",
    "    1/2 1/3 1 3\n",
    "    1/2 1 1/3 1\n",
    "]\n",
    "display(L\"A = %$(matrixLaTeXString(A))\")\n",
    "display(L\"B = %$(matrixLaTeXString(B))\")"
   ]
  },
  {
   "cell_type": "code",
   "execution_count": 9,
   "metadata": {},
   "outputs": [
    {
     "data": {
      "text/latex": [
       "$EV₁ = \\begin{pmatrix} 0.513 \\\\ 0.256 \\\\ 0.128 \\\\ 0.103 \\end{pmatrix}$"
      ],
      "text/plain": [
       "L\"$EV₁ = \\begin{pmatrix} 0.513 \\\\ 0.256 \\\\ 0.128 \\\\ 0.103 \\end{pmatrix}$\""
      ]
     },
     "metadata": {},
     "output_type": "display_data"
    },
    {
     "data": {
      "text/latex": [
       "$GM₁ = \\begin{pmatrix} 0.513 \\\\ 0.256 \\\\ 0.128 \\\\ 0.103 \\end{pmatrix}$"
      ],
      "text/plain": [
       "L\"$GM₁ = \\begin{pmatrix} 0.513 \\\\ 0.256 \\\\ 0.128 \\\\ 0.103 \\end{pmatrix}$\""
      ]
     },
     "metadata": {},
     "output_type": "display_data"
    },
    {
     "data": {
      "text/latex": [
       "$ALD₁ = \\begin{pmatrix} 0.513 \\\\ 0.256 \\\\ 0.128 \\\\ 0.103 \\end{pmatrix}$"
      ],
      "text/plain": [
       "L\"$ALD₁ = \\begin{pmatrix} 0.513 \\\\ 0.256 \\\\ 0.128 \\\\ 0.103 \\end{pmatrix}$\""
      ]
     },
     "metadata": {},
     "output_type": "display_data"
    }
   ],
   "source": [
    "EV₁ = EV(A)\n",
    "GM₁ = GM(A)\n",
    "ALD₁ = ALD(A)\n",
    "display(L\"EV₁ = %$(VectorLaTeXString(EV₁))\")\n",
    "display(L\"GM₁ = %$(VectorLaTeXString(GM₁))\")\n",
    "display(L\"ALD₁ = %$(VectorLaTeXString(ALD₁))\")"
   ]
  },
  {
   "cell_type": "code",
   "execution_count": 10,
   "metadata": {},
   "outputs": [
    {
     "data": {
      "text/latex": [
       "$EV₂ = \\begin{pmatrix} 0.308 \\\\ 0.321 \\\\ 0.213 \\\\ 0.158 \\end{pmatrix}$"
      ],
      "text/plain": [
       "L\"$EV₂ = \\begin{pmatrix} 0.308 \\\\ 0.321 \\\\ 0.213 \\\\ 0.158 \\end{pmatrix}$\""
      ]
     },
     "metadata": {},
     "output_type": "display_data"
    },
    {
     "data": {
      "text/latex": [
       "$GM₂ = \\begin{pmatrix} 0.336 \\\\ 0.313 \\\\ 0.2 \\\\ 0.152 \\end{pmatrix}$"
      ],
      "text/plain": [
       "L\"$GM₂ = \\begin{pmatrix} 0.336 \\\\ 0.313 \\\\ 0.2 \\\\ 0.152 \\end{pmatrix}$\""
      ]
     },
     "metadata": {},
     "output_type": "display_data"
    },
    {
     "data": {
      "text/latex": [
       "$ALD₂ = \\begin{pmatrix} 0.333 \\\\ 0.333 \\\\ 0.167 \\\\ 0.167 \\end{pmatrix}$"
      ],
      "text/plain": [
       "L\"$ALD₂ = \\begin{pmatrix} 0.333 \\\\ 0.333 \\\\ 0.167 \\\\ 0.167 \\end{pmatrix}$\""
      ]
     },
     "metadata": {},
     "output_type": "display_data"
    }
   ],
   "source": [
    "EV₂ = EV(B)\n",
    "GM₂ = GM(B)\n",
    "ALD₂ = ALD(B)\n",
    "display(L\"EV₂ = %$(VectorLaTeXString(EV₂))\")\n",
    "display(L\"GM₂ = %$(VectorLaTeXString(GM₂))\")\n",
    "display(L\"ALD₂ = %$(VectorLaTeXString(ALD₂))\")"
   ]
  }
 ],
 "metadata": {
  "kernelspec": {
   "display_name": "Julia 1.9.4",
   "language": "julia",
   "name": "julia-1.9"
  },
  "language_info": {
   "file_extension": ".jl",
   "mimetype": "application/julia",
   "name": "julia",
   "version": "1.9.4"
  }
 },
 "nbformat": 4,
 "nbformat_minor": 2
}
