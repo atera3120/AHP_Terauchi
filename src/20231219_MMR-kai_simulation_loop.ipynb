{
 "cells": [
  {
   "cell_type": "markdown",
   "metadata": {},
   "source": [
    "|E-MMR-W| |A|B|C|D|E|\n",
    "|:----|:----|:----|:----|:----|:----|:----|\n",
    "|N=6|P|0.470375|0.519828|0.501495|0.537972|0.518142|\n",
    "| |Q|0.760864|0.764936|0.765095|0.771853|0.772681|\n",
    "| |R|0.621411|0.675804|0.659599|0.697599|0.672377|\n",
    "| |F|0.604833|0.655057|0.640695|0.674588|0.653912|\n",
    "| | | | | | | |\n",
    "|MMR-E| |A|B|C|D|E|\n",
    "|N=6|P|0.4541|0.44845|0.4763|0.50223|0.48693|\n",
    "| |Q|0.97147|0.93344|0.95565|0.96601|0.95805|\n",
    "| |R|0.4656|0.47498|0.49479|0.51269|0.50499|\n",
    "| |F|0.59927|0.6001|0.62674|0.66316|0.63632|\n",
    "| | | | | | | |\n",
    "|文字置き換え| |A|B|C|D|E|\n",
    "|N=6|P|0.50505|0.55656|0.54214|0.57634|0.55197|\n",
    "| |Q|0.81003|0.81033|0.81323|0.80784|0.80577|\n",
    "| |R|0.61599|0.67422|0.65981|0.69921|0.67193|\n",
    "| |F|0.63972|0.69362|0.68036|0.71194|0.68787|\n",
    "| | | | | | | |\n",
    "|AMRバージョン| |A|B|C|D|E|\n",
    "|N=6|P|0.56875|0.59712|0.59444|0.65688|0.6118|\n",
    "| |Q|0.75981|0.75095|0.75146|0.75411|0.75162|\n",
    "| |R|0.72279|0.77884|0.77234|0.83173|0.78664|\n",
    "| |F|0.70124|0.72862|0.72796|0.77593|0.74093|"
   ]
  },
  {
   "cell_type": "code",
   "execution_count": 13,
   "metadata": {},
   "outputs": [],
   "source": [
    "# import Pkg\n",
    "# Pkg.add(\"DataFrames\")\n",
    "# Pkg.add(\"CSV\")\n",
    "# Pkg.add(\"IntervalSets\")\n",
    "# Pkg.add(\"LatexStrings\")"
   ]
  },
  {
   "cell_type": "code",
   "execution_count": 14,
   "metadata": {},
   "outputs": [
    {
     "data": {
      "text/plain": [
       "MMR_kai (generic function with 1 method)"
      ]
     },
     "metadata": {},
     "output_type": "display_data"
    }
   ],
   "source": [
    "using DataFrames, CSV\n",
    "using IntervalArithmetic\n",
    "using LaTeXStrings\n",
    "using Statistics\n",
    "# using Base\n",
    "include(\"./libs/display-latex.jl\")\n",
    "include(\"./libs/crisp-pcm.jl\")\n",
    "include(\"./libs/analysis-indicators.jl\")\n",
    "include(\"./libs/solve-deterministic-ahp.jl\")\n",
    "include(\"./libs/MMR-kai.jl\")"
   ]
  },
  {
   "cell_type": "code",
   "execution_count": 15,
   "metadata": {},
   "outputs": [],
   "source": [
    "# 評価基準数\n",
    "num_criteria = [6];\n",
    "# 真の区間重要度のセッティング\n",
    "true_importance = [\"A\", \"B\", \"C\", \"D\", \"E\"]; # [\"A\", \"B\", \"C\", \"D\", \"E\"]"
   ]
  },
  {
   "cell_type": "code",
   "execution_count": 16,
   "metadata": {},
   "outputs": [
    {
     "data": {
      "text/latex": [
       "$Pₐᵥₑ = 0.50505$"
      ],
      "text/plain": [
       "L\"$Pₐᵥₑ = 0.50505$\""
      ]
     },
     "metadata": {},
     "output_type": "display_data"
    },
    {
     "data": {
      "text/latex": [
       "$Qₐᵥₑ = 0.81003$"
      ],
      "text/plain": [
       "L\"$Qₐᵥₑ = 0.81003$\""
      ]
     },
     "metadata": {},
     "output_type": "display_data"
    },
    {
     "data": {
      "text/latex": [
       "$Rₐᵥₑ = 0.61599$"
      ],
      "text/plain": [
       "L\"$Rₐᵥₑ = 0.61599$\""
      ]
     },
     "metadata": {},
     "output_type": "display_data"
    },
    {
     "data": {
      "text/latex": [
       "$Fₐᵥₑ = 0.63972$"
      ],
      "text/plain": [
       "L\"$Fₐᵥₑ = 0.63972$\""
      ]
     },
     "metadata": {},
     "output_type": "display_data"
    },
    {
     "name": "stdout",
     "output_type": "stream",
     "text": [
      "N = 6\n",
      "setting = A\n"
     ]
    },
    {
     "data": {
      "text/latex": [
       "$Pₐᵥₑ = 0.55656$"
      ],
      "text/plain": [
       "L\"$Pₐᵥₑ = 0.55656$\""
      ]
     },
     "metadata": {},
     "output_type": "display_data"
    },
    {
     "data": {
      "text/latex": [
       "$Qₐᵥₑ = 0.81033$"
      ],
      "text/plain": [
       "L\"$Qₐᵥₑ = 0.81033$\""
      ]
     },
     "metadata": {},
     "output_type": "display_data"
    },
    {
     "data": {
      "text/latex": [
       "$Rₐᵥₑ = 0.67422$"
      ],
      "text/plain": [
       "L\"$Rₐᵥₑ = 0.67422$\""
      ]
     },
     "metadata": {},
     "output_type": "display_data"
    },
    {
     "data": {
      "text/latex": [
       "$Fₐᵥₑ = 0.69362$"
      ],
      "text/plain": [
       "L\"$Fₐᵥₑ = 0.69362$\""
      ]
     },
     "metadata": {},
     "output_type": "display_data"
    },
    {
     "name": "stdout",
     "output_type": "stream",
     "text": [
      "N = 6\n",
      "setting = B\n"
     ]
    },
    {
     "data": {
      "text/latex": [
       "$Pₐᵥₑ = 0.54214$"
      ],
      "text/plain": [
       "L\"$Pₐᵥₑ = 0.54214$\""
      ]
     },
     "metadata": {},
     "output_type": "display_data"
    },
    {
     "data": {
      "text/latex": [
       "$Qₐᵥₑ = 0.81323$"
      ],
      "text/plain": [
       "L\"$Qₐᵥₑ = 0.81323$\""
      ]
     },
     "metadata": {},
     "output_type": "display_data"
    },
    {
     "data": {
      "text/latex": [
       "$Rₐᵥₑ = 0.65981$"
      ],
      "text/plain": [
       "L\"$Rₐᵥₑ = 0.65981$\""
      ]
     },
     "metadata": {},
     "output_type": "display_data"
    },
    {
     "data": {
      "text/latex": [
       "$Fₐᵥₑ = 0.68036$"
      ],
      "text/plain": [
       "L\"$Fₐᵥₑ = 0.68036$\""
      ]
     },
     "metadata": {},
     "output_type": "display_data"
    },
    {
     "name": "stdout",
     "output_type": "stream",
     "text": [
      "N = 6\n",
      "setting = C\n"
     ]
    },
    {
     "data": {
      "text/latex": [
       "$Pₐᵥₑ = 0.57634$"
      ],
      "text/plain": [
       "L\"$Pₐᵥₑ = 0.57634$\""
      ]
     },
     "metadata": {},
     "output_type": "display_data"
    },
    {
     "data": {
      "text/latex": [
       "$Qₐᵥₑ = 0.80784$"
      ],
      "text/plain": [
       "L\"$Qₐᵥₑ = 0.80784$\""
      ]
     },
     "metadata": {},
     "output_type": "display_data"
    },
    {
     "data": {
      "text/latex": [
       "$Rₐᵥₑ = 0.69921$"
      ],
      "text/plain": [
       "L\"$Rₐᵥₑ = 0.69921$\""
      ]
     },
     "metadata": {},
     "output_type": "display_data"
    },
    {
     "data": {
      "text/latex": [
       "$Fₐᵥₑ = 0.71194$"
      ],
      "text/plain": [
       "L\"$Fₐᵥₑ = 0.71194$\""
      ]
     },
     "metadata": {},
     "output_type": "display_data"
    },
    {
     "name": "stdout",
     "output_type": "stream",
     "text": [
      "N = 6\n",
      "setting = D\n"
     ]
    },
    {
     "data": {
      "text/latex": [
       "$Pₐᵥₑ = 0.55197$"
      ],
      "text/plain": [
       "L\"$Pₐᵥₑ = 0.55197$\""
      ]
     },
     "metadata": {},
     "output_type": "display_data"
    },
    {
     "data": {
      "text/latex": [
       "$Qₐᵥₑ = 0.80577$"
      ],
      "text/plain": [
       "L\"$Qₐᵥₑ = 0.80577$\""
      ]
     },
     "metadata": {},
     "output_type": "display_data"
    },
    {
     "data": {
      "text/latex": [
       "$Rₐᵥₑ = 0.67193$"
      ],
      "text/plain": [
       "L\"$Rₐᵥₑ = 0.67193$\""
      ]
     },
     "metadata": {},
     "output_type": "display_data"
    },
    {
     "data": {
      "text/latex": [
       "$Fₐᵥₑ = 0.68787$"
      ],
      "text/plain": [
       "L\"$Fₐᵥₑ = 0.68787$\""
      ]
     },
     "metadata": {},
     "output_type": "display_data"
    },
    {
     "name": "stdout",
     "output_type": "stream",
     "text": [
      "N = 6\n",
      "setting = E\n"
     ]
    }
   ],
   "source": [
    "# 真の区間重要度を読み込み\n",
    "for N in num_criteria\n",
    "        \n",
    "    for setting in true_importance\n",
    "        df = CSV.File(\"./data/N\"*string(N)*\"_\"*setting*\"_Given_interval_weight.csv\", header=false) |> DataFrame\n",
    "        T = Vector{Interval{Float64}}() # Float64のところにTを使うとおかしくなるのはなぜか？\n",
    "        for i in 1:N\n",
    "            push!(T, interval(df[1, 2*i-1], df[1, 2*i]))\n",
    "        end\n",
    "\n",
    "        # display(L\"T = %$(intervalVectorLaTeXString(T))\")\n",
    "        # 一対比較行列を1000個読み込み\n",
    "        df1 = CSV.File(\"./data/N\"*string(N)*\"_a3_\"*setting*\"_PCM_int.csv\", header=false) |> DataFrame\n",
    "\n",
    "        # データフレームをN×Nのサブデータフレームに分割\n",
    "        subdfs = split_dataframe(df1, N);\n",
    "        # 結果格納用\n",
    "        P = Matrix{Float64}(undef, N, 1000)\n",
    "        Q = Matrix{Float64}(undef, N, 1000)\n",
    "        R = Matrix{Float64}(undef, N, 1000)\n",
    "        F = Matrix{Float64}(undef, N, 1000)\n",
    "\n",
    "        # 1000個のデータで推定\n",
    "        for (i, subdf) in enumerate(subdfs)\n",
    "\n",
    "            # 一対比較行列を取り出す\n",
    "            A = Matrix(subdf)\n",
    "            # display(L\"A = %$(matrixLaTeXString(A))\")\n",
    "            # if i == 779\n",
    "            #     println(\"i = \", i)\n",
    "            #     display(L\"A = %$(matrixLaTeXString(A))\")\n",
    "            # end\n",
    "\n",
    "            # 提案手法で区間重要度推定\n",
    "            solution = MMR_kai(A, EV)\n",
    "            E = solution.W # 区間重要度の推定値\n",
    "            # display(L\"E = %$(intervalVectorLaTeXString(E))\")\n",
    "            # display(L\"T = %$(intervalVectorLaTeXString(T))\")\n",
    "\n",
    "            TcapE = T .∩ E # 真の区間重要度と推定値の積集合\n",
    "            TcupE = T .∪ E # 真の区間重要度と推定値の和集合\n",
    "            # display(L\"T ∩ E = %$(intervalVectorLaTeXString(TcapE))\")\n",
    "            # display(L\"T ∪ E = %$(intervalVectorLaTeXString(TcupE))\")\n",
    "            \n",
    "            # P, Q, R, F の計算\n",
    "            P[:, i] = calculate_P(T, E) # 真の区間重要度と推定値の積集合の割合\n",
    "            Q[:, i] = calculate_Q(T, E) # 真の区間重要度と推定値の積集合の割合\n",
    "            R[:, i] = calculate_R(T, E) # 真の区間重要度と推定値の積集合の割合\n",
    "            F[:, i] = calculate_F(T, E) # F値\n",
    "            # println(\"i = \", i)\n",
    "            # display(L\"P = %$(VectorLaTeXString(P[:,i]))\")\n",
    "            # display(L\"Q = %$(VectorLaTeXString(Q[:,i]))\")\n",
    "            # display(L\"R = %$(VectorLaTeXString(R[:,i]))\")\n",
    "            # display(L\"F = %$(VectorLaTeXString(F[:,i]))\")\n",
    "        end\n",
    "\n",
    "        println(\"N = \", N)\n",
    "        println(\"setting = \", setting)\n",
    "\n",
    "        P_ave = mean(P)\n",
    "        Q_ave = mean(Q)\n",
    "        R_ave = mean(R)\n",
    "        F_ave = mean(F)\n",
    "\n",
    "        display(L\"Pₐᵥₑ = %$(round(P_ave, digits=5))\")\n",
    "        display(L\"Qₐᵥₑ = %$(round(Q_ave, digits=5))\")\n",
    "        display(L\"Rₐᵥₑ = %$(round(R_ave, digits=5))\")\n",
    "        display(L\"Fₐᵥₑ = %$(round(F_ave, digits=5))\")\n",
    "        # P_var = var(P)\n",
    "        # Q_var = var(Q)\n",
    "        # R_var = var(R)\n",
    "        # F_var = var(F)\n",
    "        # display(L\"Pᵥₐᵣ = %$(round(P_var, digits=5))\")\n",
    "        # display(L\"Qᵥₐᵣ = %$(round(Q_var, digits=5))\")\n",
    "        # display(L\"Rᵥₐᵣ = %$(round(R_var, digits=5))\")\n",
    "        # display(L\"Fᵥₐᵣ = %$(round(F_var, digits=5))\")\n",
    "\n",
    "    end\n",
    "end\n"
   ]
  }
 ],
 "metadata": {
  "kernelspec": {
   "display_name": "Julia 1.9.4",
   "language": "julia",
   "name": "julia-1.9"
  },
  "language_info": {
   "file_extension": ".jl",
   "mimetype": "application/julia",
   "name": "julia",
   "version": "1.9.4"
  }
 },
 "nbformat": 4,
 "nbformat_minor": 2
}
