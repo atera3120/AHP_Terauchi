{
 "cells": [
  {
   "cell_type": "code",
   "execution_count": 1,
   "metadata": {},
   "outputs": [],
   "source": [
    "using LaTeXStrings"
   ]
  },
  {
   "cell_type": "code",
   "execution_count": 2,
   "metadata": {},
   "outputs": [
    {
     "data": {
      "text/plain": [
       "solveIntervalAHP (generic function with 1 method)"
      ]
     },
     "metadata": {},
     "output_type": "display_data"
    }
   ],
   "source": [
    "include(\"./display/display-crisp-matrix.jl\")\n",
    "include(\"./display/display-interval-vector.jl\")\n",
    "include(\"./display/display-vector.jl\")\n",
    "include(\"./importance-estimation.jl\")\n",
    "include(\"./solve-interval-ahp.jl\")"
   ]
  },
  {
   "cell_type": "code",
   "execution_count": 3,
   "metadata": {},
   "outputs": [
    {
     "data": {
      "text/latex": [
       "$A = \\begin{pmatrix} 1.0 & 1.0 & 2.0 & 2.0 \\\\1.0 & 1.0 & 3.0 & 1.0 \\\\0.5 & 0.333 & 1.0 & 3.0 \\\\0.5 & 1.0 & 0.333 & 1.0 \\\\ \\end{pmatrix}$"
      ],
      "text/plain": [
       "L\"$A = \\begin{pmatrix} 1.0 & 1.0 & 2.0 & 2.0 \\\\1.0 & 1.0 & 3.0 & 1.0 \\\\0.5 & 0.333 & 1.0 & 3.0 \\\\0.5 & 1.0 & 0.333 & 1.0 \\\\ \\end{pmatrix}$\""
      ]
     },
     "metadata": {},
     "output_type": "display_data"
    }
   ],
   "source": [
    "# A = [\n",
    "#     1   3   5   7\n",
    "#     1/3 1   5/3 7/3\n",
    "#     1/5 3/5 1   7/5\n",
    "#     1/7 3/7 5/7 1\n",
    "# ]\n",
    "# A = [\n",
    "#     1 1 1 1\n",
    "#     1 1 1 1\n",
    "#     1 1 1 1\n",
    "#     1 1 1 1.0\n",
    "# ]\n",
    "# A = [\n",
    "#     1   2   4   5\n",
    "#     1/2 1   2   5/2\n",
    "#     1/4 1/2 1   5/4\n",
    "#     1/5 2/5 4/5 1\n",
    "# ]\n",
    "\n",
    "A = [\n",
    "    1 1 2 2\n",
    "    1 1 3 1\n",
    "    1/2 1/3 1 3\n",
    "    1/2 1 1/3 1\n",
    "]\n",
    "\n",
    "display(L\"A = %$(matrixLaTeXString(A))\")"
   ]
  },
  {
   "cell_type": "code",
   "execution_count": 4,
   "metadata": {},
   "outputs": [
    {
     "data": {
      "text/latex": [
       "$AD = \\begin{pmatrix} \\left[ 0.0, 0.528 \\right] \\\\ \\left[ 0.0, 0.532 \\right] \\\\ \\left[ 0.0, 0.785 \\right] \\\\ \\left[ 0.04, 0.413 \\right] \\end{pmatrix}$"
      ],
      "text/plain": [
       "L\"$AD = \\begin{pmatrix} \\left[ 0.0, 0.528 \\right] \\\\ \\left[ 0.0, 0.532 \\right] \\\\ \\left[ 0.0, 0.785 \\right] \\\\ \\left[ 0.04, 0.413 \\right] \\end{pmatrix}$\""
      ]
     },
     "metadata": {},
     "output_type": "display_data"
    }
   ],
   "source": [
    "solution = solveIntervalAHP(A, AD)\n",
    "W = solution.W\n",
    "# w̅̅ᴸ = solution.w̅̅ᴸ\n",
    "# w̅̅ᵁ = solution.w̅̅ᵁ\n",
    "display(L\"AD = %$(intervalVectorLaTeXString(W))\")"
   ]
  },
  {
   "cell_type": "code",
   "execution_count": 5,
   "metadata": {},
   "outputs": [
    {
     "data": {
      "text/latex": [
       "$EV = \\begin{pmatrix} \\left[ 0.164, 0.494 \\right] \\\\ \\left[ 0.081, 0.467 \\right] \\\\ \\left[ 0.051, 0.367 \\right] \\\\ \\left[ 0.028, 0.267 \\right] \\end{pmatrix}$"
      ],
      "text/plain": [
       "L\"$EV = \\begin{pmatrix} \\left[ 0.164, 0.494 \\right] \\\\ \\left[ 0.081, 0.467 \\right] \\\\ \\left[ 0.051, 0.367 \\right] \\\\ \\left[ 0.028, 0.267 \\right] \\end{pmatrix}$\""
      ]
     },
     "metadata": {},
     "output_type": "display_data"
    }
   ],
   "source": [
    "solution = solveIntervalAHP(A, EV)\n",
    "W = solution.W\n",
    "# w̅̅ᴸ = solution.w̅̅ᴸ\n",
    "# w̅̅ᵁ = solution.w̅̅ᵁ\n",
    "display(L\"EV = %$(intervalVectorLaTeXString(W))\")"
   ]
  },
  {
   "cell_type": "code",
   "execution_count": 6,
   "metadata": {},
   "outputs": [
    {
     "data": {
      "text/latex": [
       "$GM = \\begin{pmatrix} \\left[ 0.164, 0.494 \\right] \\\\ \\left[ 0.081, 0.467 \\right] \\\\ \\left[ 0.051, 0.367 \\right] \\\\ \\left[ 0.028, 0.267 \\right] \\end{pmatrix}$"
      ],
      "text/plain": [
       "L\"$GM = \\begin{pmatrix} \\left[ 0.164, 0.494 \\right] \\\\ \\left[ 0.081, 0.467 \\right] \\\\ \\left[ 0.051, 0.367 \\right] \\\\ \\left[ 0.028, 0.267 \\right] \\end{pmatrix}$\""
      ]
     },
     "metadata": {},
     "output_type": "display_data"
    }
   ],
   "source": [
    "solution = solveIntervalAHP(A, GM)\n",
    "W = solution.W\n",
    "# w̅̅ᴸ = solution.w̅̅ᴸ\n",
    "# w̅̅ᵁ = solution.w̅̅ᵁ\n",
    "display(L\"GM = %$(intervalVectorLaTeXString(W))\")"
   ]
  }
 ],
 "metadata": {
  "kernelspec": {
   "display_name": "Julia 1.9.3",
   "language": "julia",
   "name": "julia-1.9"
  },
  "language_info": {
   "file_extension": ".jl",
   "mimetype": "application/julia",
   "name": "julia",
   "version": "1.9.3"
  }
 },
 "nbformat": 4,
 "nbformat_minor": 2
}
