{
 "cells": [
  {
   "cell_type": "code",
   "execution_count": 9,
   "metadata": {},
   "outputs": [],
   "source": [
    "# import Pkg\n",
    "# Pkg.add(\"DataFrames\")\n",
    "# Pkg.add(\"CSV\")\n",
    "# Pkg.add(\"IntervalSets\")\n",
    "# Pkg.add(\"LatexStrings\")"
   ]
  },
  {
   "cell_type": "code",
   "execution_count": 10,
   "metadata": {},
   "outputs": [
    {
     "ename": "LoadError",
     "evalue": "LoadError: At /workspaces/AHP_Terauchi/src/solve-interval-ahp.jl:197: `@constraint(model, Σl = d⃰)`: No constraint expression detected. If you are trying to construct an equality constraint, use `==` instead of `=`.\nin expression starting at /workspaces/AHP_Terauchi/src/solve-interval-ahp.jl:197\nin expression starting at /workspaces/AHP_Terauchi/src/solve-interval-ahp.jl:142\nin expression starting at /workspaces/AHP_Terauchi/src/interval-weight-estimation.jl:3",
     "output_type": "error",
     "traceback": [
      "LoadError: At /workspaces/AHP_Terauchi/src/solve-interval-ahp.jl:197: `@constraint(model, Σl = d⃰)`: No constraint expression detected. If you are trying to construct an equality constraint, use `==` instead of `=`.\n",
      "in expression starting at /workspaces/AHP_Terauchi/src/solve-interval-ahp.jl:197\n",
      "in expression starting at /workspaces/AHP_Terauchi/src/solve-interval-ahp.jl:142\n",
      "in expression starting at /workspaces/AHP_Terauchi/src/interval-weight-estimation.jl:3\n",
      "\n",
      "Stacktrace:\n",
      " [1] error(::String, ::String)\n",
      "   @ Base ./error.jl:44\n",
      " [2] _macro_error(macroname::Symbol, args::Tuple{Symbol, Expr}, source::LineNumberNode, str::String)\n",
      "   @ JuMP ~/.julia/packages/JuMP/ToPd2/src/macros.jl:2225\n",
      " [3] (::JuMP.var\"#_error#90\"{Tuple{Symbol, Expr}, Symbol, LineNumberNode})(str::String)\n",
      "   @ JuMP ~/.julia/packages/JuMP/ToPd2/src/macros.jl:1250\n",
      " [4] _constraint_macro(args::Tuple{Symbol, Expr}, macro_name::Symbol, parsefun::typeof(parse_constraint), source::LineNumberNode)\n",
      "   @ JuMP ~/.julia/packages/JuMP/ToPd2/src/macros.jl:1258\n",
      " [5] var\"@constraint\"(__source__::LineNumberNode, __module__::Module, args::Vararg{Any})\n",
      "   @ JuMP ~/.julia/packages/JuMP/ToPd2/src/macros.jl:1440\n",
      " [6] include(fname::String)\n",
      "   @ Base.MainInclude ./client.jl:478\n",
      " [7] top-level scope\n",
      "   @ /workspaces/AHP_Terauchi/src/interval-weight-estimation.jl:3"
     ]
    }
   ],
   "source": [
    "using DataFrames, CSV\n",
    "using IntervalArithmetic\n",
    "using LaTeXStrings\n",
    "using Statistics\n",
    "# using Base\n",
    "include(\"./src/interval-weight-estimation.jl\")\n",
    "include(\"./src/display/display-crisp-matrix.jl\")\n",
    "include(\"./src/display/display-interval-vector.jl\")\n",
    "include(\"./src/display/display-vector.jl\")\n",
    "include(\"./src/crisp-pcm.jl\")\n",
    "include(\"./src/importance-estimation.jl\")\n",
    "include(\"./src/solve-interval-ahp.jl\")"
   ]
  },
  {
   "cell_type": "code",
   "execution_count": 11,
   "metadata": {},
   "outputs": [],
   "source": [
    "# 評価基準数\n",
    "N = 5;"
   ]
  },
  {
   "cell_type": "code",
   "execution_count": 12,
   "metadata": {},
   "outputs": [
    {
     "ename": "UndefVarError",
     "evalue": "UndefVarError: `intervalVectorLaTeXString` not defined",
     "output_type": "error",
     "traceback": [
      "UndefVarError: `intervalVectorLaTeXString` not defined\n",
      "\n",
      "Stacktrace:\n",
      " [1] top-level scope\n",
      "   @ /workspaces/AHP_Terauchi/20231124.ipynb:8"
     ]
    }
   ],
   "source": [
    "# 真の区間重要度を読み込み\n",
    "df = CSV.File(\"./src/data/N5_Given_interval_weight.csv\", header=false) |> DataFrame\n",
    "T = Vector{Interval{Float64}}() # Float64のところにTを使うとおかしくなるのはなぜか？\n",
    "for i in 1:N\n",
    "    push!(T, interval(df[1, 2*i-1], df[1, 2*i]))\n",
    "end\n",
    "\n",
    "display(L\"T = %$(intervalVectorLaTeXString(T))\")"
   ]
  },
  {
   "cell_type": "code",
   "execution_count": 13,
   "metadata": {},
   "outputs": [
    {
     "ename": "UndefVarError",
     "evalue": "UndefVarError: `split_dataframe` not defined",
     "output_type": "error",
     "traceback": [
      "UndefVarError: `split_dataframe` not defined\n",
      "\n",
      "Stacktrace:\n",
      " [1] top-level scope\n",
      "   @ /workspaces/AHP_Terauchi/20231124.ipynb:5"
     ]
    }
   ],
   "source": [
    "# 一対比較行列を1000個読み込み\n",
    "df1 = CSV.File(\"./src/data/N5_a3_C_PCM_int.csv\", header=false) |> DataFrame\n",
    "\n",
    "# データフレームをN×Nのサブデータフレームに分割\n",
    "subdfs = split_dataframe(df1, N);"
   ]
  },
  {
   "cell_type": "code",
   "execution_count": 14,
   "metadata": {},
   "outputs": [
    {
     "ename": "UndefVarError",
     "evalue": "UndefVarError: `subdfs` not defined",
     "output_type": "error",
     "traceback": [
      "UndefVarError: `subdfs` not defined\n",
      "\n",
      "Stacktrace:\n",
      " [1] top-level scope\n",
      "   @ /workspaces/AHP_Terauchi/20231124.ipynb:8"
     ]
    }
   ],
   "source": [
    "# 結果格納用\n",
    "P = Matrix{Float64}(undef, N, 1000)\n",
    "Q = Matrix{Float64}(undef, N, 1000)\n",
    "R = Matrix{Float64}(undef, N, 1000)\n",
    "F = Matrix{Float64}(undef, N, 1000)\n",
    "\n",
    "# 1000個のデータで推定\n",
    "for (i, subdf) in enumerate(subdfs)\n",
    "\n",
    "    # 一対比較行列を取り出す\n",
    "    A = Matrix(subdf)\n",
    "    # display(L\"A = %$(matrixLaTeXString(A))\")\n",
    "\n",
    "    # 提案手法で区間重要度推定\n",
    "    solution = solveIntervalAHP(A, AD)\n",
    "    E = solution.W # 区間重要度の推定値\n",
    "    # display(L\"E = %$(intervalVectorLaTeXString(E))\")\n",
    "    # display(L\"T = %$(intervalVectorLaTeXString(T))\")\n",
    "\n",
    "    TcapE = T .∩ E # 真の区間重要度と推定値の積集合\n",
    "    TcupE = T .∪ E # 真の区間重要度と推定値の和集合\n",
    "    # display(L\"T ∩ E = %$(intervalVectorLaTeXString(TcapE))\")\n",
    "    # display(L\"T ∪ E = %$(intervalVectorLaTeXString(TcupE))\")\n",
    "    \n",
    "    # P, Q, R, F の計算\n",
    "    P[:, i] = calculate_P(T, E) # 真の区間重要度と推定値の積集合の割合\n",
    "    Q[:, i] = calculate_Q(T, E) # 真の区間重要度と推定値の積集合の割合\n",
    "    R[:, i] = calculate_R(T, E) # 真の区間重要度と推定値の積集合の割合\n",
    "    F[:, i] = calculate_F(T, E) # F値\n",
    "    display(L\"P = %$(VectorLaTeXString(P[:,i]))\")\n",
    "    display(L\"Q = %$(VectorLaTeXString(Q[:,i]))\")\n",
    "    display(L\"R = %$(VectorLaTeXString(R[:,i]))\")\n",
    "    display(L\"F = %$(VectorLaTeXString(F[:,i]))\")\n",
    "end"
   ]
  },
  {
   "cell_type": "code",
   "execution_count": 15,
   "metadata": {},
   "outputs": [
    {
     "data": {
      "text/latex": [
       "$Pₐᵥₑ = -3.8302348425794414e281$"
      ],
      "text/plain": [
       "L\"$Pₐᵥₑ = -3.8302348425794414e281$\""
      ]
     },
     "metadata": {},
     "output_type": "display_data"
    },
    {
     "data": {
      "text/latex": [
       "$Qₐᵥₑ = 0.0$"
      ],
      "text/plain": [
       "L\"$Qₐᵥₑ = 0.0$\""
      ]
     },
     "metadata": {},
     "output_type": "display_data"
    },
    {
     "data": {
      "text/latex": [
       "$Rₐᵥₑ = NaN$"
      ],
      "text/plain": [
       "L\"$Rₐᵥₑ = NaN$\""
      ]
     },
     "metadata": {},
     "output_type": "display_data"
    },
    {
     "data": {
      "text/latex": [
       "$Fₐᵥₑ = 3.1829$"
      ],
      "text/plain": [
       "L\"$Fₐᵥₑ = 3.1829$\""
      ]
     },
     "metadata": {},
     "output_type": "display_data"
    }
   ],
   "source": [
    "P_ave = mean(P)\n",
    "Q_ave = mean(Q)\n",
    "R_ave = mean(R)\n",
    "F_ave = mean(F)\n",
    "display(L\"Pₐᵥₑ = %$(round(P_ave, digits=5))\")\n",
    "display(L\"Qₐᵥₑ = %$(round(Q_ave, digits=5))\")\n",
    "display(L\"Rₐᵥₑ = %$(round(R_ave, digits=5))\")\n",
    "display(L\"Fₐᵥₑ = %$(round(F_ave, digits=5))\")"
   ]
  },
  {
   "cell_type": "code",
   "execution_count": 16,
   "metadata": {},
   "outputs": [
    {
     "data": {
      "text/latex": [
       "$Pᵥₐᵣ = Inf$"
      ],
      "text/plain": [
       "L\"$Pᵥₐᵣ = Inf$\""
      ]
     },
     "metadata": {},
     "output_type": "display_data"
    },
    {
     "data": {
      "text/latex": [
       "$Qᵥₐᵣ = 0.0$"
      ],
      "text/plain": [
       "L\"$Qᵥₐᵣ = 0.0$\""
      ]
     },
     "metadata": {},
     "output_type": "display_data"
    },
    {
     "data": {
      "text/latex": [
       "$Rᵥₐᵣ = NaN$"
      ],
      "text/plain": [
       "L\"$Rᵥₐᵣ = NaN$\""
      ]
     },
     "metadata": {},
     "output_type": "display_data"
    },
    {
     "data": {
      "text/latex": [
       "$Fᵥₐᵣ = 5.56641$"
      ],
      "text/plain": [
       "L\"$Fᵥₐᵣ = 5.56641$\""
      ]
     },
     "metadata": {},
     "output_type": "display_data"
    }
   ],
   "source": [
    "P_var = var(P)\n",
    "Q_var = var(Q)\n",
    "R_var = var(R)\n",
    "F_var = var(F)\n",
    "display(L\"Pᵥₐᵣ = %$(round(P_var, digits=5))\")\n",
    "display(L\"Qᵥₐᵣ = %$(round(Q_var, digits=5))\")\n",
    "display(L\"Rᵥₐᵣ = %$(round(R_var, digits=5))\")\n",
    "display(L\"Fᵥₐᵣ = %$(round(F_var, digits=5))\")"
   ]
  }
 ],
 "metadata": {
  "kernelspec": {
   "display_name": "Julia 1.9.3",
   "language": "julia",
   "name": "julia-1.9"
  },
  "language_info": {
   "file_extension": ".jl",
   "mimetype": "application/julia",
   "name": "julia",
   "version": "1.9.3"
  }
 },
 "nbformat": 4,
 "nbformat_minor": 2
}
