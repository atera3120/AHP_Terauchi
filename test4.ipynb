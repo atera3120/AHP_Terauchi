{
 "cells": [
  {
   "cell_type": "code",
   "execution_count": 18,
   "metadata": {},
   "outputs": [],
   "source": [
    "# import Pkg\n",
    "# Pkg.add(\"DataFrames\")\n",
    "# Pkg.add(\"CSV\")\n",
    "# Pkg.add(\"IntervalSets\")\n",
    "# Pkg.add(\"LatexStrings\")"
   ]
  },
  {
   "cell_type": "code",
   "execution_count": 19,
   "metadata": {},
   "outputs": [
    {
     "data": {
      "text/plain": [
       "MMR_W (generic function with 1 method)"
      ]
     },
     "metadata": {},
     "output_type": "display_data"
    }
   ],
   "source": [
    "using DataFrames, CSV\n",
    "using IntervalArithmetic\n",
    "using LaTeXStrings\n",
    "using Statistics\n",
    "# using Base\n",
    "include(\"./src/interval-weight-estimation.jl\")\n",
    "include(\"./src/display/display-crisp-matrix.jl\")\n",
    "include(\"./src/display/display-interval-vector.jl\")\n",
    "include(\"./src/display/display-vector.jl\")\n",
    "include(\"./src/crisp-pcm.jl\")\n",
    "include(\"./src/importance-estimation.jl\")\n",
    "include(\"./src/MMR-W.jl\")"
   ]
  },
  {
   "cell_type": "code",
   "execution_count": 20,
   "metadata": {},
   "outputs": [],
   "source": [
    "# 評価基準数\n",
    "N = 5;"
   ]
  },
  {
   "cell_type": "code",
   "execution_count": 21,
   "metadata": {},
   "outputs": [
    {
     "data": {
      "text/latex": [
       "$T = \\begin{pmatrix} \\left[ 0.27, 0.33 \\right] \\\\ \\left[ 0.21, 0.29 \\right] \\\\ \\left[ 0.15, 0.25 \\right] \\\\ \\left[ 0.09, 0.21 \\right] \\\\ \\left[ 0.03, 0.17 \\right] \\end{pmatrix}$"
      ],
      "text/plain": [
       "L\"$T = \\begin{pmatrix} \\left[ 0.27, 0.33 \\right] \\\\ \\left[ 0.21, 0.29 \\right] \\\\ \\left[ 0.15, 0.25 \\right] \\\\ \\left[ 0.09, 0.21 \\right] \\\\ \\left[ 0.03, 0.17 \\right] \\end{pmatrix}$\""
      ]
     },
     "metadata": {},
     "output_type": "display_data"
    }
   ],
   "source": [
    "# 真の区間重要度を読み込み\n",
    "df = CSV.File(\"./src/data/N5_Given_interval_weight.csv\", header=false) |> DataFrame\n",
    "T = Vector{Interval{Float64}}() # Float64のところにTを使うとおかしくなるのはなぜか？\n",
    "for i in 1:N\n",
    "    push!(T, interval(df[1, 2*i-1], df[1, 2*i]))\n",
    "end\n",
    "\n",
    "display(L\"T = %$(intervalVectorLaTeXString(T))\")"
   ]
  },
  {
   "cell_type": "code",
   "execution_count": 22,
   "metadata": {},
   "outputs": [],
   "source": [
    "# 一対比較行列を1000個読み込み\n",
    "df1 = CSV.File(\"./src/data/N5_a3_A_PCM_int.csv\", header=false) |> DataFrame\n",
    "\n",
    "# データフレームをN×Nのサブデータフレームに分割\n",
    "subdfs = split_dataframe(df1, N);"
   ]
  },
  {
   "cell_type": "code",
   "execution_count": 23,
   "metadata": {},
   "outputs": [
    {
     "ename": "MethodError",
     "evalue": "MethodError: no method matching phase2_jump(::Matrix{Float64}, ::Vector{Float64}, ::Int64, ::Int64)\n\nClosest candidates are:\n  phase2_jump(::Matrix{T}, !Matched::Matrix{T}, ::Int64, ::Int64) where T<:Real\n   @ Main /workspaces/AHP_Terauchi/src/MMR-W.jl:29\n",
     "output_type": "error",
     "traceback": [
      "MethodError: no method matching phase2_jump(::Matrix{Float64}, ::Vector{Float64}, ::Int64, ::Int64)\n",
      "\n",
      "Closest candidates are:\n",
      "  phase2_jump(::Matrix{T}, !Matched::Matrix{T}, ::Int64, ::Int64) where T<:Real\n",
      "   @ Main /workspaces/AHP_Terauchi/src/MMR-W.jl:29\n",
      "\n",
      "\n",
      "Stacktrace:\n",
      " [1] MMR_W(A::Matrix{Float64}, method::typeof(EV))\n",
      "   @ Main /workspaces/AHP_Terauchi/src/MMR-W.jl:142\n",
      " [2] top-level scope\n",
      "   @ /workspaces/AHP_Terauchi/test4.ipynb:15"
     ]
    }
   ],
   "source": [
    "# 結果格納用\n",
    "P = Matrix{Float64}(undef, N, 1000)\n",
    "Q = Matrix{Float64}(undef, N, 1000)\n",
    "R = Matrix{Float64}(undef, N, 1000)\n",
    "F = Matrix{Float64}(undef, N, 1000)\n",
    "\n",
    "# 1000個のデータで推定\n",
    "for (i, subdf) in enumerate(subdfs)\n",
    "\n",
    "    # 一対比較行列を取り出す\n",
    "    A = Matrix(subdf)\n",
    "    # display(L\"A = %$(matrixLaTeXString(A))\")\n",
    "\n",
    "    # 提案手法で区間重要度推定\n",
    "    solution = MMR_W(A, EV)\n",
    "    E = solution.W # 区間重要度の推定値\n",
    "    # display(L\"E = %$(intervalVectorLaTeXString(E))\")\n",
    "    # display(L\"T = %$(intervalVectorLaTeXString(T))\")\n",
    "\n",
    "    TcapE = T .∩ E # 真の区間重要度と推定値の積集合\n",
    "    TcupE = T .∪ E # 真の区間重要度と推定値の和集合\n",
    "    # display(L\"T ∩ E = %$(intervalVectorLaTeXString(TcapE))\")\n",
    "    # display(L\"T ∪ E = %$(intervalVectorLaTeXString(TcupE))\")\n",
    "    \n",
    "    # P, Q, R, F の計算\n",
    "    P[:, i] = calculate_P(T, E) # 真の区間重要度と推定値の積集合の割合\n",
    "    Q[:, i] = calculate_Q(T, E) # 真の区間重要度と推定値の積集合の割合\n",
    "    R[:, i] = calculate_R(T, E) # 真の区間重要度と推定値の積集合の割合\n",
    "    F[:, i] = calculate_F(T, E) # F値\n",
    "    display(L\"P = %$(VectorLaTeXString(P[:,i]))\")\n",
    "    display(L\"Q = %$(VectorLaTeXString(Q[:,i]))\")\n",
    "    display(L\"R = %$(VectorLaTeXString(R[:,i]))\")\n",
    "    display(L\"F = %$(VectorLaTeXString(F[:,i]))\")\n",
    "end"
   ]
  },
  {
   "cell_type": "code",
   "execution_count": 24,
   "metadata": {},
   "outputs": [
    {
     "data": {
      "text/latex": [
       "$Pₐᵥₑ = NaN$"
      ],
      "text/plain": [
       "L\"$Pₐᵥₑ = NaN$\""
      ]
     },
     "metadata": {},
     "output_type": "display_data"
    },
    {
     "data": {
      "text/latex": [
       "$Qₐᵥₑ = NaN$"
      ],
      "text/plain": [
       "L\"$Qₐᵥₑ = NaN$\""
      ]
     },
     "metadata": {},
     "output_type": "display_data"
    },
    {
     "data": {
      "text/latex": [
       "$Rₐᵥₑ = NaN$"
      ],
      "text/plain": [
       "L\"$Rₐᵥₑ = NaN$\""
      ]
     },
     "metadata": {},
     "output_type": "display_data"
    },
    {
     "data": {
      "text/latex": [
       "$Fₐᵥₑ = NaN$"
      ],
      "text/plain": [
       "L\"$Fₐᵥₑ = NaN$\""
      ]
     },
     "metadata": {},
     "output_type": "display_data"
    }
   ],
   "source": [
    "P_ave = mean(P)\n",
    "Q_ave = mean(Q)\n",
    "R_ave = mean(R)\n",
    "F_ave = mean(F)\n",
    "display(L\"Pₐᵥₑ = %$(round(P_ave, digits=5))\")\n",
    "display(L\"Qₐᵥₑ = %$(round(Q_ave, digits=5))\")\n",
    "display(L\"Rₐᵥₑ = %$(round(R_ave, digits=5))\")\n",
    "display(L\"Fₐᵥₑ = %$(round(F_ave, digits=5))\")"
   ]
  },
  {
   "cell_type": "code",
   "execution_count": 25,
   "metadata": {},
   "outputs": [
    {
     "data": {
      "text/latex": [
       "$Pᵥₐᵣ = NaN$"
      ],
      "text/plain": [
       "L\"$Pᵥₐᵣ = NaN$\""
      ]
     },
     "metadata": {},
     "output_type": "display_data"
    },
    {
     "data": {
      "text/latex": [
       "$Qᵥₐᵣ = NaN$"
      ],
      "text/plain": [
       "L\"$Qᵥₐᵣ = NaN$\""
      ]
     },
     "metadata": {},
     "output_type": "display_data"
    },
    {
     "data": {
      "text/latex": [
       "$Rᵥₐᵣ = NaN$"
      ],
      "text/plain": [
       "L\"$Rᵥₐᵣ = NaN$\""
      ]
     },
     "metadata": {},
     "output_type": "display_data"
    },
    {
     "data": {
      "text/latex": [
       "$Fᵥₐᵣ = NaN$"
      ],
      "text/plain": [
       "L\"$Fᵥₐᵣ = NaN$\""
      ]
     },
     "metadata": {},
     "output_type": "display_data"
    }
   ],
   "source": [
    "P_var = var(P)\n",
    "Q_var = var(Q)\n",
    "R_var = var(R)\n",
    "F_var = var(F)\n",
    "display(L\"Pᵥₐᵣ = %$(round(P_var, digits=5))\")\n",
    "display(L\"Qᵥₐᵣ = %$(round(Q_var, digits=5))\")\n",
    "display(L\"Rᵥₐᵣ = %$(round(R_var, digits=5))\")\n",
    "display(L\"Fᵥₐᵣ = %$(round(F_var, digits=5))\")"
   ]
  }
 ],
 "metadata": {
  "kernelspec": {
   "display_name": "Julia 1.9.3",
   "language": "julia",
   "name": "julia-1.9"
  },
  "language_info": {
   "file_extension": ".jl",
   "mimetype": "application/julia",
   "name": "julia",
   "version": "1.9.3"
  }
 },
 "nbformat": 4,
 "nbformat_minor": 2
}
